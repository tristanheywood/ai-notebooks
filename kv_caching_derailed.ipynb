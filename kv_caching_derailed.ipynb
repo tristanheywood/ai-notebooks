{
 "cells": [
  {
   "attachments": {},
   "cell_type": "markdown",
   "metadata": {},
   "source": [
    "Notebook to explore caching computed keys and values. Problems to solve:\n",
    "- How to use flax to store these as variables\n",
    "- Will they fit in memory?"
   ]
  },
  {
   "cell_type": "code",
   "execution_count": 23,
   "metadata": {},
   "outputs": [],
   "source": [
    "from nimblegpt import get_config_for"
   ]
  },
  {
   "cell_type": "code",
   "execution_count": 24,
   "metadata": {},
   "outputs": [],
   "source": [
    "config = get_config_for(\"gpt2\")"
   ]
  },
  {
   "cell_type": "code",
   "execution_count": 25,
   "metadata": {},
   "outputs": [
    {
     "data": {
      "text/plain": [
       "attn_pdrop: 0.1\n",
       "block_size: 1024\n",
       "embd_pdrop: 0.1\n",
       "model_type: gpt2\n",
       "n_embd: 768\n",
       "n_head: 12\n",
       "n_layer: 12\n",
       "resid_pdrop: 0.1\n",
       "vocab_size: 50257"
      ]
     },
     "execution_count": 25,
     "metadata": {},
     "output_type": "execute_result"
    }
   ],
   "source": [
    "config"
   ]
  },
  {
   "cell_type": "code",
   "execution_count": 26,
   "metadata": {},
   "outputs": [
    {
     "data": {
      "text/plain": [
       "'1,572,864'"
      ]
     },
     "execution_count": 26,
     "metadata": {},
     "output_type": "execute_result"
    }
   ],
   "source": [
    "n_feat = config.n_embd // config.n_head\n",
    "# Q/K/V are [config.block_size, n_feat]\n",
    "n_cache_params = config.block_size * n_feat * 2 * config.n_layer\n",
    "f\"{n_cache_params:,}\""
   ]
  },
  {
   "attachments": {},
   "cell_type": "markdown",
   "metadata": {},
   "source": [
    "K/V parameters for the entire context are on the order of 1 MB."
   ]
  },
  {
   "attachments": {},
   "cell_type": "markdown",
   "metadata": {},
   "source": [
    "# Test how parameters are named with using pmodel"
   ]
  },
  {
   "cell_type": "code",
   "execution_count": 27,
   "metadata": {},
   "outputs": [],
   "source": [
    "import jax\n",
    "import jax.numpy as jnp\n",
    "import flax.linen as nn\n",
    "from functools import partial, partialmethod"
   ]
  },
  {
   "cell_type": "code",
   "execution_count": 28,
   "metadata": {},
   "outputs": [
    {
     "name": "stdout",
     "output_type": "stream",
     "text": [
      "The autoreload extension is already loaded. To reload it, use:\n",
      "  %reload_ext autoreload\n"
     ]
    }
   ],
   "source": [
    "%load_ext autoreload\n",
    "%autoreload 2"
   ]
  },
  {
   "cell_type": "code",
   "execution_count": 29,
   "metadata": {},
   "outputs": [],
   "source": [
    "from nimblegpt.kernels import pmodel\n",
    "from nimblegpt.jmodel import JSingleHeadCausalSelfAttention\n",
    "from nimblegpt import param_shapes"
   ]
  },
  {
   "cell_type": "code",
   "execution_count": 30,
   "metadata": {},
   "outputs": [],
   "source": [
    "def partialclass(cls, *args, **kwargs):\n",
    "    class PartialClass(cls):\n",
    "        __init__ = partialmethod(cls.__init__, *args, **kwargs)\n",
    "    return PartialClass"
   ]
  },
  {
   "cell_type": "code",
   "execution_count": 31,
   "metadata": {},
   "outputs": [],
   "source": [
    "class A(nn.Module):\n",
    "    name = \"meme\"\n",
    "    __name__ = \"meme3\"\n",
    "A.__name__ = \"meme2\""
   ]
  },
  {
   "cell_type": "code",
   "execution_count": 32,
   "metadata": {},
   "outputs": [
    {
     "data": {
      "text/plain": [
       "'meme2'"
      ]
     },
     "execution_count": 32,
     "metadata": {},
     "output_type": "execute_result"
    }
   ],
   "source": [
    "A().__class__.__name__"
   ]
  },
  {
   "cell_type": "code",
   "execution_count": 33,
   "metadata": {},
   "outputs": [],
   "source": [
    "class B(A):\n",
    "    pass"
   ]
  },
  {
   "cell_type": "code",
   "execution_count": 34,
   "metadata": {},
   "outputs": [
    {
     "data": {
      "text/plain": [
       "'B'"
      ]
     },
     "execution_count": 34,
     "metadata": {},
     "output_type": "execute_result"
    }
   ],
   "source": [
    "B().__class__.__name__"
   ]
  },
  {
   "cell_type": "code",
   "execution_count": null,
   "metadata": {},
   "outputs": [],
   "source": []
  },
  {
   "cell_type": "code",
   "execution_count": 35,
   "metadata": {},
   "outputs": [],
   "source": [
    "A.name"
   ]
  },
  {
   "cell_type": "code",
   "execution_count": 36,
   "metadata": {},
   "outputs": [],
   "source": [
    "A().name"
   ]
  },
  {
   "cell_type": "code",
   "execution_count": 37,
   "metadata": {},
   "outputs": [
    {
     "data": {
      "text/plain": [
       "mappingproxy({'__module__': '__main__',\n",
       "              'name': None,\n",
       "              '__name__': 'meme3',\n",
       "              '__doc__': 'A(parent: Union[Type[flax.linen.module.Module], Type[flax.core.scope.Scope], Type[flax.linen.module._Sentinel], NoneType] = <flax.linen.module._Sentinel object at 0x7f317eb37040>, name: Optional[str] = None)',\n",
       "              '__annotations__': {'parent': typing.Union[typing.Type[flax.linen.module.Module], typing.Type[flax.core.scope.Scope], typing.Type[flax.linen.module._Sentinel], NoneType],\n",
       "               'name': typing.Optional[str]},\n",
       "              'parent': <flax.linen.module.ParentDescriptor at 0x7f31b1ea6440>,\n",
       "              '__dataclass_params__': _DataclassParams(init=True,repr=False,eq=True,order=False,unsafe_hash=True,frozen=False),\n",
       "              '__dataclass_fields__': {'parent': Field(name='parent',type=typing.Union[typing.Type[flax.linen.module.Module], typing.Type[flax.core.scope.Scope], typing.Type[flax.linen.module._Sentinel], NoneType],default=<flax.linen.module._Sentinel object at 0x7f317eb37040>,default_factory=<dataclasses._MISSING_TYPE object at 0x7f31c579fc70>,init=True,repr=False,hash=None,compare=True,metadata=mappingproxy({KW_ONLY: True}),kw_only=False,_field_type=_FIELD),\n",
       "               'name': Field(name='name',type=typing.Optional[str],default=None,default_factory=<dataclasses._MISSING_TYPE object at 0x7f31c579fc70>,init=True,repr=True,hash=None,compare=True,metadata=mappingproxy({KW_ONLY: True}),kw_only=False,_field_type=_FIELD)},\n",
       "              '__init__': <function __main__.A.__init__(self, parent: Union[Type[flax.linen.module.Module], Type[flax.core.scope.Scope], Type[flax.linen.module._Sentinel], NoneType] = <flax.linen.module._Sentinel object at 0x7f317eb37040>, name: Optional[str] = None) -> None>,\n",
       "              '__eq__': <function __main__.A.__eq__(self, other)>,\n",
       "              '__hash__': <function __main__.A.__hash__(self)>,\n",
       "              '__match_args__': ('parent', 'name'),\n",
       "              '_state': _ModuleInternalState(in_compact_method=False, in_setup=False, setup_called=<SetupState.NEW: 0>, is_initialized=False, autoname_cursor={}, children={}),\n",
       "              'scope': None,\n",
       "              '_parent_ref': None})"
      ]
     },
     "execution_count": 37,
     "metadata": {},
     "output_type": "execute_result"
    }
   ],
   "source": [
    "A.__dict__"
   ]
  },
  {
   "cell_type": "code",
   "execution_count": 38,
   "metadata": {},
   "outputs": [],
   "source": [
    "class B():\n",
    "    name = \"meme2\""
   ]
  },
  {
   "cell_type": "code",
   "execution_count": 39,
   "metadata": {},
   "outputs": [
    {
     "data": {
      "text/plain": [
       "'meme2'"
      ]
     },
     "execution_count": 39,
     "metadata": {},
     "output_type": "execute_result"
    }
   ],
   "source": [
    "B.name"
   ]
  },
  {
   "cell_type": "code",
   "execution_count": 40,
   "metadata": {},
   "outputs": [
    {
     "data": {
      "text/plain": [
       "'meme2'"
      ]
     },
     "execution_count": 40,
     "metadata": {},
     "output_type": "execute_result"
    }
   ],
   "source": [
    "B().name"
   ]
  },
  {
   "cell_type": "code",
   "execution_count": 41,
   "metadata": {},
   "outputs": [],
   "source": [
    "gpt_module = pmodel.PGPT.MakeWithSHCSA(config, JSingleHeadCausalSelfAttention)"
   ]
  },
  {
   "cell_type": "code",
   "execution_count": 42,
   "metadata": {},
   "outputs": [
    {
     "name": "stdout",
     "output_type": "stream",
     "text": [
      "\u001b[0;31mSignature:\u001b[0m\n",
      "\u001b[0mJSingleHeadCausalSelfAttention\u001b[0m\u001b[0;34m.\u001b[0m\u001b[0m__init__\u001b[0m\u001b[0;34m(\u001b[0m\u001b[0;34m\u001b[0m\n",
      "\u001b[0;34m\u001b[0m    \u001b[0mself\u001b[0m\u001b[0;34m,\u001b[0m\u001b[0;34m\u001b[0m\n",
      "\u001b[0;34m\u001b[0m    \u001b[0mn_feat\u001b[0m\u001b[0;34m:\u001b[0m \u001b[0mint\u001b[0m\u001b[0;34m,\u001b[0m\u001b[0;34m\u001b[0m\n",
      "\u001b[0;34m\u001b[0m    \u001b[0mparent\u001b[0m\u001b[0;34m:\u001b[0m \u001b[0mUnion\u001b[0m\u001b[0;34m[\u001b[0m\u001b[0mType\u001b[0m\u001b[0;34m[\u001b[0m\u001b[0mflax\u001b[0m\u001b[0;34m.\u001b[0m\u001b[0mlinen\u001b[0m\u001b[0;34m.\u001b[0m\u001b[0mmodule\u001b[0m\u001b[0;34m.\u001b[0m\u001b[0mModule\u001b[0m\u001b[0;34m]\u001b[0m\u001b[0;34m,\u001b[0m \u001b[0mType\u001b[0m\u001b[0;34m[\u001b[0m\u001b[0mflax\u001b[0m\u001b[0;34m.\u001b[0m\u001b[0mcore\u001b[0m\u001b[0;34m.\u001b[0m\u001b[0mscope\u001b[0m\u001b[0;34m.\u001b[0m\u001b[0mScope\u001b[0m\u001b[0;34m]\u001b[0m\u001b[0;34m,\u001b[0m \u001b[0mType\u001b[0m\u001b[0;34m[\u001b[0m\u001b[0mflax\u001b[0m\u001b[0;34m.\u001b[0m\u001b[0mlinen\u001b[0m\u001b[0;34m.\u001b[0m\u001b[0mmodule\u001b[0m\u001b[0;34m.\u001b[0m\u001b[0m_Sentinel\u001b[0m\u001b[0;34m]\u001b[0m\u001b[0;34m,\u001b[0m \u001b[0mNoneType\u001b[0m\u001b[0;34m]\u001b[0m \u001b[0;34m=\u001b[0m \u001b[0;34m<\u001b[0m\u001b[0mflax\u001b[0m\u001b[0;34m.\u001b[0m\u001b[0mlinen\u001b[0m\u001b[0;34m.\u001b[0m\u001b[0mmodule\u001b[0m\u001b[0;34m.\u001b[0m\u001b[0m_Sentinel\u001b[0m \u001b[0mobject\u001b[0m \u001b[0mat\u001b[0m \u001b[0;36m0x7f317eb37040\u001b[0m\u001b[0;34m>\u001b[0m\u001b[0;34m,\u001b[0m\u001b[0;34m\u001b[0m\n",
      "\u001b[0;34m\u001b[0m    \u001b[0mname\u001b[0m\u001b[0;34m:\u001b[0m \u001b[0mOptional\u001b[0m\u001b[0;34m[\u001b[0m\u001b[0mstr\u001b[0m\u001b[0;34m]\u001b[0m \u001b[0;34m=\u001b[0m \u001b[0;32mNone\u001b[0m\u001b[0;34m,\u001b[0m\u001b[0;34m\u001b[0m\n",
      "\u001b[0;34m\u001b[0m\u001b[0;34m)\u001b[0m \u001b[0;34m->\u001b[0m \u001b[0;32mNone\u001b[0m\u001b[0;34m\u001b[0m\u001b[0;34m\u001b[0m\u001b[0m\n",
      "\u001b[0;31mDocstring:\u001b[0m Initialize self.  See help(type(self)) for accurate signature.\n",
      "\u001b[0;31mFile:\u001b[0m      Dynamically generated function. No source code available.\n",
      "\u001b[0;31mType:\u001b[0m      function\n"
     ]
    }
   ],
   "source": [
    "JSingleHeadCausalSelfAttention.__init__??"
   ]
  },
  {
   "cell_type": "code",
   "execution_count": 43,
   "metadata": {},
   "outputs": [
    {
     "data": {
      "text/plain": [
       "FrozenDict({\n",
       "    params: {\n",
       "        Dense_0: {\n",
       "            kernel: Array([[-0.38087067, -0.2863471 , -0.17491162,  0.07998355,  0.378069  ,\n",
       "                     0.9020071 ],\n",
       "                   [ 0.3810474 ,  0.5744289 , -0.79939866, -0.18784852,  0.61980057,\n",
       "                    -0.6187186 ],\n",
       "                   [-0.01715958, -0.4304841 ,  0.10749505, -0.85787666,  0.5338018 ,\n",
       "                     0.9018709 ],\n",
       "                   [-0.26826772,  0.44272065, -0.07614978,  0.26189852,  0.8921967 ,\n",
       "                     0.39000404]], dtype=float32),\n",
       "            bias: Array([0., 0., 0., 0., 0., 0.], dtype=float32),\n",
       "        },\n",
       "    },\n",
       "})"
      ]
     },
     "execution_count": 43,
     "metadata": {},
     "output_type": "execute_result"
    }
   ],
   "source": [
    "JSingleHeadCausalSelfAttention(n_feat=2).init(jax.random.PRNGKey(0), jnp.ones((3, 4)))"
   ]
  },
  {
   "cell_type": "code",
   "execution_count": 44,
   "metadata": {},
   "outputs": [],
   "source": [
    "gpt_module.name"
   ]
  },
  {
   "cell_type": "code",
   "execution_count": 45,
   "metadata": {},
   "outputs": [],
   "source": [
    "class Test:\n",
    "\n",
    "    def __setattr__(self, name, val):\n",
    "        print(name, val)\n",
    "\n",
    "t = Test()"
   ]
  },
  {
   "cell_type": "code",
   "execution_count": 46,
   "metadata": {},
   "outputs": [
    {
     "name": "stdout",
     "output_type": "stream",
     "text": [
      "name meme\n"
     ]
    }
   ],
   "source": [
    "t.name = \"meme\""
   ]
  },
  {
   "cell_type": "code",
   "execution_count": 47,
   "metadata": {},
   "outputs": [
    {
     "name": "stdout",
     "output_type": "stream",
     "text": [
      "name meme\n"
     ]
    }
   ],
   "source": [
    "setattr(t, \"name\", \"meme\")"
   ]
  },
  {
   "cell_type": "code",
   "execution_count": 48,
   "metadata": {},
   "outputs": [],
   "source": [
    "t.__dict__[\"name\"] = \"meme\""
   ]
  },
  {
   "cell_type": "code",
   "execution_count": 49,
   "metadata": {},
   "outputs": [
    {
     "data": {
      "text/plain": [
       "'meme'"
      ]
     },
     "execution_count": 49,
     "metadata": {},
     "output_type": "execute_result"
    }
   ],
   "source": [
    "t.name"
   ]
  },
  {
   "cell_type": "code",
   "execution_count": 50,
   "metadata": {},
   "outputs": [],
   "source": [
    "params = gpt_module.init(jax.random.PRNGKey(0), jnp.ones((3,), dtype=jnp.int32))"
   ]
  },
  {
   "cell_type": "code",
   "execution_count": 51,
   "metadata": {},
   "outputs": [
    {
     "data": {
      "text/plain": [
       "Array([[ 1.1961181 ,  0.99947613, -1.8678186 , ..., -0.02459382,\n",
       "         0.46241692,  1.0360956 ],\n",
       "       [ 0.937554  ,  1.1457242 , -1.8385999 , ..., -0.32137394,\n",
       "         0.5954865 ,  0.5541202 ],\n",
       "       [ 1.0446986 ,  1.1978903 , -1.7543857 , ..., -0.48017293,\n",
       "         0.79395825,  0.53017473]], dtype=float32)"
      ]
     },
     "execution_count": 51,
     "metadata": {},
     "output_type": "execute_result"
    }
   ],
   "source": [
    "gpt_module.apply(params, jnp.ones((3,), dtype=jnp.int32))"
   ]
  },
  {
   "cell_type": "code",
   "execution_count": 52,
   "metadata": {},
   "outputs": [
    {
     "data": {
      "text/plain": [
       "{'params': {'Embed_0': {'embedding': '(50257, 768)'},\n",
       "  'Embed_1': {'embedding': '(1024, 768)'},\n",
       "  'Block_0': {'LayerNorm_0': {'scale': '(768)', 'bias': '(768)'},\n",
       "   'CausalSelfAttention_0': {'VmapSingleHeadCausalSelfAttention_0': {'Dense_0': {'bias': '(12, 192)',\n",
       "      'kernel': '(12, 768, 192)'}},\n",
       "    'Dense_0': {'kernel': '(768, 768)', 'bias': '(768)'}},\n",
       "   'LayerNorm_1': {'scale': '(768)', 'bias': '(768)'},\n",
       "   'Dense_0': {'kernel': '(768, 3072)', 'bias': '(3072)'},\n",
       "   'Dense_1': {'kernel': '(3072, 768)', 'bias': '(768)'}},\n",
       "  'Block_1': {'LayerNorm_0': {'scale': '(768)', 'bias': '(768)'},\n",
       "   'CausalSelfAttention_0': {'VmapSingleHeadCausalSelfAttention_0': {'Dense_0': {'bias': '(12, 192)',\n",
       "      'kernel': '(12, 768, 192)'}},\n",
       "    'Dense_0': {'kernel': '(768, 768)', 'bias': '(768)'}},\n",
       "   'LayerNorm_1': {'scale': '(768)', 'bias': '(768)'},\n",
       "   'Dense_0': {'kernel': '(768, 3072)', 'bias': '(3072)'},\n",
       "   'Dense_1': {'kernel': '(3072, 768)', 'bias': '(768)'}},\n",
       "  'Block_2': {'LayerNorm_0': {'scale': '(768)', 'bias': '(768)'},\n",
       "   'CausalSelfAttention_0': {'VmapSingleHeadCausalSelfAttention_0': {'Dense_0': {'bias': '(12, 192)',\n",
       "      'kernel': '(12, 768, 192)'}},\n",
       "    'Dense_0': {'kernel': '(768, 768)', 'bias': '(768)'}},\n",
       "   'LayerNorm_1': {'scale': '(768)', 'bias': '(768)'},\n",
       "   'Dense_0': {'kernel': '(768, 3072)', 'bias': '(3072)'},\n",
       "   'Dense_1': {'kernel': '(3072, 768)', 'bias': '(768)'}},\n",
       "  'Block_3': {'LayerNorm_0': {'scale': '(768)', 'bias': '(768)'},\n",
       "   'CausalSelfAttention_0': {'VmapSingleHeadCausalSelfAttention_0': {'Dense_0': {'bias': '(12, 192)',\n",
       "      'kernel': '(12, 768, 192)'}},\n",
       "    'Dense_0': {'kernel': '(768, 768)', 'bias': '(768)'}},\n",
       "   'LayerNorm_1': {'scale': '(768)', 'bias': '(768)'},\n",
       "   'Dense_0': {'kernel': '(768, 3072)', 'bias': '(3072)'},\n",
       "   'Dense_1': {'kernel': '(3072, 768)', 'bias': '(768)'}},\n",
       "  'Block_4': {'LayerNorm_0': {'scale': '(768)', 'bias': '(768)'},\n",
       "   'CausalSelfAttention_0': {'VmapSingleHeadCausalSelfAttention_0': {'Dense_0': {'bias': '(12, 192)',\n",
       "      'kernel': '(12, 768, 192)'}},\n",
       "    'Dense_0': {'kernel': '(768, 768)', 'bias': '(768)'}},\n",
       "   'LayerNorm_1': {'scale': '(768)', 'bias': '(768)'},\n",
       "   'Dense_0': {'kernel': '(768, 3072)', 'bias': '(3072)'},\n",
       "   'Dense_1': {'kernel': '(3072, 768)', 'bias': '(768)'}},\n",
       "  'Block_5': {'LayerNorm_0': {'scale': '(768)', 'bias': '(768)'},\n",
       "   'CausalSelfAttention_0': {'VmapSingleHeadCausalSelfAttention_0': {'Dense_0': {'bias': '(12, 192)',\n",
       "      'kernel': '(12, 768, 192)'}},\n",
       "    'Dense_0': {'kernel': '(768, 768)', 'bias': '(768)'}},\n",
       "   'LayerNorm_1': {'scale': '(768)', 'bias': '(768)'},\n",
       "   'Dense_0': {'kernel': '(768, 3072)', 'bias': '(3072)'},\n",
       "   'Dense_1': {'kernel': '(3072, 768)', 'bias': '(768)'}},\n",
       "  'Block_6': {'LayerNorm_0': {'scale': '(768)', 'bias': '(768)'},\n",
       "   'CausalSelfAttention_0': {'VmapSingleHeadCausalSelfAttention_0': {'Dense_0': {'bias': '(12, 192)',\n",
       "      'kernel': '(12, 768, 192)'}},\n",
       "    'Dense_0': {'kernel': '(768, 768)', 'bias': '(768)'}},\n",
       "   'LayerNorm_1': {'scale': '(768)', 'bias': '(768)'},\n",
       "   'Dense_0': {'kernel': '(768, 3072)', 'bias': '(3072)'},\n",
       "   'Dense_1': {'kernel': '(3072, 768)', 'bias': '(768)'}},\n",
       "  'Block_7': {'LayerNorm_0': {'scale': '(768)', 'bias': '(768)'},\n",
       "   'CausalSelfAttention_0': {'VmapSingleHeadCausalSelfAttention_0': {'Dense_0': {'bias': '(12, 192)',\n",
       "      'kernel': '(12, 768, 192)'}},\n",
       "    'Dense_0': {'kernel': '(768, 768)', 'bias': '(768)'}},\n",
       "   'LayerNorm_1': {'scale': '(768)', 'bias': '(768)'},\n",
       "   'Dense_0': {'kernel': '(768, 3072)', 'bias': '(3072)'},\n",
       "   'Dense_1': {'kernel': '(3072, 768)', 'bias': '(768)'}},\n",
       "  'Block_8': {'LayerNorm_0': {'scale': '(768)', 'bias': '(768)'},\n",
       "   'CausalSelfAttention_0': {'VmapSingleHeadCausalSelfAttention_0': {'Dense_0': {'bias': '(12, 192)',\n",
       "      'kernel': '(12, 768, 192)'}},\n",
       "    'Dense_0': {'kernel': '(768, 768)', 'bias': '(768)'}},\n",
       "   'LayerNorm_1': {'scale': '(768)', 'bias': '(768)'},\n",
       "   'Dense_0': {'kernel': '(768, 3072)', 'bias': '(3072)'},\n",
       "   'Dense_1': {'kernel': '(3072, 768)', 'bias': '(768)'}},\n",
       "  'Block_9': {'LayerNorm_0': {'scale': '(768)', 'bias': '(768)'},\n",
       "   'CausalSelfAttention_0': {'VmapSingleHeadCausalSelfAttention_0': {'Dense_0': {'bias': '(12, 192)',\n",
       "      'kernel': '(12, 768, 192)'}},\n",
       "    'Dense_0': {'kernel': '(768, 768)', 'bias': '(768)'}},\n",
       "   'LayerNorm_1': {'scale': '(768)', 'bias': '(768)'},\n",
       "   'Dense_0': {'kernel': '(768, 3072)', 'bias': '(3072)'},\n",
       "   'Dense_1': {'kernel': '(3072, 768)', 'bias': '(768)'}},\n",
       "  'Block_10': {'LayerNorm_0': {'scale': '(768)', 'bias': '(768)'},\n",
       "   'CausalSelfAttention_0': {'VmapSingleHeadCausalSelfAttention_0': {'Dense_0': {'bias': '(12, 192)',\n",
       "      'kernel': '(12, 768, 192)'}},\n",
       "    'Dense_0': {'kernel': '(768, 768)', 'bias': '(768)'}},\n",
       "   'LayerNorm_1': {'scale': '(768)', 'bias': '(768)'},\n",
       "   'Dense_0': {'kernel': '(768, 3072)', 'bias': '(3072)'},\n",
       "   'Dense_1': {'kernel': '(3072, 768)', 'bias': '(768)'}},\n",
       "  'Block_11': {'LayerNorm_0': {'scale': '(768)', 'bias': '(768)'},\n",
       "   'CausalSelfAttention_0': {'VmapSingleHeadCausalSelfAttention_0': {'Dense_0': {'bias': '(12, 192)',\n",
       "      'kernel': '(12, 768, 192)'}},\n",
       "    'Dense_0': {'kernel': '(768, 768)', 'bias': '(768)'}},\n",
       "   'LayerNorm_1': {'scale': '(768)', 'bias': '(768)'},\n",
       "   'Dense_0': {'kernel': '(768, 3072)', 'bias': '(3072)'},\n",
       "   'Dense_1': {'kernel': '(3072, 768)', 'bias': '(768)'}},\n",
       "  'LayerNorm_0': {'scale': '(768)', 'bias': '(768)'},\n",
       "  'Dense_0': {'kernel': '(768, 50257)'}}}"
      ]
     },
     "execution_count": 52,
     "metadata": {},
     "output_type": "execute_result"
    }
   ],
   "source": [
    "param_shapes(params)"
   ]
  },
  {
   "cell_type": "code",
   "execution_count": 53,
   "metadata": {},
   "outputs": [],
   "source": [
    "from dataclasses import dataclass\n",
    "\n",
    "class MC:\n",
    "\n",
    "    def __getattr__(cls, key):\n",
    "        print(key)\n",
    "        return super().__getattr__(key)\n",
    "\n",
    "@dataclass\n",
    "class A:\n",
    "    \n",
    "    def __post_init__(self):\n",
    "        self.__class__.__name__ = \"meme\""
   ]
  },
  {
   "cell_type": "code",
   "execution_count": 54,
   "metadata": {},
   "outputs": [
    {
     "data": {
      "text/plain": [
       "('A', 'meme')"
      ]
     },
     "execution_count": 54,
     "metadata": {},
     "output_type": "execute_result"
    }
   ],
   "source": [
    "A.__name__, A().__class__.__name__"
   ]
  },
  {
   "cell_type": "code",
   "execution_count": 55,
   "metadata": {},
   "outputs": [
    {
     "data": {
      "text/plain": [
       "(__main__.A, type)"
      ]
     },
     "execution_count": 55,
     "metadata": {},
     "output_type": "execute_result"
    }
   ],
   "source": [
    "type(A()), A.__class__"
   ]
  },
  {
   "cell_type": "code",
   "execution_count": 56,
   "metadata": {},
   "outputs": [
    {
     "data": {
      "text/plain": [
       "'meme'"
      ]
     },
     "execution_count": 56,
     "metadata": {},
     "output_type": "execute_result"
    }
   ],
   "source": [
    "type(A()).__name__"
   ]
  },
  {
   "cell_type": "code",
   "execution_count": 57,
   "metadata": {},
   "outputs": [
    {
     "data": {
      "text/plain": [
       "type"
      ]
     },
     "execution_count": 57,
     "metadata": {},
     "output_type": "execute_result"
    }
   ],
   "source": [
    "A.__class__"
   ]
  },
  {
   "cell_type": "code",
   "execution_count": 58,
   "metadata": {},
   "outputs": [],
   "source": [
    "class B(A):\n",
    "    pass"
   ]
  },
  {
   "cell_type": "code",
   "execution_count": 59,
   "metadata": {},
   "outputs": [
    {
     "data": {
      "text/plain": [
       "('B', 'meme')"
      ]
     },
     "execution_count": 59,
     "metadata": {},
     "output_type": "execute_result"
    }
   ],
   "source": [
    "B.__name__, B().__class__.__name__"
   ]
  },
  {
   "cell_type": "code",
   "execution_count": 60,
   "metadata": {},
   "outputs": [
    {
     "data": {
      "text/plain": [
       "'meme'"
      ]
     },
     "execution_count": 60,
     "metadata": {},
     "output_type": "execute_result"
    }
   ],
   "source": [
    "type(B()).__name__"
   ]
  },
  {
   "cell_type": "code",
   "execution_count": 61,
   "metadata": {},
   "outputs": [
    {
     "data": {
      "text/plain": [
       "'meme'"
      ]
     },
     "execution_count": 61,
     "metadata": {},
     "output_type": "execute_result"
    }
   ],
   "source": [
    "B.__name__"
   ]
  },
  {
   "cell_type": "code",
   "execution_count": 62,
   "metadata": {},
   "outputs": [
    {
     "data": {
      "text/plain": [
       "'meme'"
      ]
     },
     "execution_count": 62,
     "metadata": {},
     "output_type": "execute_result"
    }
   ],
   "source": [
    "B().__class__.__name__"
   ]
  },
  {
   "cell_type": "code",
   "execution_count": 69,
   "metadata": {},
   "outputs": [
    {
     "data": {
      "text/plain": [
       "2"
      ]
     },
     "execution_count": 69,
     "metadata": {},
     "output_type": "execute_result"
    }
   ],
   "source": [
    "type(\"C\", (B,), {})().__class__.mro().index(A)"
   ]
  },
  {
   "cell_type": "code",
   "execution_count": 1,
   "metadata": {},
   "outputs": [],
   "source": [
    "class P:\n",
    "    name = \"meme\""
   ]
  },
  {
   "cell_type": "code",
   "execution_count": 2,
   "metadata": {},
   "outputs": [
    {
     "data": {
      "text/plain": [
       "'meme'"
      ]
     },
     "execution_count": 2,
     "metadata": {},
     "output_type": "execute_result"
    }
   ],
   "source": [
    "P.name"
   ]
  },
  {
   "cell_type": "code",
   "execution_count": 6,
   "metadata": {},
   "outputs": [],
   "source": [
    "from dataclasses import dataclass\n",
    "\n",
    "@dataclass\n",
    "class C:\n",
    "    name: str"
   ]
  },
  {
   "cell_type": "code",
   "execution_count": 7,
   "metadata": {},
   "outputs": [],
   "source": [
    "from functools import partial"
   ]
  },
  {
   "cell_type": "code",
   "execution_count": 8,
   "metadata": {},
   "outputs": [],
   "source": [
    "C2 = partial(C, name=\"meme\")"
   ]
  },
  {
   "cell_type": "code",
   "execution_count": 9,
   "metadata": {},
   "outputs": [
    {
     "data": {
      "text/plain": [
       "C(name='meme')"
      ]
     },
     "execution_count": 9,
     "metadata": {},
     "output_type": "execute_result"
    }
   ],
   "source": [
    "C2()"
   ]
  },
  {
   "cell_type": "code",
   "execution_count": 10,
   "metadata": {},
   "outputs": [
    {
     "data": {
      "text/plain": [
       "C(name='meme2')"
      ]
     },
     "execution_count": 10,
     "metadata": {},
     "output_type": "execute_result"
    }
   ],
   "source": [
    "C2(name=\"meme2\")"
   ]
  },
  {
   "cell_type": "code",
   "execution_count": 11,
   "metadata": {},
   "outputs": [],
   "source": [
    "def name(name):\n",
    "    def decorator(cls):\n",
    "        return partial(cls, name=name)\n",
    "    return decorator"
   ]
  },
  {
   "cell_type": "code",
   "execution_count": 12,
   "metadata": {},
   "outputs": [],
   "source": [
    "@name(\"meme\")\n",
    "@dataclass\n",
    "class C:\n",
    "    name: str"
   ]
  },
  {
   "cell_type": "code",
   "execution_count": 13,
   "metadata": {},
   "outputs": [
    {
     "data": {
      "text/plain": [
       "'meme2'"
      ]
     },
     "execution_count": 13,
     "metadata": {},
     "output_type": "execute_result"
    }
   ],
   "source": [
    "C(name = \"meme2\").name"
   ]
  },
  {
   "cell_type": "code",
   "execution_count": 14,
   "metadata": {},
   "outputs": [],
   "source": [
    "@dataclass\n",
    "class D:\n",
    "    \n",
    "    def __post_init__(self):\n",
    "        self.__class__.__name__ = \"meme\"\n",
    "\n",
    "    def __init_subclass__(cls) -> None:\n",
    "        cls.__name__ = \"meme2\""
   ]
  },
  {
   "cell_type": "code",
   "execution_count": 15,
   "metadata": {},
   "outputs": [],
   "source": [
    "class E(D):\n",
    "    pass"
   ]
  },
  {
   "cell_type": "code",
   "execution_count": 16,
   "metadata": {},
   "outputs": [
    {
     "data": {
      "text/plain": [
       "'meme2'"
      ]
     },
     "execution_count": 16,
     "metadata": {},
     "output_type": "execute_result"
    }
   ],
   "source": [
    "E.__name__"
   ]
  },
  {
   "cell_type": "code",
   "execution_count": 17,
   "metadata": {},
   "outputs": [
    {
     "data": {
      "text/plain": [
       "[__main__.E, __main__.D, object]"
      ]
     },
     "execution_count": 17,
     "metadata": {},
     "output_type": "execute_result"
    }
   ],
   "source": [
    "E.mro()"
   ]
  },
  {
   "cell_type": "code",
   "execution_count": 18,
   "metadata": {},
   "outputs": [
    {
     "data": {
      "text/plain": [
       "type"
      ]
     },
     "execution_count": 18,
     "metadata": {},
     "output_type": "execute_result"
    }
   ],
   "source": [
    "type(E)"
   ]
  },
  {
   "cell_type": "code",
   "execution_count": 24,
   "metadata": {},
   "outputs": [
    {
     "data": {
      "text/plain": [
       "type"
      ]
     },
     "execution_count": 24,
     "metadata": {},
     "output_type": "execute_result"
    }
   ],
   "source": [
    "type(type(\"custom\", (E,), {}))"
   ]
  },
  {
   "cell_type": "code",
   "execution_count": 19,
   "metadata": {},
   "outputs": [],
   "source": [
    "import inspect"
   ]
  },
  {
   "cell_type": "code",
   "execution_count": 20,
   "metadata": {},
   "outputs": [
    {
     "name": "stderr",
     "output_type": "stream",
     "text": [
      "/opt/conda/lib/python3.10/site-packages/tqdm/auto.py:22: TqdmWarning: IProgress not found. Please update jupyter and ipywidgets. See https://ipywidgets.readthedocs.io/en/stable/user_install.html\n",
      "  from .autonotebook import tqdm as notebook_tqdm\n"
     ]
    }
   ],
   "source": [
    "from nimblegpt.jmodel import JSingleHeadCausalSelfAttention"
   ]
  },
  {
   "cell_type": "code",
   "execution_count": 21,
   "metadata": {},
   "outputs": [
    {
     "data": {
      "text/plain": [
       "'/home/trist/nimbleGPT/nimblegpt/jmodel.py'"
      ]
     },
     "execution_count": 21,
     "metadata": {},
     "output_type": "execute_result"
    }
   ],
   "source": [
    "inspect.getfile(JSingleHeadCausalSelfAttention)"
   ]
  },
  {
   "cell_type": "code",
   "execution_count": 22,
   "metadata": {},
   "outputs": [
    {
     "data": {
      "text/plain": [
       "'/opt/conda/lib/python3.10/abc.py'"
      ]
     },
     "execution_count": 22,
     "metadata": {},
     "output_type": "execute_result"
    }
   ],
   "source": [
    "inspect.getfile(type(\"custom\", (JSingleHeadCausalSelfAttention,), {}))"
   ]
  },
  {
   "cell_type": "code",
   "execution_count": 23,
   "metadata": {},
   "outputs": [
    {
     "data": {
      "text/plain": [
       "'abc'"
      ]
     },
     "execution_count": 23,
     "metadata": {},
     "output_type": "execute_result"
    }
   ],
   "source": [
    "type(\"custom\", (JSingleHeadCausalSelfAttention,), {}).__module__"
   ]
  }
 ],
 "metadata": {
  "kernelspec": {
   "display_name": "base",
   "language": "python",
   "name": "python3"
  },
  "language_info": {
   "codemirror_mode": {
    "name": "ipython",
    "version": 3
   },
   "file_extension": ".py",
   "mimetype": "text/x-python",
   "name": "python",
   "nbconvert_exporter": "python",
   "pygments_lexer": "ipython3",
   "version": "3.10.9"
  },
  "orig_nbformat": 4,
  "vscode": {
   "interpreter": {
    "hash": "d4d1e4263499bec80672ea0156c357c1ee493ec2b1c70f0acce89fc37c4a6abe"
   }
  }
 },
 "nbformat": 4,
 "nbformat_minor": 2
}
