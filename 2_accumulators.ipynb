{
 "cells": [
  {
   "cell_type": "code",
   "execution_count": 1,
   "metadata": {},
   "outputs": [
    {
     "name": "stderr",
     "output_type": "stream",
     "text": [
      "/opt/conda/lib/python3.10/site-packages/tqdm/auto.py:22: TqdmWarning: IProgress not found. Please update jupyter and ipywidgets. See https://ipywidgets.readthedocs.io/en/stable/user_install.html\n",
      "  from .autonotebook import tqdm as notebook_tqdm\n"
     ]
    }
   ],
   "source": [
    "import torch\n",
    "import torch.nn.functional as F\n",
    "\n",
    "import triton\n",
    "import triton.language as tl"
   ]
  },
  {
   "cell_type": "code",
   "execution_count": 2,
   "metadata": {},
   "outputs": [
    {
     "data": {
      "text/plain": [
       "torch.Size([4096])"
      ]
     },
     "execution_count": 2,
     "metadata": {},
     "output_type": "execute_result"
    }
   ],
   "source": [
    "n_embd = 1024\n",
    "n_btch = 512\n",
    "\n",
    "dtype = torch.float16\n",
    "x = torch.empty(n_btch, n_embd, dtype=dtype, device='cuda').normal_()\n",
    "\n",
    "weights = torch.empty(n_embd, 4 * n_embd, dtype=dtype, device='cuda').normal_()\n",
    "bias = torch.empty(4 * n_embd, dtype=dtype, device='cuda').normal_()\n",
    "weights_sum = torch.sum(weights, dim=0)\n",
    "weights_sum.shape"
   ]
  },
  {
   "cell_type": "code",
   "execution_count": 3,
   "metadata": {},
   "outputs": [],
   "source": [
    "def torch_lola(x, weights, bias):\n",
    "    x = F.layer_norm(x, (n_embd, ))\n",
    "    x = F.linear(x, weights.T, bias)\n",
    "    x = F.gelu(x, approximate=\"tanh\")\n",
    "    return x"
   ]
  },
  {
   "cell_type": "code",
   "execution_count": 4,
   "metadata": {},
   "outputs": [
    {
     "data": {
      "text/plain": [
       "torch.Size([512, 4096])"
      ]
     },
     "execution_count": 4,
     "metadata": {},
     "output_type": "execute_result"
    }
   ],
   "source": [
    "ref_out = torch_lola(x, weights, bias)\n",
    "ref_out.shape"
   ]
  },
  {
   "cell_type": "code",
   "execution_count": 5,
   "metadata": {},
   "outputs": [],
   "source": [
    "import math\n",
    "\n",
    "sqrt2pi = math.sqrt(2.0 / math.pi)\n",
    "\n",
    "\n",
    "@triton.jit\n",
    "def tanh(x):\n",
    "    \"\"\"Tanh activation function\"\"\"\n",
    "    return tl.libdevice.tanh(x)\n",
    "\n",
    "\n",
    "@triton.jit\n",
    "def fast_gelu(x):\n",
    "    \"\"\"Fast approximation of the gelu function. May slightly decrease accuracy.\"\"\"\n",
    "    return 0.5 * x * (1 + tanh(sqrt2pi * (x + 0.044715 * x * x * x)))"
   ]
  },
  {
   "cell_type": "code",
   "execution_count": 6,
   "metadata": {},
   "outputs": [],
   "source": [
    "acc_dtype = tl.float16\n",
    "\n",
    "\n",
    "@triton.jit\n",
    "def lola_kernel(x_ptr, W_ptr, b_ptr, out_ptr, N_OCOLS: tl.constexpr,\n",
    "                N_BROWS: tl.constexpr, BLOCK_ROWS: tl.constexpr,\n",
    "                N_FEAT_IN: tl.constexpr, N_FEAT_OUT: tl.constexpr):\n",
    "    \"\"\"\n",
    "    Triton kernel implementing fused Layer nOrm, Linear and Activation.\n",
    "\n",
    "    Kernel cell (i, j) computes \n",
    "    out[i * N_BROWS: (i+1) * N_BROWS, j * N_OCOLS: (j+1) * N_OCOLS], by iterating over\n",
    "    `BLOCK_ROWS`-sized blocks of the inputs.\n",
    "\n",
    "    Inputs\n",
    "    ------\n",
    "    x_ptr: [BATCH_SIZE, N_FEAT_IN,] - current token embedding.\n",
    "    W_ptr: [N_FEAT_IN, N_FEAT_OUT] - linear layer weights.\n",
    "    b_ptr: [N_FEAT_OUT,] - linear layer bias.\n",
    "\n",
    "    Outputs\n",
    "    -------\n",
    "    out_ptr: [N_FEAT_OUT,] - output of the fused layer.\n",
    "    \"\"\"\n",
    "    x_brows_start = tl.program_id(0) * N_BROWS\n",
    "    # This instance will process x[b_rows_start:b_rows_start + N_BROWS, :]\n",
    "    x_brows_idxs = tl.arange(0, N_BROWS) + x_brows_start\n",
    "\n",
    "    ocols_start = tl.program_id(1) * N_OCOLS\n",
    "    col_idxs = tl.arange(0, N_OCOLS) + ocols_start\n",
    "\n",
    "    w_dot_x_acc = tl.zeros((N_BROWS, N_OCOLS), dtype=acc_dtype)\n",
    "    w_sum_acc = tl.zeros((N_OCOLS, ), dtype=acc_dtype)\n",
    "    x_sum_acc = tl.zeros((N_BROWS, ), dtype=acc_dtype)\n",
    "    x_sq_sum_acc = tl.zeros((N_BROWS, ), dtype=acc_dtype)\n",
    "\n",
    "    n_blocks = tl.cdiv(N_FEAT_IN, BLOCK_ROWS)\n",
    "    for block_i in range(0, n_blocks):\n",
    "\n",
    "        block_row_idxs = tl.arange(0, BLOCK_ROWS) + block_i * BLOCK_ROWS\n",
    "\n",
    "        # Load the current block of the input.\n",
    "        x_block_idxs = x_brows_idxs[:,\n",
    "                                    None] * N_FEAT_IN + block_row_idxs[None, :]\n",
    "        x_block = tl.load(x_ptr + x_block_idxs).to(\n",
    "            acc_dtype)  # [N_BROWS, BLOCK_ROWS]\n",
    "\n",
    "        W_block_idxs = block_row_idxs[:, None] * N_FEAT_OUT + col_idxs[None, :]\n",
    "        W_block = tl.load(W_ptr + W_block_idxs).to(\n",
    "            acc_dtype)  # [BLOCK_ROWS, N_OCOLS]\n",
    "\n",
    "        # Update the accumulators.\n",
    "        # [N_BROWS, BLOCK_ROWS] @ [BLOCK_ROWS, N_OCOLS] -> [N_BROWS, N_OCOLS]\n",
    "        w_dot_x_acc += tl.dot(x_block, W_block).to(acc_dtype)\n",
    "        # w_dot_x_acc += tl.sum(W_block * x_block[:, None], axis=0)\n",
    "        # w_sum_acc += tl.sum(W_block, axis=0)\n",
    "        x_sum_acc += tl.sum(x_block, axis=1)\n",
    "        x_sq_sum_acc += tl.sum(x_block * x_block, axis=1)\n",
    "\n",
    "\n",
    "    bias = tl.load(b_ptr + col_idxs)\n",
    "    x_mean = x_sum_acc / N_FEAT_IN\n",
    "    x_sq_mean = x_sq_sum_acc / N_FEAT_IN\n",
    "\n",
    "    numer = w_dot_x_acc - x_mean[:, None] * w_sum_acc[None, :] + bias[None, :]\n",
    "    denom = tl.sqrt(tl.abs(x_sq_mean - x_mean * x_mean + 1e-5))\n",
    "    out = fast_gelu(numer / denom[:, None])\n",
    "\n",
    "    out_idxs = x_brows_idxs[:, None] * N_FEAT_OUT + col_idxs[None, :]\n",
    "    tl.store(out_ptr + out_idxs, out.to(tl.float16))"
   ]
  },
  {
   "cell_type": "code",
   "execution_count": 7,
   "metadata": {},
   "outputs": [],
   "source": [
    "def triton_lola(\n",
    "    x,\n",
    "    W,\n",
    "    b,\n",
    "    N_OCOLS: int,\n",
    "    N_BROWS: int,\n",
    "    BLOCK_ROWS: int,\n",
    "    num_warps=4,\n",
    "    num_stages=1,\n",
    "):\n",
    "    assert N_BROWS >= 16 and BLOCK_ROWS >= 16 and N_OCOLS >= 16, \"Triton matrix multiplication requires matrix dimensions to be at least 16.\"\n",
    "\n",
    "    N_BATCH = x.shape[0]\n",
    "    N_FEAT_IN, N_FEAT_OUT = W.shape\n",
    "    grid = (\n",
    "        N_BATCH // N_BROWS,\n",
    "        N_FEAT_OUT // N_OCOLS,\n",
    "    )\n",
    "\n",
    "    # Allocate output buffer.\n",
    "    out = torch.zeros((N_BATCH, N_FEAT_OUT), dtype=x.dtype, device=\"cuda\")\n",
    "\n",
    "    # Launch the kernel.\n",
    "    lola_kernel[grid](x,\n",
    "                      W,\n",
    "                      b,\n",
    "                      out,\n",
    "                      N_OCOLS=N_OCOLS,\n",
    "                      N_BROWS=N_BROWS,\n",
    "                      BLOCK_ROWS=BLOCK_ROWS,\n",
    "                      N_FEAT_IN=N_FEAT_IN,\n",
    "                      N_FEAT_OUT=N_FEAT_OUT,\n",
    "                      num_warps=num_warps,\n",
    "                      num_stages=num_stages)\n",
    "\n",
    "    return out"
   ]
  },
  {
   "cell_type": "code",
   "execution_count": 8,
   "metadata": {},
   "outputs": [
    {
     "data": {
      "text/plain": [
       "torch.Size([512, 4096])"
      ]
     },
     "execution_count": 8,
     "metadata": {},
     "output_type": "execute_result"
    }
   ],
   "source": [
    "tl_out = triton_lola(x,\n",
    "                     weights,\n",
    "                     bias,\n",
    "                     N_OCOLS=32,\n",
    "                     N_BROWS=32,\n",
    "                     BLOCK_ROWS=32,\n",
    "                     num_warps=4,\n",
    "                     num_stages=1)\n",
    "tl_out.shape"
   ]
  },
  {
   "cell_type": "code",
   "execution_count": 9,
   "metadata": {},
   "outputs": [
    {
     "data": {
      "text/plain": [
       "tensor(10.1875, device='cuda:0', dtype=torch.float16)"
      ]
     },
     "execution_count": 9,
     "metadata": {},
     "output_type": "execute_result"
    }
   ],
   "source": [
    "(ref_out - tl_out).abs().max()"
   ]
  },
  {
   "attachments": {},
   "cell_type": "markdown",
   "metadata": {},
   "source": [
    "## Static w_sum\n"
   ]
  },
  {
   "cell_type": "code",
   "execution_count": 10,
   "metadata": {},
   "outputs": [],
   "source": [
    "acc_dtype = tl.float16\n",
    "\n",
    "\n",
    "@triton.jit\n",
    "def lola_ws_kernel(x_ptr, W_ptr, Ws_ptr, b_ptr, out_ptr, N_OCOLS: tl.constexpr,\n",
    "                N_BROWS: tl.constexpr, BLOCK_ROWS: tl.constexpr,\n",
    "                N_FEAT_IN: tl.constexpr, N_FEAT_OUT: tl.constexpr):\n",
    "    \"\"\"\n",
    "    Triton kernel implementing fused Layer nOrm, Linear and Activation.\n",
    "\n",
    "    Kernel cell (i, j) computes \n",
    "    out[i * N_BROWS: (i+1) * N_BROWS, j * N_OCOLS: (j+1) * N_OCOLS], by iterating over\n",
    "    `BLOCK_ROWS`-sized blocks of the inputs.\n",
    "\n",
    "    Inputs\n",
    "    ------\n",
    "    x_ptr: [BATCH_SIZE, N_FEAT_IN,] - current token embedding.\n",
    "    W_ptr: [N_FEAT_IN, N_FEAT_OUT] - linear layer weights.\n",
    "    Ws_ptr: [N_FEAT_OUT,] - sum of the weights (in axis 0).\n",
    "    b_ptr: [N_FEAT_OUT,] - linear layer bias.\n",
    "\n",
    "    Outputs\n",
    "    -------\n",
    "    out_ptr: [N_FEAT_OUT,] - output of the fused layer.\n",
    "    \"\"\"\n",
    "    x_brows_start = tl.program_id(0) * N_BROWS\n",
    "    # This instance will process x[b_rows_start:b_rows_start + N_BROWS, :]\n",
    "    x_brows_idxs = tl.arange(0, N_BROWS) + x_brows_start\n",
    "\n",
    "    ocols_start = tl.program_id(1) * N_OCOLS\n",
    "    col_idxs = tl.arange(0, N_OCOLS) + ocols_start\n",
    "\n",
    "    w_dot_x_acc = tl.zeros((N_BROWS, N_OCOLS), dtype=acc_dtype)\n",
    "    # w_sum_acc = tl.zeros((N_OCOLS, ), dtype=acc_dtype)\n",
    "    x_sum_acc = tl.zeros((N_BROWS, ), dtype=acc_dtype)\n",
    "    x_sq_sum_acc = tl.zeros((N_BROWS, ), dtype=acc_dtype)\n",
    "\n",
    "    n_blocks = tl.cdiv(N_FEAT_IN, BLOCK_ROWS)\n",
    "    for block_i in range(0, n_blocks):\n",
    "\n",
    "        block_row_idxs = tl.arange(0, BLOCK_ROWS) + block_i * BLOCK_ROWS\n",
    "\n",
    "        # Load the current block of the input.\n",
    "        x_block_idxs = x_brows_idxs[:,\n",
    "                                    None] * N_FEAT_IN + block_row_idxs[None, :]\n",
    "        x_block = tl.load(x_ptr + x_block_idxs).to(\n",
    "            acc_dtype)  # [N_BROWS, BLOCK_ROWS]\n",
    "\n",
    "        W_block_idxs = block_row_idxs[:, None] * N_FEAT_OUT + col_idxs[None, :]\n",
    "        W_block = tl.load(W_ptr + W_block_idxs).to(\n",
    "            acc_dtype)  # [BLOCK_ROWS, N_OCOLS]\n",
    "\n",
    "        # Update the accumulators.\n",
    "        # [N_BROWS, BLOCK_ROWS] @ [BLOCK_ROWS, N_OCOLS] -> [N_BROWS, N_OCOLS]\n",
    "        w_dot_x_acc += tl.dot(x_block, W_block).to(acc_dtype)\n",
    "        # w_dot_x_acc += tl.sum(W_block * x_block[:, None], axis=0)\n",
    "        # w_sum_acc += tl.sum(W_block, axis=0)\n",
    "        x_sum_acc += tl.sum(x_block, axis=1)\n",
    "        x_sq_sum_acc += tl.sum(x_block * x_block, axis=1)\n",
    "\n",
    "    bias = tl.load(b_ptr + col_idxs)\n",
    "    Wsum = tl.load(Ws_ptr + col_idxs)\n",
    "    x_mean = x_sum_acc / N_FEAT_IN\n",
    "    x_sq_mean = x_sq_sum_acc / N_FEAT_IN\n",
    "\n",
    "    numer = w_dot_x_acc - x_mean[:, None] * Wsum[None, :] + bias[None, :]\n",
    "    denom = tl.sqrt(tl.abs(x_sq_mean - x_mean * x_mean + 1e-5))\n",
    "    out = fast_gelu(numer / denom[:, None])\n",
    "\n",
    "    out_idxs = x_brows_idxs[:, None] * N_FEAT_OUT + col_idxs[None, :]\n",
    "    tl.store(out_ptr + out_idxs, out.to(tl.float16))"
   ]
  },
  {
   "cell_type": "code",
   "execution_count": 13,
   "metadata": {},
   "outputs": [],
   "source": [
    "def triton_lola_ws(\n",
    "    x,\n",
    "    W,\n",
    "    Ws,\n",
    "    b,\n",
    "    N_OCOLS: int,\n",
    "    N_BROWS: int,\n",
    "    BLOCK_ROWS: int,\n",
    "    num_warps=4,\n",
    "    num_stages=1,\n",
    "):\n",
    "    assert N_BROWS >= 16 and BLOCK_ROWS >= 16 and N_OCOLS >= 16, \"Triton matrix multiplication requires matrix dimensions to be at least 16.\"\n",
    "\n",
    "    N_BATCH = x.shape[0]\n",
    "    N_FEAT_IN, N_FEAT_OUT = W.shape\n",
    "    grid = (\n",
    "        N_BATCH // N_BROWS,\n",
    "        N_FEAT_OUT // N_OCOLS,\n",
    "    )\n",
    "\n",
    "    # Allocate output buffer.\n",
    "    out = torch.zeros((N_BATCH, N_FEAT_OUT), dtype=x.dtype, device=\"cuda\")\n",
    "\n",
    "    # Launch the kernel.\n",
    "    lola_ws_kernel[grid](x,\n",
    "                      W,\n",
    "                      Ws,\n",
    "                      b,\n",
    "                      out,\n",
    "                      N_OCOLS=N_OCOLS,\n",
    "                      N_BROWS=N_BROWS,\n",
    "                      BLOCK_ROWS=BLOCK_ROWS,\n",
    "                      N_FEAT_IN=N_FEAT_IN,\n",
    "                      N_FEAT_OUT=N_FEAT_OUT,\n",
    "                      num_warps=num_warps,\n",
    "                      num_stages=num_stages)\n",
    "\n",
    "    return out"
   ]
  },
  {
   "cell_type": "code",
   "execution_count": 14,
   "metadata": {},
   "outputs": [
    {
     "data": {
      "text/plain": [
       "torch.Size([512, 4096])"
      ]
     },
     "execution_count": 14,
     "metadata": {},
     "output_type": "execute_result"
    }
   ],
   "source": [
    "tlws_out = triton_lola_ws(x,\n",
    "                     weights,\n",
    "                     weights_sum,\n",
    "                     bias,\n",
    "                     N_OCOLS=32,\n",
    "                     N_BROWS=32,\n",
    "                     BLOCK_ROWS=32,\n",
    "                     num_warps=4,\n",
    "                     num_stages=1)\n",
    "tlws_out.shape"
   ]
  },
  {
   "cell_type": "code",
   "execution_count": 15,
   "metadata": {},
   "outputs": [
    {
     "data": {
      "text/plain": [
       "tensor(0.3750, device='cuda:0', dtype=torch.float16)"
      ]
     },
     "execution_count": 15,
     "metadata": {},
     "output_type": "execute_result"
    }
   ],
   "source": [
    "(ref_out - tlws_out).abs().max()"
   ]
  },
  {
   "attachments": {},
   "cell_type": "markdown",
   "metadata": {},
   "source": [
    "# Benchmark"
   ]
  },
  {
   "attachments": {},
   "cell_type": "markdown",
   "metadata": {},
   "source": [
    "- Default kernel (same as lola.ipynb): 941 us\n",
    "- Comment out all updates to accumulators except w_dot_x_acc: 108 us\n",
    "- Comment out all updates to accumulators except 2 of them:  889 us\n",
    "- w_dot_x_acc and x_sum_acc updated only: 118 us\n",
    "- w_dot_x_acc, x_sum_acc, x_sq_sum_acc updated only:  190 us"
   ]
  },
  {
   "cell_type": "code",
   "execution_count": 17,
   "metadata": {},
   "outputs": [],
   "source": [
    "from triton.testing import do_bench\n",
    "from functools import partial"
   ]
  },
  {
   "cell_type": "code",
   "execution_count": null,
   "metadata": {},
   "outputs": [
    {
     "data": {
      "text/plain": [
       "189.43999707698822"
      ]
     },
     "execution_count": 15,
     "metadata": {},
     "output_type": "execute_result"
    }
   ],
   "source": [
    "do_bench(partial(triton_lola,\n",
    "                 x,\n",
    "                 weights,\n",
    "                 bias,\n",
    "                 N_OCOLS=32,\n",
    "                 N_BROWS=32,\n",
    "                 BLOCK_ROWS=32,\n",
    "                 num_warps=4,\n",
    "                 num_stages=1),\n",
    "         warmup=100,\n",
    "         rep=1000)[0] * 1000 # us\n"
   ]
  },
  {
   "cell_type": "code",
   "execution_count": 18,
   "metadata": {},
   "outputs": [
    {
     "data": {
      "text/plain": [
       "190.46400487422943"
      ]
     },
     "execution_count": 18,
     "metadata": {},
     "output_type": "execute_result"
    }
   ],
   "source": [
    "do_bench(partial(triton_lola_ws,\n",
    "                 x,\n",
    "                 weights,\n",
    "                 weights_sum,\n",
    "                 bias,\n",
    "                 N_OCOLS=32,\n",
    "                 N_BROWS=32,\n",
    "                 BLOCK_ROWS=32,\n",
    "                 num_warps=4,\n",
    "                 num_stages=1),\n",
    "         warmup=100,\n",
    "         rep=1000)[0] * 1000 # us\n"
   ]
  },
  {
   "cell_type": "code",
   "execution_count": 21,
   "metadata": {},
   "outputs": [
    {
     "data": {
      "text/plain": [
       "tensor([[ 0,  1,  2],\n",
       "        [ 2,  3,  4],\n",
       "        [ 4,  5,  6],\n",
       "        [ 6,  7,  8],\n",
       "        [ 8,  9, 10],\n",
       "        [10, 11, 12],\n",
       "        [12, 13, 14],\n",
       "        [14, 15, 16],\n",
       "        [16, 17, 18],\n",
       "        [18, 19, 20],\n",
       "        [20, 21, 22],\n",
       "        [22, 23, 24]])"
      ]
     },
     "execution_count": 21,
     "metadata": {},
     "output_type": "execute_result"
    }
   ],
   "source": [
    "torch.arange(12)[:, None] * 2 + torch.arange(3)[None, :]"
   ]
  },
  {
   "cell_type": "code",
   "execution_count": 22,
   "metadata": {},
   "outputs": [
    {
     "data": {
      "text/plain": [
       "tensor([[ 0,  2,  4,  6,  8, 10, 12, 14, 16, 18, 20, 22],\n",
       "        [ 1,  3,  5,  7,  9, 11, 13, 15, 17, 19, 21, 23],\n",
       "        [ 2,  4,  6,  8, 10, 12, 14, 16, 18, 20, 22, 24]])"
      ]
     },
     "execution_count": 22,
     "metadata": {},
     "output_type": "execute_result"
    }
   ],
   "source": [
    "torch.arange(12)[None, :] * 2 + torch.arange(3)[:, None]"
   ]
  }
 ],
 "metadata": {
  "kernelspec": {
   "display_name": "base",
   "language": "python",
   "name": "python3"
  },
  "language_info": {
   "codemirror_mode": {
    "name": "ipython",
    "version": 3
   },
   "file_extension": ".py",
   "mimetype": "text/x-python",
   "name": "python",
   "nbconvert_exporter": "python",
   "pygments_lexer": "ipython3",
   "version": "3.10.8"
  },
  "orig_nbformat": 4,
  "vscode": {
   "interpreter": {
    "hash": "d4d1e4263499bec80672ea0156c357c1ee493ec2b1c70f0acce89fc37c4a6abe"
   }
  }
 },
 "nbformat": 4,
 "nbformat_minor": 2
}
