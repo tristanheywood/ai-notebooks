{
 "cells": [
  {
   "attachments": {},
   "cell_type": "markdown",
   "metadata": {},
   "source": [
    "# Show that Triton autotune is broken due to warmup issues"
   ]
  },
  {
   "attachments": {},
   "cell_type": "markdown",
   "metadata": {},
   "source": [
    "### Aim\n",
    "\n",
    "Create an instance of Triton kernel + @autotune on a100 where the autotuner picks the wrong config, due to `do_bench` not doing enough warmup by default.\n",
    "\n",
    "### Plan\n",
    "\n",
    "- Test the hypothesis that warmup can occasionally take more than 25 ms, which is the default `do_bench` warmup time."
   ]
  },
  {
   "attachments": {},
   "cell_type": "markdown",
   "metadata": {},
   "source": [
    "## Kernel which doesn't warmup in 25ms"
   ]
  },
  {
   "attachments": {},
   "cell_type": "markdown",
   "metadata": {},
   "source": [
    "Try using `triton.ops.flash_attention._fwd_kernel` - an important kernel since it's in the library and it's a commonly used kernel."
   ]
  },
  {
   "cell_type": "code",
   "execution_count": 1,
   "metadata": {},
   "outputs": [],
   "source": [
    "# Based on `test/unit/operators/test_flash_attention.test_op`.\n",
    "import torch\n",
    "\n",
    "\n",
    "def make_fa_tensors(Z, H, N_CTX, D_HEAD, dtype=torch.float16):\n",
    "\n",
    "    q = torch.empty((Z, H, N_CTX, D_HEAD), dtype=dtype, device=\"cuda\").normal_(mean=0.1, std=0.2).requires_grad_()\n",
    "    k = torch.empty((Z, H, N_CTX, D_HEAD), dtype=dtype, device=\"cuda\").normal_(mean=0.4, std=0.2).requires_grad_()\n",
    "    v = torch.empty((Z, H, N_CTX, D_HEAD), dtype=dtype, device=\"cuda\").normal_(mean=0.3, std=0.2).requires_grad_()\n",
    "\n",
    "    return q, k, v\n",
    "\n",
    "# Same values as unit test.\n",
    "q, k, v = make_fa_tensors(4, 48, 1024, 64)"
   ]
  },
  {
   "cell_type": "code",
   "execution_count": 7,
   "metadata": {},
   "outputs": [],
   "source": [
    "import triton\n",
    "from triton.ops.flash_attention import _fwd_kernel\n",
    "\n",
    "# Based on `triton.ops.attention.forward` - but with `BLOCK` exposed.\n",
    "def dispatch_fa(q, k, v, BLOCK, sm_scale = 0.2):\n",
    "\n",
    "    # only support for Ampere now\n",
    "    capability = torch.cuda.get_device_capability()\n",
    "    if capability[0] < 8:\n",
    "        raise RuntimeError(\"Flash attention currently only supported for compute capability >= 80\")\n",
    "    assert BLOCK in {128, 256} # Other values may crash.\n",
    "    # shape constraints\n",
    "    Lq, Lk, Lv = q.shape[-1], k.shape[-1], v.shape[-1]\n",
    "    assert Lq == Lk and Lk == Lv\n",
    "    # assert Lk in {16, 32, 64, 128}\n",
    "    assert Lk in {64}  # TODO: fix other cases\n",
    "    o = torch.empty_like(q)\n",
    "    grid = (triton.cdiv(q.shape[2], BLOCK), q.shape[0] * q.shape[1], 1)\n",
    "    L = torch.empty((q.shape[0] * q.shape[1], q.shape[2]), device=q.device, dtype=torch.float32)\n",
    "    m = torch.empty((q.shape[0] * q.shape[1], q.shape[2]), device=q.device, dtype=torch.float32)\n",
    "    num_warps = 4 if Lk <= 64 else 8\n",
    "\n",
    "    _fwd_kernel[grid](\n",
    "        q, k, v, sm_scale,\n",
    "        L, m,\n",
    "        o,\n",
    "        q.stride(0), q.stride(1), q.stride(2), q.stride(3),\n",
    "        k.stride(0), k.stride(1), k.stride(2), k.stride(3),\n",
    "        v.stride(0), v.stride(1), v.stride(2), v.stride(3),\n",
    "        o.stride(0), o.stride(1), o.stride(2), o.stride(3),\n",
    "        q.shape[0], q.shape[1], q.shape[2],\n",
    "        BLOCK_M=BLOCK, BLOCK_N=BLOCK,\n",
    "        BLOCK_DMODEL=Lk, num_warps=num_warps,\n",
    "        num_stages=2,\n",
    "    )\n",
    "\n",
    "    return o"
   ]
  },
  {
   "cell_type": "code",
   "execution_count": 8,
   "metadata": {},
   "outputs": [
    {
     "data": {
      "text/plain": [
       "torch.Size([4, 48, 1024, 64])"
      ]
     },
     "execution_count": 8,
     "metadata": {},
     "output_type": "execute_result"
    }
   ],
   "source": [
    "from triton.ops import attention\n",
    "\n",
    "attention(q, k, v, 0.2).shape"
   ]
  },
  {
   "cell_type": "code",
   "execution_count": 9,
   "metadata": {},
   "outputs": [
    {
     "data": {
      "text/plain": [
       "torch.Size([4, 48, 1024, 64])"
      ]
     },
     "execution_count": 9,
     "metadata": {},
     "output_type": "execute_result"
    }
   ],
   "source": [
    "dispatch_fa(q, k, v, 256, 64).shape"
   ]
  },
  {
   "cell_type": "code",
   "execution_count": 12,
   "metadata": {},
   "outputs": [
    {
     "name": "stdout",
     "output_type": "stream",
     "text": [
      "17.117183685302734\n",
      "0.37171199917793274\n"
     ]
    }
   ],
   "source": [
    "from triton.testing import do_bench\n",
    "from time import sleep\n",
    "\n",
    "print(do_bench(lambda: dispatch_fa(q, k, v, 256, 64))[0])\n",
    "sleep(2)\n",
    "print(do_bench(lambda: dispatch_fa(q, k, v, 128, 0.2))[0])"
   ]
  },
  {
   "cell_type": "code",
   "execution_count": null,
   "metadata": {},
   "outputs": [],
   "source": []
  },
  {
   "cell_type": "code",
   "execution_count": null,
   "metadata": {},
   "outputs": [],
   "source": []
  },
  {
   "cell_type": "code",
   "execution_count": 3,
   "metadata": {},
   "outputs": [],
   "source": [
    "from conch.bench import running_times, fit_gaussian_mixture"
   ]
  },
  {
   "cell_type": "code",
   "execution_count": 4,
   "metadata": {},
   "outputs": [],
   "source": [
    "times = running_times(lambda: attention(q, k, v, 0.2), 1024)"
   ]
  },
  {
   "cell_type": "code",
   "execution_count": 5,
   "metadata": {},
   "outputs": [
    {
     "data": {
      "text/plain": [
       "[<matplotlib.lines.Line2D at 0x7ff2d96c4970>]"
      ]
     },
     "execution_count": 5,
     "metadata": {},
     "output_type": "execute_result"
    },
    {
     "data": {
      "image/png": "[encoded data removed]",
      "text/plain": [
       "<Figure size 640x480 with 1 Axes>"
      ]
     },
     "metadata": {},
     "output_type": "display_data"
    }
   ],
   "source": [
    "from matplotlib import pyplot as plt\n",
    "plt.plot(times)"
   ]
  },
  {
   "cell_type": "code",
   "execution_count": 6,
   "metadata": {},
   "outputs": [],
   "source": [
    "q2, k2, v2 = make_fa_tensors(8, 96, 2048, 64)"
   ]
  },
  {
   "cell_type": "code",
   "execution_count": 7,
   "metadata": {},
   "outputs": [],
   "source": [
    "times = running_times(lambda: attention(q2, k2, v2, 0.2), 1024)"
   ]
  },
  {
   "cell_type": "code",
   "execution_count": 8,
   "metadata": {},
   "outputs": [
    {
     "data": {
      "text/plain": [
       "[<matplotlib.lines.Line2D at 0x7ff2d9389480>]"
      ]
     },
     "execution_count": 8,
     "metadata": {},
     "output_type": "execute_result"
    },
    {
     "data": {
      "image/png": "[encoded data removed]",
      "text/plain": [
       "<Figure size 640x480 with 1 Axes>"
      ]
     },
     "metadata": {},
     "output_type": "display_data"
    }
   ],
   "source": [
    "plt.plot(times)"
   ]
  },
  {
   "cell_type": "code",
   "execution_count": 9,
   "metadata": {},
   "outputs": [
    {
     "data": {
      "text/plain": [
       "RunningTimeGMM(gmm=GaussianMixture(), component_means=array([3.65285581]), component_stds=array([0.00582601]), rtimes_per_mean={3.652855811366047: 1004}, iqr_per_mean={3.652855811366047: 0.008192062377929688})"
      ]
     },
     "execution_count": 9,
     "metadata": {},
     "output_type": "execute_result"
    }
   ],
   "source": [
    "fit_gaussian_mixture(times)"
   ]
  },
  {
   "cell_type": "code",
   "execution_count": 10,
   "metadata": {},
   "outputs": [
    {
     "data": {
      "text/plain": [
       "245.05753350257874"
      ]
     },
     "execution_count": 10,
     "metadata": {},
     "output_type": "execute_result"
    }
   ],
   "source": [
    "sum(times[:1024 - 957])"
   ]
  },
  {
   "cell_type": "code",
   "execution_count": 11,
   "metadata": {},
   "outputs": [
    {
     "name": "stdout",
     "output_type": "stream",
     "text": [
      "3.6536319255828857\n",
      "3.6515839099884033\n",
      "3.6526079177856445\n",
      "3.6526079177856445\n",
      "3.6536319255828857\n",
      "3.654655933380127\n",
      "3.650559902191162\n",
      "3.6536319255828857\n",
      "3.6526079177856445\n",
      "3.6515839099884033\n",
      "3.6526079177856445\n",
      "3.654655933380127\n",
      "3.6526079177856445\n",
      "3.6536319255828857\n",
      "3.6526079177856445\n"
     ]
    }
   ],
   "source": [
    "from triton.testing import do_bench\n",
    "from time import sleep\n",
    "\n",
    "db = lambda: print(do_bench(lambda: attention(q2, k2, v2, 0.2))[0])\n",
    "\n",
    "for _ in range(15):\n",
    "    db()"
   ]
  },
  {
   "cell_type": "code",
   "execution_count": 12,
   "metadata": {},
   "outputs": [
    {
     "name": "stdout",
     "output_type": "stream",
     "text": [
      "3.6526079177856445\n",
      "3.6526079177856445\n",
      "3.6536319255828857\n",
      "4.672512054443359\n",
      "3.6536319255828857\n",
      "3.6515839099884033\n"
     ]
    }
   ],
   "source": [
    "db()\n",
    "db()\n",
    "db()\n",
    "sleep(2) # Note: 1s sleep is not enough.\n",
    "db()\n",
    "db()\n",
    "db()"
   ]
  },
  {
   "attachments": {},
   "cell_type": "markdown",
   "metadata": {},
   "source": [
    "We have found a kernel which takes ~300ms or more to warm up. Sometimes it takes so long even the second call to `do_bench` returns an incorrect value. Once the GPU is warmed up and `do_bench` reliability returns the correct value, provided that we don't wait too long (and let the GPU 'cool down'). A 2 second sleep is long enough that the GPU 'cools down' and `do_bench` returns the wrong value again."
   ]
  },
  {
   "attachments": {},
   "cell_type": "markdown",
   "metadata": {},
   "source": [
    "We can use this to create an instance where the autotuner picks the wrong config."
   ]
  },
  {
   "attachments": {},
   "cell_type": "markdown",
   "metadata": {},
   "source": [
    "## Warmup solution"
   ]
  },
  {
   "attachments": {},
   "cell_type": "markdown",
   "metadata": {},
   "source": [
    "Is it possible to warmup the GPU very quickly by executing either a small torch statement or Triton kernel, many times. Or at least quickly detect that the GPU is not warmed up."
   ]
  },
  {
   "cell_type": "code",
   "execution_count": 13,
   "metadata": {},
   "outputs": [
    {
     "name": "stdout",
     "output_type": "stream",
     "text": [
      "3.6515839099884033\n",
      "3.6526079177856445\n",
      "3.6526079177856445\n",
      "--sleeping--\n",
      "3.654655933380127\n",
      "3.649535894393921\n",
      "3.6515839099884033\n"
     ]
    }
   ],
   "source": [
    "db()\n",
    "db()\n",
    "db()\n",
    "print(\"--sleeping--\")\n",
    "sleep(2)\n",
    "t = torch.rand((100,100), device=\"cuda\")\n",
    "for _ in range(20000):\n",
    "    t = t @ t\n",
    "db()\n",
    "db()\n",
    "db()"
   ]
  },
  {
   "attachments": {},
   "cell_type": "markdown",
   "metadata": {},
   "source": [
    "This proves that it's not the individual kernel that's 'warming-up', but the GPU itself. We can warmup the GPU by executing PyTorch code."
   ]
  },
  {
   "attachments": {},
   "cell_type": "markdown",
   "metadata": {},
   "source": [
    "### Warmup efficiency"
   ]
  },
  {
   "attachments": {},
   "cell_type": "markdown",
   "metadata": {},
   "source": [
    "What's the fastest (and lowest memory) way to warmup the GPU? How does the time taken change when we do a fast kernel with many iterations, vs a slow kernel with few iterations?"
   ]
  },
  {
   "cell_type": "code",
   "execution_count": 14,
   "metadata": {},
   "outputs": [],
   "source": [
    "%load_ext autoreload\n",
    "%autoreload 2"
   ]
  },
  {
   "cell_type": "code",
   "execution_count": 15,
   "metadata": {},
   "outputs": [
    {
     "data": {
      "text/plain": [
       "{0.019710354301629655: 4980}"
      ]
     },
     "execution_count": 15,
     "metadata": {},
     "output_type": "execute_result"
    },
    {
     "data": {
      "image/png": "[encoded data removed]",
      "text/plain": [
       "<Figure size 640x480 with 1 Axes>"
      ]
     },
     "metadata": {},
     "output_type": "display_data"
    }
   ],
   "source": [
    "t = torch.rand((100,100), device=\"cuda\")\n",
    "times = running_times(lambda: t @ t @ t, 5000)\n",
    "plt.plot(times)\n",
    "fit_gaussian_mixture(times).rtimes_per_mean"
   ]
  },
  {
   "cell_type": "code",
   "execution_count": 16,
   "metadata": {},
   "outputs": [],
   "source": [
    "from math import prod"
   ]
  },
  {
   "cell_type": "code",
   "execution_count": 17,
   "metadata": {},
   "outputs": [
    {
     "data": {
      "text/plain": [
       "98.15756442211568"
      ]
     },
     "execution_count": 17,
     "metadata": {},
     "output_type": "execute_result"
    }
   ],
   "source": [
    "prod(next(iter(fit_gaussian_mixture(times).rtimes_per_mean.items())))"
   ]
  },
  {
   "cell_type": "code",
   "execution_count": 18,
   "metadata": {},
   "outputs": [
    {
     "name": "stdout",
     "output_type": "stream",
     "text": [
      "[(0.0197568249589498, 4980)]\n",
      "[(0.022072479456241276, 127), (0.019822212928674966, 4853)]\n",
      "2.803204890942642\n",
      "[(0.02474057112779764, 668), (0.019765626863492064, 4312)]\n",
      "16.526701513368824\n",
      "[(0.024674235086523822, 670), (0.01975319769616736, 4310)]\n",
      "16.53173750797096\n",
      "[(0.02470739746977162, 584), (0.019767328198797743, 4396)]\n",
      "14.429120122346626\n"
     ]
    }
   ],
   "source": [
    "t = torch.rand((100,100), device=\"cuda\")\n",
    "for _ in range(5):\n",
    "    times = running_times(lambda: t @ t @ t, 5000, \"ms\")\n",
    "    rtimes_per_mean = list(fit_gaussian_mixture(times).rtimes_per_mean.items())\n",
    "    print(rtimes_per_mean)\n",
    "    if len(rtimes_per_mean) == 1:\n",
    "        continue\n",
    "    print(prod(rtimes_per_mean[0]))\n",
    "    sleep(2)"
   ]
  },
  {
   "cell_type": "code",
   "execution_count": 19,
   "metadata": {},
   "outputs": [
    {
     "name": "stdout",
     "output_type": "stream",
     "text": [
      "[(0.34133333659597803, 1), (0.31129598617553644, 667), (0.26701682806015015, 336)]\n",
      "0.34133333659597803\n",
      "[(0.34118911036303345, 213), (0.2665701157751337, 791)]\n",
      "72.67328050732613\n",
      "[(0.3396457960765142, 553), (0.2666373406836305, 451)]\n",
      "187.82412523031235\n",
      "[(0.3403667405492863, 547), (0.29900801181793146, 1), (0.2673717890130846, 456)]\n",
      "186.1806070804596\n",
      "[(0.34010370919503363, 332), (0.26667581121658995, 672)]\n",
      "112.91443145275116\n"
     ]
    }
   ],
   "source": [
    "t = torch.rand((1024,1024), device=\"cuda\")\n",
    "for _ in range(5):\n",
    "    times = running_times(lambda: t @ t @ t, 1024, \"ms\")\n",
    "    rtimes_per_mean = list(fit_gaussian_mixture(times).rtimes_per_mean.items())\n",
    "    print(rtimes_per_mean)\n",
    "    if len(rtimes_per_mean) == 1:\n",
    "        continue\n",
    "    print(prod(rtimes_per_mean[0]))\n",
    "    sleep(2)"
   ]
  },
  {
   "cell_type": "code",
   "execution_count": 20,
   "metadata": {},
   "outputs": [
    {
     "name": "stdout",
     "output_type": "stream",
     "text": [
      "[(0.029159134615933047, 997), (0.023315884465960546, 3079)]\n",
      "29.07165721208525\n",
      "[(0.029134469253040057, 852), (0.023331876933014632, 3224)]\n",
      "24.82256780359013\n",
      "[(0.02914931798530994, 758), (0.023378670361823364, 3318)]\n",
      "22.095183032864934\n",
      "[(0.029011187284145642, 647), (0.023401879812506167, 3429)]\n",
      "18.77023817284223\n",
      "[(0.029064707108097658, 1432), (0.023424943469700095, 2644)]\n",
      "41.62066057879585\n"
     ]
    }
   ],
   "source": [
    "t = torch.rand((16,16), device=\"cuda\")\n",
    "for _ in range(5):\n",
    "    times = running_times(lambda: t @ t @ t @ t @ t, 4096, \"ms\")\n",
    "    rtimes_per_mean = list(fit_gaussian_mixture(times).rtimes_per_mean.items())\n",
    "    print(rtimes_per_mean)\n",
    "    if len(rtimes_per_mean) == 1:\n",
    "        continue\n",
    "    print(prod(rtimes_per_mean[0]))\n",
    "    sleep(2)"
   ]
  },
  {
   "cell_type": "code",
   "execution_count": 21,
   "metadata": {},
   "outputs": [
    {
     "name": "stderr",
     "output_type": "stream",
     "text": [
      "[autoreload of conch.bench failed: Traceback (most recent call last):\n",
      "  File \"/opt/conda/lib/python3.10/site-packages/IPython/extensions/autoreload.py\", line 273, in check\n",
      "    superreload(m, reload, self.old_objects)\n",
      "  File \"/opt/conda/lib/python3.10/site-packages/IPython/extensions/autoreload.py\", line 471, in superreload\n",
      "    module = reload(module)\n",
      "  File \"/opt/conda/lib/python3.10/importlib/__init__.py\", line 169, in reload\n",
      "    _bootstrap._exec(spec, module)\n",
      "  File \"<frozen importlib._bootstrap>\", line 619, in _exec\n",
      "  File \"<frozen importlib._bootstrap_external>\", line 879, in exec_module\n",
      "  File \"<frozen importlib._bootstrap_external>\", line 1017, in get_code\n",
      "  File \"<frozen importlib._bootstrap_external>\", line 947, in source_to_code\n",
      "  File \"<frozen importlib._bootstrap>\", line 241, in _call_with_frames_removed\n",
      "  File \"/home/trist/conch/conch/bench.py\", line 321\n",
      "    def auto_grid_search(fn, )\n",
      "                              ^\n",
      "SyntaxError: expected ':'\n",
      "]\n"
     ]
    },
    {
     "name": "stdout",
     "output_type": "stream",
     "text": [
      "[(0.044961093480871545, 628), (0.0356139440702849, 3448)]\n",
      "28.23556670598733\n",
      "[(0.04498024269888983, 1202), (0.03567476186241226, 2874)]\n",
      "54.06625172406558\n",
      "[(0.04495584072903135, 777), (0.03560130551421463, 3299)]\n",
      "34.930688246457365\n",
      "[(0.044980917640608395, 1282), (0.03561973459752081, 2794)]\n",
      "57.665536415259965\n",
      "[(0.04495836838966661, 902), (0.03553834994147629, 3174)]\n",
      "40.55244828747928\n"
     ]
    }
   ],
   "source": [
    "t = torch.rand((128,128), device=\"cuda\")\n",
    "for _ in range(5):\n",
    "    times = running_times(lambda: t @ t @ t @ t @ t, 4096, \"ms\")\n",
    "    rtimes_per_mean = list(fit_gaussian_mixture(times).rtimes_per_mean.items())\n",
    "    print(rtimes_per_mean)\n",
    "    if len(rtimes_per_mean) == 1:\n",
    "        continue\n",
    "    print(prod(rtimes_per_mean[0]))\n",
    "    sleep(2)"
   ]
  },
  {
   "cell_type": "code",
   "execution_count": 22,
   "metadata": {},
   "outputs": [],
   "source": [
    "from functools import reduce\n",
    "from operator import matmul"
   ]
  },
  {
   "cell_type": "code",
   "execution_count": 23,
   "metadata": {},
   "outputs": [
    {
     "name": "stdout",
     "output_type": "stream",
     "text": [
      "[(0.024628737864473477, 946), (0.019997514352682606, 3130)]\n",
      "23.29878601979191\n",
      "[(0.024658873781331275, 819), (0.019993172689666924, 3257)]\n",
      "20.195617626910316\n",
      "[(0.024631416180998907, 736), (0.01999321535906407, 3340)]\n",
      "18.128722309215195\n",
      "[(0.024629311236100526, 665), (0.01997415573470568, 3411)]\n",
      "16.37849197200685\n",
      "[(0.02467662953894649, 540), (0.02005654270743168, 3536)]\n",
      "13.325379951031104\n"
     ]
    }
   ],
   "source": [
    "t = torch.empty((128,128), device=\"cuda\")\n",
    "for _ in range(5):\n",
    "    times = running_times(lambda: reduce(matmul, (t for _ in range(3))), 4096, \"ms\")\n",
    "    rtimes_per_mean = list(fit_gaussian_mixture(times).rtimes_per_mean.items())\n",
    "    print(rtimes_per_mean)\n",
    "    if len(rtimes_per_mean) == 1:\n",
    "        continue\n",
    "    print(prod(rtimes_per_mean[0]))\n",
    "    sleep(2)"
   ]
  },
  {
   "attachments": {},
   "cell_type": "markdown",
   "metadata": {},
   "source": [
    "Most reliable warmup method:\n",
    "\n",
    "```python\n",
    "t = torch.empty((128, 128), device='cuda')\n",
    "for _ in range(4096):\n",
    "    t = t @ t @ t\n",
    "```"
   ]
  },
  {
   "cell_type": "code",
   "execution_count": 24,
   "metadata": {},
   "outputs": [
    {
     "name": "stderr",
     "output_type": "stream",
     "text": [
      "[autoreload of conch.bench failed: Traceback (most recent call last):\n",
      "  File \"/opt/conda/lib/python3.10/site-packages/IPython/extensions/autoreload.py\", line 273, in check\n",
      "    superreload(m, reload, self.old_objects)\n",
      "  File \"/opt/conda/lib/python3.10/site-packages/IPython/extensions/autoreload.py\", line 471, in superreload\n",
      "    module = reload(module)\n",
      "  File \"/opt/conda/lib/python3.10/importlib/__init__.py\", line 169, in reload\n",
      "    _bootstrap._exec(spec, module)\n",
      "  File \"<frozen importlib._bootstrap>\", line 619, in _exec\n",
      "  File \"<frozen importlib._bootstrap_external>\", line 879, in exec_module\n",
      "  File \"<frozen importlib._bootstrap_external>\", line 1017, in get_code\n",
      "  File \"<frozen importlib._bootstrap_external>\", line 947, in source_to_code\n",
      "  File \"<frozen importlib._bootstrap>\", line 241, in _call_with_frames_removed\n",
      "  File \"/home/trist/conch/conch/bench.py\", line 321\n",
      "    def auto_grid_search(fn, grid: MetaParamGrid)\n",
      "                                                 ^\n",
      "SyntaxError: expected ':'\n",
      "]\n"
     ]
    },
    {
     "name": "stdout",
     "output_type": "stream",
     "text": [
      "3.654143810272217\n"
     ]
    }
   ],
   "source": [
    "t = torch.empty((128, 128), device='cuda')\n",
    "for _ in range(4096):\n",
    "    t = t @ t @ t\n",
    "db()"
   ]
  },
  {
   "attachments": {},
   "cell_type": "markdown",
   "metadata": {},
   "source": [
    "### Warmup canary"
   ]
  },
  {
   "attachments": {},
   "cell_type": "markdown",
   "metadata": {},
   "source": [
    "The warmup function should ideally act as a warmup canary - to tell us if the GPU is warm. For this purpose, it should experience a big difference in performance when the GPU is warm vs cold."
   ]
  },
  {
   "cell_type": "code",
   "execution_count": 25,
   "metadata": {},
   "outputs": [
    {
     "name": "stderr",
     "output_type": "stream",
     "text": [
      "[autoreload of conch.bench failed: Traceback (most recent call last):\n",
      "  File \"/opt/conda/lib/python3.10/site-packages/IPython/extensions/autoreload.py\", line 273, in check\n",
      "    superreload(m, reload, self.old_objects)\n",
      "  File \"/opt/conda/lib/python3.10/site-packages/IPython/extensions/autoreload.py\", line 471, in superreload\n",
      "    module = reload(module)\n",
      "  File \"/opt/conda/lib/python3.10/importlib/__init__.py\", line 169, in reload\n",
      "    _bootstrap._exec(spec, module)\n",
      "  File \"<frozen importlib._bootstrap>\", line 619, in _exec\n",
      "  File \"<frozen importlib._bootstrap_external>\", line 879, in exec_module\n",
      "  File \"<frozen importlib._bootstrap_external>\", line 1017, in get_code\n",
      "  File \"<frozen importlib._bootstrap_external>\", line 947, in source_to_code\n",
      "  File \"<frozen importlib._bootstrap>\", line 241, in _call_with_frames_removed\n",
      "  File \"/home/trist/conch/conch/bench.py\", line 324\n",
      "    def results_to_df(results, top_n: int = 10):\n",
      "    ^^^\n",
      "IndentationError: expected an indented block after function definition on line 321\n",
      "]\n"
     ]
    },
    {
     "data": {
      "text/plain": [
       "[<matplotlib.lines.Line2D at 0x7ff2d7ad56f0>]"
      ]
     },
     "execution_count": 25,
     "metadata": {},
     "output_type": "execute_result"
    },
    {
     "data": {
      "image/png": "[encoded data removed]",
      "text/plain": [
       "<Figure size 640x480 with 1 Axes>"
      ]
     },
     "metadata": {},
     "output_type": "display_data"
    }
   ],
   "source": [
    "t = torch.rand((128,128), device=\"cuda\")\n",
    "times = running_times(lambda: t @ t @ t @ t, 5000)\n",
    "plt.plot(times)"
   ]
  },
  {
   "cell_type": "code",
   "execution_count": 26,
   "metadata": {},
   "outputs": [
    {
     "name": "stdout",
     "output_type": "stream",
     "text": [
      "None\n"
     ]
    },
    {
     "name": "stderr",
     "output_type": "stream",
     "text": [
      "[autoreload of conch.bench failed: Traceback (most recent call last):\n",
      "  File \"/opt/conda/lib/python3.10/site-packages/IPython/extensions/autoreload.py\", line 273, in check\n",
      "    superreload(m, reload, self.old_objects)\n",
      "  File \"/opt/conda/lib/python3.10/site-packages/IPython/extensions/autoreload.py\", line 471, in superreload\n",
      "    module = reload(module)\n",
      "  File \"/opt/conda/lib/python3.10/importlib/__init__.py\", line 169, in reload\n",
      "    _bootstrap._exec(spec, module)\n",
      "  File \"<frozen importlib._bootstrap>\", line 619, in _exec\n",
      "  File \"<frozen importlib._bootstrap_external>\", line 879, in exec_module\n",
      "  File \"<frozen importlib._bootstrap_external>\", line 1017, in get_code\n",
      "  File \"<frozen importlib._bootstrap_external>\", line 947, in source_to_code\n",
      "  File \"<frozen importlib._bootstrap>\", line 241, in _call_with_frames_removed\n",
      "  File \"/home/trist/conch/conch/bench.py\", line 326\n",
      "    def results_to_df(results, top_n: int = 10):\n",
      "    ^^^\n",
      "IndentationError: expected an indented block after function definition on line 321\n",
      "]\n"
     ]
    }
   ],
   "source": [
    "from conch.bench import ensure_warm_gpu, _GPU_WARMUP_RUNTIME\n",
    "\n",
    "print(_GPU_WARMUP_RUNTIME)"
   ]
  },
  {
   "cell_type": "code",
   "execution_count": 27,
   "metadata": {},
   "outputs": [
    {
     "name": "stdout",
     "output_type": "stream",
     "text": [
      "CPU times: user 1.04 s, sys: 2.97 ms, total: 1.05 s\n",
      "Wall time: 1.1 s\n"
     ]
    }
   ],
   "source": [
    "%%time\n",
    "\n",
    "ensure_warm_gpu()\n",
    "ensure_warm_gpu()\n",
    "ensure_warm_gpu()\n",
    "torch.cuda.synchronize()"
   ]
  },
  {
   "attachments": {},
   "cell_type": "markdown",
   "metadata": {},
   "source": [
    "Check that although calling `ensure_warm_gpu` with a cold GPU is slow, subsequent calls while the GPU is warm are fast."
   ]
  },
  {
   "cell_type": "code",
   "execution_count": 28,
   "metadata": {},
   "outputs": [
    {
     "name": "stdout",
     "output_type": "stream",
     "text": [
      "CPU times: user 98.9 ms, sys: 79 µs, total: 99 ms\n",
      "Wall time: 119 ms\n",
      "CPU times: user 3.49 s, sys: 65.4 ms, total: 3.55 s\n",
      "Wall time: 3.63 s\n"
     ]
    }
   ],
   "source": [
    "%time ensure_warm_gpu(); torch.cuda.synchronize()\n",
    "\n",
    "%time [ensure_warm_gpu() for _ in range(100)];"
   ]
  },
  {
   "cell_type": "code",
   "execution_count": 29,
   "metadata": {},
   "outputs": [],
   "source": [
    "from conch.bench import auto_bench"
   ]
  },
  {
   "cell_type": "code",
   "execution_count": 30,
   "metadata": {},
   "outputs": [],
   "source": [
    "krnl = lambda: attention(q2, k2, v2, 0.2)"
   ]
  },
  {
   "cell_type": "code",
   "execution_count": 31,
   "metadata": {},
   "outputs": [
    {
     "data": {
      "text/plain": [
       "(3.6510720252990723, 3.6531200408935547, 3.6526079177856445)"
      ]
     },
     "execution_count": 31,
     "metadata": {},
     "output_type": "execute_result"
    }
   ],
   "source": [
    "do_bench(krnl)[0], do_bench(krnl)[0], do_bench(krnl)[0]"
   ]
  },
  {
   "cell_type": "code",
   "execution_count": 32,
   "metadata": {},
   "outputs": [
    {
     "data": {
      "text/plain": [
       "(3.752959966659546, 3.7442559003829956, 3.721216082572937)"
      ]
     },
     "execution_count": 32,
     "metadata": {},
     "output_type": "execute_result"
    }
   ],
   "source": [
    "auto_bench(krnl), auto_bench(krnl), auto_bench(krnl)"
   ]
  },
  {
   "cell_type": "code",
   "execution_count": 33,
   "metadata": {},
   "outputs": [
    {
     "name": "stdout",
     "output_type": "stream",
     "text": [
      "CPU times: user 1.89 s, sys: 508 ms, total: 2.39 s\n",
      "Wall time: 2.47 s\n",
      "CPU times: user 448 ms, sys: 82.6 ms, total: 530 ms\n",
      "Wall time: 530 ms\n"
     ]
    }
   ],
   "source": [
    "%time [do_bench(krnl) for _ in range(16)];\n",
    "\n",
    "%time [auto_bench(krnl) for _ in range(16)];"
   ]
  },
  {
   "cell_type": "code",
   "execution_count": 34,
   "metadata": {},
   "outputs": [],
   "source": [
    "from conch.bench import auto_grid_search"
   ]
  },
  {
   "cell_type": "code",
   "execution_count": null,
   "metadata": {},
   "outputs": [],
   "source": [
    "auto_grid_search()"
   ]
  }
 ],
 "metadata": {
  "kernelspec": {
   "display_name": "base",
   "language": "python",
   "name": "python3"
  },
  "language_info": {
   "codemirror_mode": {
    "name": "ipython",
    "version": 3
   },
   "file_extension": ".py",
   "mimetype": "text/x-python",
   "name": "python",
   "nbconvert_exporter": "python",
   "pygments_lexer": "ipython3",
   "version": "3.10.9"
  },
  "orig_nbformat": 4
 },
 "nbformat": 4,
 "nbformat_minor": 2
}
