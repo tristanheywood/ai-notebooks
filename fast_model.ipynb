{
 "cells": [
  {
   "cell_type": "code",
   "execution_count": 10,
   "metadata": {},
   "outputs": [],
   "source": [
    "import flax.linen as nn\n",
    "import jax.numpy as jnp\n",
    "import jax\n",
    "from jax import lax\n",
    "from jax.tree_util import tree_map"
   ]
  },
  {
   "cell_type": "code",
   "execution_count": 11,
   "metadata": {},
   "outputs": [],
   "source": [
    "from nimblegpt import get_config_for, make_gpt_param_dict, get_flaxmodels_gpt2_params, param_shapes"
   ]
  },
  {
   "cell_type": "code",
   "execution_count": 12,
   "metadata": {},
   "outputs": [],
   "source": [
    "from nimblegpt.base_model import (\n",
    "    BaseBlock,\n",
    "    BaseCausalSelfAttention,\n",
    "    BaseGPT,\n",
    "    BaseSingleHeadCausalSelfAttention,\n",
    ")\n",
    "from nimblegpt.model import GELU, softmax, SingleHeadCausalSelfAttention, GPT"
   ]
  },
  {
   "cell_type": "code",
   "execution_count": 13,
   "metadata": {},
   "outputs": [],
   "source": [
    "from nimblegpt.fast_model import FSingleHeadCausalSelfAttention"
   ]
  },
  {
   "cell_type": "code",
   "execution_count": 14,
   "metadata": {},
   "outputs": [],
   "source": [
    "config = get_config_for(\"gpt2\")"
   ]
  },
  {
   "cell_type": "code",
   "execution_count": 15,
   "metadata": {},
   "outputs": [
    {
     "data": {
      "text/plain": [
       "attn_pdrop: 0.1\n",
       "block_size: 1024\n",
       "embd_pdrop: 0.1\n",
       "model_type: gpt2\n",
       "n_embd: 768\n",
       "n_head: 12\n",
       "n_layer: 12\n",
       "resid_pdrop: 0.1\n",
       "vocab_size: 50257"
      ]
     },
     "execution_count": 15,
     "metadata": {},
     "output_type": "execute_result"
    }
   ],
   "source": [
    "config"
   ]
  },
  {
   "cell_type": "code",
   "execution_count": 16,
   "metadata": {},
   "outputs": [
    {
     "name": "stdout",
     "output_type": "stream",
     "text": [
      "The autoreload extension is already loaded. To reload it, use:\n",
      "  %reload_ext autoreload\n"
     ]
    }
   ],
   "source": [
    "%load_ext autoreload\n",
    "%autoreload 2"
   ]
  },
  {
   "cell_type": "code",
   "execution_count": 17,
   "metadata": {},
   "outputs": [
    {
     "data": {
      "text/plain": [
       "{'Dense_0': {'bias': '(192)', 'kernel': '(768, 192)'}}"
      ]
     },
     "execution_count": 17,
     "metadata": {},
     "output_type": "execute_result"
    }
   ],
   "source": [
    "gpt_params = make_gpt_param_dict(get_flaxmodels_gpt2_params(), config)\n",
    "sa_0_params = gpt_params[\"Block_0\"][\"CausalSelfAttention_0\"][\n",
    "    \"VmapSingleHeadCausalSelfAttention_0\"]\n",
    "sh_0_params = tree_map(lambda x: x[0], sa_0_params)\n",
    "param_shapes(sh_0_params)"
   ]
  },
  {
   "cell_type": "code",
   "execution_count": 39,
   "metadata": {},
   "outputs": [],
   "source": [
    "rng = jax.random.PRNGKey(0)"
   ]
  },
  {
   "attachments": {},
   "cell_type": "markdown",
   "metadata": {},
   "source": [
    "# Generation Function"
   ]
  },
  {
   "cell_type": "code",
   "execution_count": 51,
   "metadata": {},
   "outputs": [],
   "source": [
    "from nimblegpt.fast_model import FGPT\n",
    "from nimblegpt.generate import sample_token, generate_tokens"
   ]
  },
  {
   "cell_type": "code",
   "execution_count": 37,
   "metadata": {},
   "outputs": [],
   "source": [
    "fgpt_module = FGPT.Make(config)"
   ]
  },
  {
   "cell_type": "code",
   "execution_count": 44,
   "metadata": {},
   "outputs": [],
   "source": [
    "vars = fgpt_module.init_vars({\"params\": gpt_params})"
   ]
  },
  {
   "cell_type": "code",
   "execution_count": 41,
   "metadata": {},
   "outputs": [
    {
     "data": {
      "text/plain": [
       "Array([23652,  9593,  2133], dtype=int32)"
      ]
     },
     "execution_count": 41,
     "metadata": {},
     "output_type": "execute_result"
    }
   ],
   "source": [
    "prompt_idxs = jax.random.randint(rng, (3,), 0, config.vocab_size)\n",
    "prompt_idxs"
   ]
  },
  {
   "cell_type": "code",
   "execution_count": 59,
   "metadata": {},
   "outputs": [
    {
     "data": {
      "text/plain": [
       "Array([23652,  9593,  2133, 29569, 13936,   286,  3294, 11621,   357,\n",
       "          18,    35,     8,   198], dtype=int32)"
      ]
     },
     "execution_count": 59,
     "metadata": {},
     "output_type": "execute_result"
    }
   ],
   "source": [
    "fgpt_module.generate(rng, {\"params\": gpt_params, **vars}, prompt_idxs, sample_token)"
   ]
  },
  {
   "cell_type": "code",
   "execution_count": 65,
   "metadata": {},
   "outputs": [
    {
     "data": {
      "text/plain": [
       "Array([23652,  9593,  2133, 29569, 13936,   286,  3294, 11621,   357,\n",
       "          18,    35,     8,   198,   198,    32,  3748, 16106,  4427,\n",
       "         198,   198,    32,   649,  1080,   286,  5021,    12,  7829,\n",
       "        5249,   351,   513,  1180,  2137, 22582,   290,   362,  1180,\n",
       "       12881,   198,   198, 11002,   351,   257,  1545,   290,   766,\n",
       "         703,   262,  9552, 21126,   656,   511,  2095,   198,   198,\n",
       "          20,    12,    35,   393,   513,    12,    35,  9382,    11,\n",
       "         257,   649,   983,  3113,   351,  1365,  3703,   290,   257,\n",
       "       26192,   995,   290,   517,  3716,  2095,   198,   198,    17,\n",
       "          12,    35,   393,   604,    12,    35,  9382,    11,   517,\n",
       "        3716,   995,   326,  3578,   345,   284,  7301,   262,  1621,\n",
       "         198,   198, 15022,  5612], dtype=int32)"
      ]
     },
     "execution_count": 65,
     "metadata": {},
     "output_type": "execute_result"
    }
   ],
   "source": [
    "jit_gen = jax.jit(fgpt_module.generate, static_argnames=(\"logit_sampler\", \"max_new_tokens\"))\n",
    "jit_gen(rng, {\"params\": gpt_params, **vars}, prompt_idxs, sample_token, max_new_tokens=100)"
   ]
  },
  {
   "cell_type": "code",
   "execution_count": 67,
   "metadata": {},
   "outputs": [
    {
     "name": "stdout",
     "output_type": "stream",
     "text": [
      "3.05 s ± 71.7 ms per loop (mean ± std. dev. of 7 runs, 1 loop each)\n"
     ]
    }
   ],
   "source": [
    "%%timeit\n",
    "\n",
    "jit_gen(rng, {\"params\": gpt_params, **vars}, prompt_idxs, sample_token, max_new_tokens=config.block_size - len(prompt_idxs))"
   ]
  },
  {
   "cell_type": "code",
   "execution_count": 55,
   "metadata": {},
   "outputs": [
    {
     "data": {
      "text/plain": [
       "Array([23652,  9593,  2133, 29569, 13936,   286,  3294, 11621,   357,\n",
       "          18,    35,     8,   198], dtype=int32)"
      ]
     },
     "execution_count": 55,
     "metadata": {},
     "output_type": "execute_result"
    }
   ],
   "source": [
    "generate_tokens(rng, GPT(config).bind({\"params\": gpt_params}), prompt_idxs, max_new_tokens=10)"
   ]
  },
  {
   "attachments": {},
   "cell_type": "markdown",
   "metadata": {},
   "source": [
    "# Jittable Generation"
   ]
  },
  {
   "cell_type": "code",
   "execution_count": 18,
   "metadata": {},
   "outputs": [],
   "source": [
    "from nimblegpt.fast_model import FGPT\n",
    "from nimblegpt.generate import sample_token"
   ]
  },
  {
   "cell_type": "code",
   "execution_count": 36,
   "metadata": {},
   "outputs": [],
   "source": [
    "fgpt_module = FGPT.Make(config)"
   ]
  },
  {
   "cell_type": "code",
   "execution_count": 20,
   "metadata": {},
   "outputs": [],
   "source": [
    "_, vars = fgpt_module.apply({\"params\": gpt_params},\n",
    "                            jnp.array(10),\n",
    "                            jnp.array(0),\n",
    "                            mutable=\"cache\")"
   ]
  },
  {
   "cell_type": "code",
   "execution_count": 27,
   "metadata": {},
   "outputs": [],
   "source": [
    "from typing import Dict\n",
    "\n",
    "\n",
    "def body(seq_idx: int, val: Dict):\n",
    "    logits, cache = FGPT.Make(config).apply(val[\"variables\"],\n",
    "                                            val[\"seq\"][seq_idx],\n",
    "                                            seq_idx,\n",
    "                                            mutable=\"cache\")\n",
    "    tok_idx = sample_token(val[\"rng\"], logits)\n",
    "    return {\n",
    "        **val,\n",
    "        \"variables\": {\n",
    "            **val[\"variables\"],\n",
    "            **cache\n",
    "        },\n",
    "        \"rng\": jax.random.split(val[\"rng\"])[0],\n",
    "        \"seq\": val[\"seq\"].at[seq_idx + 1].set(tok_idx),\n",
    "    }"
   ]
  },
  {
   "cell_type": "code",
   "execution_count": 24,
   "metadata": {},
   "outputs": [
    {
     "data": {
      "text/plain": [
       "Array([23652,  9593,  2133], dtype=int32)"
      ]
     },
     "execution_count": 24,
     "metadata": {},
     "output_type": "execute_result"
    }
   ],
   "source": [
    "prompt_idxs = jax.random.randint(jax.random.PRNGKey(0), (3,), 0, config.vocab_size)\n",
    "prompt_idxs"
   ]
  },
  {
   "cell_type": "code",
   "execution_count": 30,
   "metadata": {},
   "outputs": [
    {
     "data": {
      "text/plain": [
       "Array([23652,  9593,  2133,     0,     0,     0], dtype=int32)"
      ]
     },
     "execution_count": 30,
     "metadata": {},
     "output_type": "execute_result"
    }
   ],
   "source": [
    "val = {\n",
    "    \"variables\": {\n",
    "        \"params\": gpt_params,\n",
    "        \"cache\": vars[\"cache\"]\n",
    "    },\n",
    "    \"rng\": jax.random.PRNGKey(0),\n",
    "    \"seq\": jnp.pad(prompt_idxs, (0, 3), constant_values=0),\n",
    "}\n",
    "val[\"seq\"]"
   ]
  },
  {
   "cell_type": "code",
   "execution_count": 32,
   "metadata": {},
   "outputs": [
    {
     "data": {
      "text/plain": [
       "Array([23652,   287,   262,   968, 18318,   357], dtype=int32)"
      ]
     },
     "execution_count": 32,
     "metadata": {},
     "output_type": "execute_result"
    }
   ],
   "source": [
    "jax.lax.fori_loop(0, 5, body, val)[\"seq\"]"
   ]
  },
  {
   "attachments": {},
   "cell_type": "markdown",
   "metadata": {},
   "source": [
    "# Logits Comparison"
   ]
  },
  {
   "cell_type": "code",
   "execution_count": 21,
   "metadata": {},
   "outputs": [],
   "source": [
    "from nimblegpt.fast_model import FGPT"
   ]
  },
  {
   "cell_type": "code",
   "execution_count": 22,
   "metadata": {},
   "outputs": [],
   "source": [
    "fgpt_module = FGPT.Make(config)\n",
    "vars = fgpt_module.init_vars(dict(params=gpt_params))\n"
   ]
  },
  {
   "cell_type": "code",
   "execution_count": 23,
   "metadata": {},
   "outputs": [],
   "source": [
    "logits, vars = fgpt_module.apply({\n",
    "    \"params\": gpt_params,\n",
    "    **vars\n",
    "},\n",
    "                                 jnp.array(10),\n",
    "                                 jnp.array(0),\n",
    "                                 mutable=\"cache\")\n"
   ]
  },
  {
   "cell_type": "code",
   "execution_count": 24,
   "metadata": {},
   "outputs": [
    {
     "data": {
      "text/plain": [
       "Array([-32.8549  , -31.824638, -33.43742 , ..., -40.04716 , -40.218723,\n",
       "       -32.17592 ], dtype=float32)"
      ]
     },
     "execution_count": 24,
     "metadata": {},
     "output_type": "execute_result"
    }
   ],
   "source": [
    "logits"
   ]
  },
  {
   "cell_type": "code",
   "execution_count": 25,
   "metadata": {},
   "outputs": [],
   "source": [
    "gpt_module = GPT(config)"
   ]
  },
  {
   "cell_type": "code",
   "execution_count": 26,
   "metadata": {},
   "outputs": [
    {
     "data": {
      "text/plain": [
       "Array([[-32.854923, -31.824661, -33.43744 , ..., -40.047188, -40.218746,\n",
       "        -32.175938]], dtype=float32)"
      ]
     },
     "execution_count": 26,
     "metadata": {},
     "output_type": "execute_result"
    }
   ],
   "source": [
    "gpt_module.apply({\"params\": gpt_params}, jnp.array([10]))"
   ]
  },
  {
   "attachments": {},
   "cell_type": "markdown",
   "metadata": {},
   "source": [
    "## Logits with prompt"
   ]
  },
  {
   "cell_type": "code",
   "execution_count": 49,
   "metadata": {},
   "outputs": [],
   "source": [
    "vars = fgpt_module.init_vars(dict(params=gpt_params))\n",
    "\n",
    "_, vars = fgpt_module.apply({\n",
    "    \"params\": gpt_params,\n",
    "    **vars\n",
    "},\n",
    "                            jnp.array(10),\n",
    "                            jnp.array(0),\n",
    "                            mutable=\"cache\")\n",
    "flogits, vars = fgpt_module.apply({\n",
    "    \"params\": gpt_params,\n",
    "    **vars\n",
    "},\n",
    "                                    jnp.array(11),      \n",
    "                                    jnp.array(1),\n",
    "                                    mutable=\"cache\")\n"
   ]
  },
  {
   "cell_type": "code",
   "execution_count": 50,
   "metadata": {},
   "outputs": [],
   "source": [
    "logits = gpt_module.apply({\"params\": gpt_params}, jnp.array([10, 11]))"
   ]
  },
  {
   "cell_type": "code",
   "execution_count": 51,
   "metadata": {},
   "outputs": [
    {
     "data": {
      "text/plain": [
       "Array([-89.370514, -89.77837 , -87.00991 , ..., -96.07502 , -95.442566,\n",
       "       -89.372604], dtype=float32)"
      ]
     },
     "execution_count": 51,
     "metadata": {},
     "output_type": "execute_result"
    }
   ],
   "source": [
    "flogits"
   ]
  },
  {
   "cell_type": "code",
   "execution_count": 52,
   "metadata": {},
   "outputs": [
    {
     "data": {
      "text/plain": [
       "Array([[-32.854923, -31.824652, -33.437424, ..., -40.047184, -40.218742,\n",
       "        -32.17593 ],\n",
       "       [-89.37053 , -89.778366, -87.00992 , ..., -96.07503 , -95.442566,\n",
       "        -89.37261 ]], dtype=float32)"
      ]
     },
     "execution_count": 52,
     "metadata": {},
     "output_type": "execute_result"
    }
   ],
   "source": [
    "logits"
   ]
  },
  {
   "cell_type": "code",
   "execution_count": null,
   "metadata": {},
   "outputs": [],
   "source": []
  },
  {
   "attachments": {},
   "cell_type": "markdown",
   "metadata": {},
   "source": [
    "# Sequence to Sequence"
   ]
  },
  {
   "cell_type": "code",
   "execution_count": 27,
   "metadata": {},
   "outputs": [],
   "source": [
    "from nimblegpt.fast_model import FGPT"
   ]
  },
  {
   "cell_type": "code",
   "execution_count": 28,
   "metadata": {},
   "outputs": [],
   "source": [
    "fgpt_module = FGPT.Make(config)"
   ]
  },
  {
   "cell_type": "code",
   "execution_count": 29,
   "metadata": {},
   "outputs": [],
   "source": [
    "rng = jax.random.PRNGKey(0)"
   ]
  },
  {
   "cell_type": "code",
   "execution_count": 30,
   "metadata": {},
   "outputs": [],
   "source": [
    "_, vars = fgpt_module.apply({\"params\": gpt_params},\n",
    "                            jnp.array(10),\n",
    "                            jnp.array(0),\n",
    "                            mutable=\"cache\")\n"
   ]
  },
  {
   "cell_type": "code",
   "execution_count": 31,
   "metadata": {},
   "outputs": [],
   "source": [
    "logits, vars = fgpt_module.apply({\n",
    "    \"params\": gpt_params,\n",
    "    \"cache\": vars[\"cache\"]\n",
    "},\n",
    "                                 jnp.array(10),\n",
    "                                 jnp.array(0),\n",
    "                                 mutable=\"cache\")\n"
   ]
  },
  {
   "cell_type": "code",
   "execution_count": 42,
   "metadata": {},
   "outputs": [
    {
     "data": {
      "text/plain": [
       "Array([23652,  9593,  2133], dtype=int32)"
      ]
     },
     "execution_count": 42,
     "metadata": {},
     "output_type": "execute_result"
    }
   ],
   "source": [
    "prompt_idx = jax.random.randint(rng, (3, ), 0, config.vocab_size)\n",
    "prompt_idx"
   ]
  },
  {
   "cell_type": "code",
   "execution_count": 55,
   "metadata": {},
   "outputs": [],
   "source": [
    "seq = jnp.pad(prompt_idx, (0, 6 - prompt_idx.shape[0]), constant_values=0)\n",
    "_, vars = fgpt_module.apply({\"params\": gpt_params},\n",
    "                            jnp.array(0),\n",
    "                            jnp.array(0),\n",
    "                            mutable=\"cache\")\n",
    "\n",
    "for seq_idx in range(5):\n",
    "    flogits, vars = fgpt_module.apply(\n",
    "        {\n",
    "            \"params\": gpt_params,\n",
    "            \"cache\": vars[\"cache\"]\n",
    "        },\n",
    "        seq[seq_idx],\n",
    "        jnp.array(seq_idx),\n",
    "        mutable=\"cache\")\n",
    "    if seq_idx >= len(prompt_idx) - 1:\n",
    "        seq = seq.at[seq_idx+1].set(jnp.argmax(flogits, axis=-1))"
   ]
  },
  {
   "cell_type": "code",
   "execution_count": 56,
   "metadata": {},
   "outputs": [
    {
     "data": {
      "text/plain": [
       "Array([23652,  9593,  2133, 29569,   319,   262], dtype=int32)"
      ]
     },
     "execution_count": 56,
     "metadata": {},
     "output_type": "execute_result"
    }
   ],
   "source": [
    "seq"
   ]
  },
  {
   "cell_type": "code",
   "execution_count": 35,
   "metadata": {},
   "outputs": [],
   "source": [
    "gpt_module = GPT(config)"
   ]
  },
  {
   "cell_type": "code",
   "execution_count": 36,
   "metadata": {},
   "outputs": [
    {
     "data": {
      "text/plain": [
       "Array([23652,  9593,  2133, 29569,   319,   262], dtype=int32)"
      ]
     },
     "execution_count": 36,
     "metadata": {},
     "output_type": "execute_result"
    }
   ],
   "source": [
    "m_seq = prompt_idx\n",
    "for _ in range(3):\n",
    "    logits = gpt_module.apply({\"params\": gpt_params}, m_seq)\n",
    "    m_seq = jnp.concatenate([m_seq, jnp.argmax(logits, axis=-1)[-1:]])\n",
    "m_seq"
   ]
  },
  {
   "cell_type": "code",
   "execution_count": 45,
   "metadata": {},
   "outputs": [
    {
     "data": {
      "text/plain": [
       "Array([[-31.78656 , -31.017838, -33.72394 , ..., -39.384296, -39.60583 ,\n",
       "        -31.77908 ],\n",
       "       [-76.03792 , -76.57617 , -79.64832 , ..., -79.2811  , -82.38854 ,\n",
       "        -76.91283 ],\n",
       "       [-53.08388 , -52.194874, -50.482613, ..., -60.19143 , -57.123943,\n",
       "        -51.9151  ],\n",
       "       [-80.858086, -81.24439 , -84.33287 , ..., -84.55941 , -85.661896,\n",
       "        -82.019295],\n",
       "       [-74.87219 , -74.504135, -76.91374 , ..., -76.71006 , -79.23487 ,\n",
       "        -74.19598 ]], dtype=float32)"
      ]
     },
     "execution_count": 45,
     "metadata": {},
     "output_type": "execute_result"
    }
   ],
   "source": [
    "logits"
   ]
  },
  {
   "cell_type": "code",
   "execution_count": 46,
   "metadata": {},
   "outputs": [
    {
     "data": {
      "text/plain": [
       "Array([-62.46567 , -68.00004 , -65.42838 , ..., -75.3501  , -73.863045,\n",
       "       -63.383614], dtype=float32)"
      ]
     },
     "execution_count": 46,
     "metadata": {},
     "output_type": "execute_result"
    }
   ],
   "source": [
    "flogits"
   ]
  },
  {
   "cell_type": "code",
   "execution_count": 37,
   "metadata": {},
   "outputs": [
    {
     "data": {
      "text/plain": [
       "Array([23652,  9593,  2133,   198,   198,   198], dtype=int32)"
      ]
     },
     "execution_count": 37,
     "metadata": {},
     "output_type": "execute_result"
    }
   ],
   "source": [
    "seq"
   ]
  },
  {
   "cell_type": "code",
   "execution_count": null,
   "metadata": {},
   "outputs": [],
   "source": []
  },
  {
   "attachments": {},
   "cell_type": "markdown",
   "metadata": {},
   "source": [
    "# Single Head Causal Self Attention"
   ]
  },
  {
   "cell_type": "code",
   "execution_count": 38,
   "metadata": {},
   "outputs": [],
   "source": [
    "# class FSingleHeadCausalSelfAttention(BaseSingleHeadCausalSelfAttention):\n",
    "#     n_cntx: int\n",
    "#     n_feat: int\n",
    "\n",
    "#     @nn.compact\n",
    "#     def __call__(self, x: jax.Array):\n",
    "\n",
    "#         # q : [n_feat], K, V : [n_cntx, n_feat]\n",
    "#         q, K, V, idx = SingleHeadQKV(n_cntx=self.n_cntx, n_feat=self.n_feat)(x)\n",
    "\n",
    "#         # [n_feat] @ [n_feat, n_cntx] -> [n_cntx].\n",
    "#         # Attention for token `idx`. att[i] is high when token `idx` should attend\n",
    "#         # heavily to token i.\n",
    "#         att = (K @ q) * (1.0 / jnp.sqrt(self.n_feat))\n",
    "\n",
    "#         # Causal masking. Token `idx` should not attend to token i for any i > idx.\n",
    "#         att = jnp.where(jnp.arange(self.n_cntx) > idx, -jnp.inf, att)\n",
    "\n",
    "#         att = softmax(att)\n",
    "\n",
    "#         # [n_cntx] @ [n_cntx, n_feat] -> [n_feat]\n",
    "#         y = att @ V\n",
    "\n",
    "#         return y"
   ]
  },
  {
   "cell_type": "code",
   "execution_count": 39,
   "metadata": {},
   "outputs": [],
   "source": [
    "fshcsa_module = FSingleHeadCausalSelfAttention(n_cntx=config.block_size,\n",
    "                                               n_feat=config.n_embd //\n",
    "                                               config.n_head)\n"
   ]
  },
  {
   "cell_type": "code",
   "execution_count": 40,
   "metadata": {},
   "outputs": [
    {
     "ename": "TypeError",
     "evalue": "FSingleHeadCausalSelfAttention.__call__() missing 1 required positional argument: 'seq_idx'",
     "output_type": "error",
     "traceback": [
      "\u001b[0;31m---------------------------------------------------------------------------\u001b[0m",
      "\u001b[0;31mTypeError\u001b[0m                                 Traceback (most recent call last)",
      "Cell \u001b[0;32mIn[40], line 1\u001b[0m\n\u001b[0;32m----> 1\u001b[0m \u001b[39mvars\u001b[39m \u001b[39m=\u001b[39m fshcsa_module\u001b[39m.\u001b[39;49minit(jax\u001b[39m.\u001b[39;49mrandom\u001b[39m.\u001b[39;49mPRNGKey(\u001b[39m0\u001b[39;49m), jnp\u001b[39m.\u001b[39;49mones((config\u001b[39m.\u001b[39;49mn_embd, )))\n",
      "    \u001b[0;31m[... skipping hidden 8 frame]\u001b[0m\n",
      "File \u001b[0;32m~/flax/flax/linen/module.py:820\u001b[0m, in \u001b[0;36mModule._call_wrapped_method\u001b[0;34m(self, fun, args, kwargs)\u001b[0m\n\u001b[1;32m    818\u001b[0m \u001b[39mif\u001b[39;00m _use_named_call:\n\u001b[1;32m    819\u001b[0m   \u001b[39mwith\u001b[39;00m jax\u001b[39m.\u001b[39mnamed_scope(_derive_profiling_name(\u001b[39mself\u001b[39m, fun)):\n\u001b[0;32m--> 820\u001b[0m     y \u001b[39m=\u001b[39m fun(\u001b[39mself\u001b[39;49m, \u001b[39m*\u001b[39;49margs, \u001b[39m*\u001b[39;49m\u001b[39m*\u001b[39;49mkwargs)\n\u001b[1;32m    821\u001b[0m \u001b[39melse\u001b[39;00m:\n\u001b[1;32m    822\u001b[0m   y \u001b[39m=\u001b[39m fun(\u001b[39mself\u001b[39m, \u001b[39m*\u001b[39margs, \u001b[39m*\u001b[39m\u001b[39m*\u001b[39mkwargs)\n",
      "\u001b[0;31mTypeError\u001b[0m: FSingleHeadCausalSelfAttention.__call__() missing 1 required positional argument: 'seq_idx'"
     ]
    }
   ],
   "source": [
    "vars = fshcsa_module.init(jax.random.PRNGKey(0), jnp.ones((config.n_embd, )))\n"
   ]
  },
  {
   "cell_type": "code",
   "execution_count": null,
   "metadata": {},
   "outputs": [],
   "source": [
    "y, vars = fshcsa_module.apply(vars,\n",
    "                              jnp.ones((config.n_embd, )),\n",
    "                              mutable=\"cache\")\n"
   ]
  },
  {
   "cell_type": "code",
   "execution_count": null,
   "metadata": {},
   "outputs": [
    {
     "data": {
      "text/plain": [
       "Array([-0.4951638 ,  1.3103716 ,  0.7500142 , -0.33700418, -1.6279882 ,\n",
       "        1.3067862 ,  0.56427884,  1.6625755 , -0.5867724 , -1.3497397 ,\n",
       "        1.2912292 ,  1.234936  ,  1.1145046 ,  1.1123266 , -0.6795392 ,\n",
       "        0.576539  , -0.9984726 ,  1.7678396 ,  0.23711662,  1.4688923 ,\n",
       "       -0.81794494,  0.37158245, -0.17866445,  0.11133623, -0.47702432,\n",
       "       -0.76485586,  0.8497622 , -0.15143591,  0.885042  , -1.1836362 ,\n",
       "       -0.97935313, -0.16283125,  0.6268122 , -0.30901474, -0.05063885,\n",
       "       -0.12694442,  0.96355164, -0.5885438 , -0.02701813,  0.57972115,\n",
       "       -1.4262507 , -0.4855162 ,  0.6056665 , -0.4228196 ,  0.29803544,\n",
       "        0.04475397, -1.0122097 ,  2.297686  , -1.1363087 ,  1.8593898 ,\n",
       "        1.3262932 ,  0.8218234 ,  1.2819971 ,  0.2697784 , -1.0868869 ,\n",
       "       -1.606765  , -0.5495784 , -1.4249687 ,  0.9420121 , -1.1320074 ,\n",
       "        0.465777  ,  0.569261  , -1.6738216 ,  1.3660043 ], dtype=float32)"
      ]
     },
     "execution_count": 20,
     "metadata": {},
     "output_type": "execute_result"
    }
   ],
   "source": [
    "y"
   ]
  },
  {
   "cell_type": "code",
   "execution_count": null,
   "metadata": {},
   "outputs": [],
   "source": [
    "rng = jax.random.PRNGKey(0)"
   ]
  },
  {
   "cell_type": "code",
   "execution_count": null,
   "metadata": {},
   "outputs": [],
   "source": [
    "X = jax.random.normal(rng, (10, config.n_embd))"
   ]
  },
  {
   "cell_type": "code",
   "execution_count": null,
   "metadata": {},
   "outputs": [],
   "source": [
    "Y = SingleHeadCausalSelfAttention(config.n_embd // config.n_head).apply(\n",
    "    {\"params\": sh_0_params}, X)\n"
   ]
  },
  {
   "cell_type": "code",
   "execution_count": null,
   "metadata": {},
   "outputs": [],
   "source": [
    "vars = fshcsa_module.init(jax.random.PRNGKey(0), jnp.ones((config.n_embd, )))\n"
   ]
  },
  {
   "cell_type": "code",
   "execution_count": null,
   "metadata": {},
   "outputs": [],
   "source": [
    "fys = []\n",
    "for i in range(10):\n",
    "    y, vars = fshcsa_module.apply(\n",
    "        {\n",
    "            \"cache\": vars[\"cache\"],\n",
    "            \"params\": sh_0_params\n",
    "        }, X[i], mutable=\"cache\")\n",
    "    fys.append(y)"
   ]
  },
  {
   "cell_type": "code",
   "execution_count": null,
   "metadata": {},
   "outputs": [
    {
     "data": {
      "text/plain": [
       "(10, 64)"
      ]
     },
     "execution_count": 26,
     "metadata": {},
     "output_type": "execute_result"
    }
   ],
   "source": [
    "Y.shape"
   ]
  },
  {
   "cell_type": "code",
   "execution_count": null,
   "metadata": {},
   "outputs": [
    {
     "data": {
      "text/plain": [
       "Array(8.34465e-07, dtype=float32)"
      ]
     },
     "execution_count": 27,
     "metadata": {},
     "output_type": "execute_result"
    }
   ],
   "source": [
    "(Y - jnp.array(fys)).max()"
   ]
  },
  {
   "cell_type": "code",
   "execution_count": null,
   "metadata": {},
   "outputs": [
    {
     "data": {
      "text/plain": [
       "[Array([-3.7749598e-03, -1.0600836e+00, -1.6187843e+00,  3.4710118e-01,\n",
       "         1.3730958e+00, -4.0345654e+00,  2.7263455e+00,  6.8328369e-01,\n",
       "         7.7177596e-01,  1.4631925e+00, -3.1356561e-01,  2.4275184e-01,\n",
       "        -1.2562956e+00, -2.1613176e+00, -7.6190311e-01, -1.4470794e+00,\n",
       "        -3.1225381e+00, -1.3839597e+00, -8.0332410e-01,  5.5632317e-01,\n",
       "        -1.1603022e+00,  1.5281880e+00,  1.8011650e+00,  1.5308793e+00,\n",
       "         1.5507106e+00,  3.1227562e+00,  2.6930642e+00,  5.2547187e-01,\n",
       "         3.8787910e-01, -1.2424152e+00, -2.5827773e+00,  7.7664012e-01,\n",
       "         1.9117656e+00,  1.0243871e+00,  2.1334591e+00, -3.9823332e-01,\n",
       "         2.3314288e+00, -1.8247846e-01, -3.2934222e+00,  2.0472670e-01,\n",
       "        -1.4110570e-01,  1.3574346e+00,  9.9579597e-01, -2.5600688e+00,\n",
       "        -6.5420246e-01, -1.1953276e+00, -1.6369368e+00, -1.3468333e+00,\n",
       "         7.3794717e-01, -1.3751336e+00,  7.9342991e-01,  3.8684255e-01,\n",
       "        -9.8729527e-01,  1.1786953e+00,  2.0081272e+00,  1.0727164e+00,\n",
       "        -1.1298397e+00, -2.2436944e-01,  1.2298946e+00, -2.2899377e+00,\n",
       "        -3.3746221e+00, -5.0036067e-01, -3.5731807e-01, -1.1551358e+00],      dtype=float32),\n",
       " Array([-3.7749598e-03, -1.0600836e+00, -1.6187843e+00,  3.4710118e-01,\n",
       "         1.3730958e+00, -4.0345654e+00,  2.7263455e+00,  6.8328369e-01,\n",
       "         7.7177596e-01,  1.4631925e+00, -3.1356561e-01,  2.4275184e-01,\n",
       "        -1.2562956e+00, -2.1613176e+00, -7.6190311e-01, -1.4470794e+00,\n",
       "        -3.1225381e+00, -1.3839597e+00, -8.0332410e-01,  5.5632317e-01,\n",
       "        -1.1603022e+00,  1.5281880e+00,  1.8011650e+00,  1.5308793e+00,\n",
       "         1.5507106e+00,  3.1227562e+00,  2.6930642e+00,  5.2547187e-01,\n",
       "         3.8787910e-01, -1.2424152e+00, -2.5827773e+00,  7.7664012e-01,\n",
       "         1.9117656e+00,  1.0243871e+00,  2.1334591e+00, -3.9823332e-01,\n",
       "         2.3314288e+00, -1.8247846e-01, -3.2934222e+00,  2.0472670e-01,\n",
       "        -1.4110570e-01,  1.3574346e+00,  9.9579597e-01, -2.5600688e+00,\n",
       "        -6.5420246e-01, -1.1953276e+00, -1.6369368e+00, -1.3468333e+00,\n",
       "         7.3794717e-01, -1.3751336e+00,  7.9342991e-01,  3.8684255e-01,\n",
       "        -9.8729527e-01,  1.1786953e+00,  2.0081272e+00,  1.0727164e+00,\n",
       "        -1.1298397e+00, -2.2436944e-01,  1.2298946e+00, -2.2899377e+00,\n",
       "        -3.3746221e+00, -5.0036067e-01, -3.5731807e-01, -1.1551358e+00],      dtype=float32),\n",
       " Array([-3.7749598e-03, -1.0600836e+00, -1.6187843e+00,  3.4710118e-01,\n",
       "         1.3730958e+00, -4.0345654e+00,  2.7263455e+00,  6.8328369e-01,\n",
       "         7.7177596e-01,  1.4631925e+00, -3.1356561e-01,  2.4275184e-01,\n",
       "        -1.2562956e+00, -2.1613176e+00, -7.6190311e-01, -1.4470794e+00,\n",
       "        -3.1225381e+00, -1.3839597e+00, -8.0332410e-01,  5.5632317e-01,\n",
       "        -1.1603022e+00,  1.5281880e+00,  1.8011650e+00,  1.5308793e+00,\n",
       "         1.5507106e+00,  3.1227562e+00,  2.6930642e+00,  5.2547187e-01,\n",
       "         3.8787910e-01, -1.2424152e+00, -2.5827773e+00,  7.7664012e-01,\n",
       "         1.9117656e+00,  1.0243871e+00,  2.1334591e+00, -3.9823332e-01,\n",
       "         2.3314288e+00, -1.8247846e-01, -3.2934222e+00,  2.0472670e-01,\n",
       "        -1.4110570e-01,  1.3574346e+00,  9.9579597e-01, -2.5600688e+00,\n",
       "        -6.5420246e-01, -1.1953276e+00, -1.6369368e+00, -1.3468333e+00,\n",
       "         7.3794717e-01, -1.3751336e+00,  7.9342991e-01,  3.8684255e-01,\n",
       "        -9.8729527e-01,  1.1786953e+00,  2.0081272e+00,  1.0727164e+00,\n",
       "        -1.1298397e+00, -2.2436944e-01,  1.2298946e+00, -2.2899377e+00,\n",
       "        -3.3746221e+00, -5.0036067e-01, -3.5731807e-01, -1.1551358e+00],      dtype=float32),\n",
       " Array([-1.3625284 ,  0.21987209,  0.27310872, -1.5705894 , -1.762976  ,\n",
       "         1.4744468 ,  3.2145147 ,  1.2193754 ,  1.3524162 ,  0.52568877,\n",
       "        -2.070435  , -1.0715497 , -2.0539165 ,  0.2842178 , -0.24051791,\n",
       "         1.1837904 ,  2.8900917 , -0.46931916,  1.2405685 ,  0.10163227,\n",
       "        -1.4325048 , -0.8313393 , -0.93575084,  1.2340745 ,  1.0669824 ,\n",
       "        -0.5153798 , -0.35309353, -2.1806908 ,  1.8092439 ,  0.07025734,\n",
       "         1.5214646 , -0.12495545,  0.6539084 , -1.3462993 , -1.8212436 ,\n",
       "         0.14592776, -1.302072  , -2.4759774 , -1.0984306 , -0.395006  ,\n",
       "        -1.4846333 ,  2.2698781 , -0.4775153 ,  0.69674045, -0.05107784,\n",
       "         1.090237  ,  1.0511817 ,  1.9449894 , -1.7563545 , -0.27610758,\n",
       "         1.0855539 ,  2.5266821 ,  2.7112842 ,  0.5697451 , -2.6560223 ,\n",
       "        -3.1161907 , -1.3640016 , -2.5694256 , -1.8119007 , -1.6122879 ,\n",
       "         1.5086455 ,  1.7368824 , -0.60011214, -0.46039972], dtype=float32),\n",
       " Array([-1.0296859 , -4.636735  ,  1.3538384 ,  3.2325397 , -1.4678134 ,\n",
       "        -1.0957063 ,  1.5544682 , -1.6776664 ,  0.90287894,  0.99948895,\n",
       "        -2.2848911 ,  1.6065295 ,  1.848939  ,  3.445105  , -2.5729678 ,\n",
       "        -1.8010345 , -0.39258298,  0.655426  ,  0.87872076, -0.4574803 ,\n",
       "         0.7692419 , -1.4969342 , -3.9203572 ,  0.20597592, -0.06601118,\n",
       "         2.8279648 ,  1.3296473 ,  0.59652334,  2.0092251 , -1.3727388 ,\n",
       "        -0.6735455 ,  0.25703377, -1.676608  , -0.29801828,  1.9957378 ,\n",
       "        -1.9524838 , -0.82741505,  0.73126936,  1.618984  , -1.8896544 ,\n",
       "        -6.4963326 ,  0.6631292 ,  3.3197765 , -1.3217189 , -2.0794911 ,\n",
       "         0.8942635 , -0.6892271 ,  1.9164356 , -1.3873953 ,  1.7794563 ,\n",
       "         2.1023815 , -0.4542024 ,  1.5984039 , -0.75435257,  1.4939561 ,\n",
       "         1.3313559 , -0.14345057,  1.6647964 ,  4.363228  ,  2.345111  ,\n",
       "         2.0352154 ,  1.5774395 , -0.06314158,  2.058551  ], dtype=float32),\n",
       " Array([-1.0296859 , -4.636735  ,  1.3538384 ,  3.2325397 , -1.4678134 ,\n",
       "        -1.0957063 ,  1.5544682 , -1.6776664 ,  0.90287894,  0.99948895,\n",
       "        -2.2848911 ,  1.6065295 ,  1.848939  ,  3.445105  , -2.5729678 ,\n",
       "        -1.8010345 , -0.39258298,  0.655426  ,  0.87872076, -0.4574803 ,\n",
       "         0.7692419 , -1.4969342 , -3.9203572 ,  0.20597592, -0.06601118,\n",
       "         2.8279648 ,  1.3296473 ,  0.59652334,  2.0092251 , -1.3727388 ,\n",
       "        -0.6735455 ,  0.25703377, -1.676608  , -0.29801828,  1.9957378 ,\n",
       "        -1.9524838 , -0.82741505,  0.73126936,  1.618984  , -1.8896544 ,\n",
       "        -6.4963326 ,  0.6631292 ,  3.3197765 , -1.3217189 , -2.0794911 ,\n",
       "         0.8942635 , -0.6892271 ,  1.9164356 , -1.3873953 ,  1.7794563 ,\n",
       "         2.1023815 , -0.4542024 ,  1.5984039 , -0.75435257,  1.4939561 ,\n",
       "         1.3313559 , -0.14345057,  1.6647964 ,  4.363228  ,  2.345111  ,\n",
       "         2.0352154 ,  1.5774395 , -0.06314158,  2.058551  ], dtype=float32),\n",
       " Array([-0.6903126 , -2.8878508 , -0.1087823 ,  0.4767526 , -1.1161813 ,\n",
       "         2.092968  , -2.80656   , -2.6142833 , -0.2825146 , -0.6016382 ,\n",
       "         0.24392864,  1.1983566 , -1.2978576 ,  3.180483  , -2.394136  ,\n",
       "         1.2957239 , -0.87083864,  0.8980147 ,  2.1444216 ,  0.4662456 ,\n",
       "        -1.4369322 , -0.36212215,  0.24192324,  2.4416327 , -0.35884583,\n",
       "         1.2654533 , -3.2817874 , -3.2711594 ,  0.42853346, -3.664812  ,\n",
       "         4.608971  , -0.9312512 , -1.2949106 ,  1.6122768 , -0.38707513,\n",
       "        -0.45625845,  0.5000487 ,  0.3295625 , -1.5409663 , -2.124666  ,\n",
       "         2.9575427 ,  0.8291586 ,  0.2650642 ,  2.8612545 ,  1.5583987 ,\n",
       "        -2.4629323 ,  0.6961099 ,  0.05495674,  0.97108704,  0.6425865 ,\n",
       "         3.3466964 ,  0.29817086,  1.2377173 ,  0.6811039 ,  0.33431086,\n",
       "        -1.9526591 ,  0.5822558 ,  1.2134904 ,  0.5198276 , -1.9364302 ,\n",
       "        -2.8799524 , -4.1129684 , -0.01631663, -1.7136056 ], dtype=float32),\n",
       " Array([-1.3625284 ,  0.21987209,  0.27310872, -1.5705894 , -1.762976  ,\n",
       "         1.4744468 ,  3.2145147 ,  1.2193754 ,  1.3524162 ,  0.52568877,\n",
       "        -2.070435  , -1.0715497 , -2.0539165 ,  0.2842178 , -0.24051791,\n",
       "         1.1837904 ,  2.8900917 , -0.46931916,  1.2405685 ,  0.10163227,\n",
       "        -1.4325048 , -0.8313393 , -0.93575084,  1.2340745 ,  1.0669824 ,\n",
       "        -0.5153798 , -0.35309353, -2.1806908 ,  1.8092439 ,  0.07025734,\n",
       "         1.5214646 , -0.12495545,  0.6539084 , -1.3462993 , -1.8212436 ,\n",
       "         0.14592776, -1.302072  , -2.4759774 , -1.0984306 , -0.395006  ,\n",
       "        -1.4846333 ,  2.2698781 , -0.4775153 ,  0.69674045, -0.05107784,\n",
       "         1.090237  ,  1.0511817 ,  1.9449894 , -1.7563545 , -0.27610758,\n",
       "         1.0855539 ,  2.5266821 ,  2.7112842 ,  0.5697451 , -2.6560223 ,\n",
       "        -3.1161907 , -1.3640016 , -2.5694256 , -1.8119007 , -1.6122879 ,\n",
       "         1.5086455 ,  1.7368824 , -0.60011214, -0.46039972], dtype=float32),\n",
       " Array([-3.7749598e-03, -1.0600836e+00, -1.6187843e+00,  3.4710118e-01,\n",
       "         1.3730958e+00, -4.0345654e+00,  2.7263455e+00,  6.8328369e-01,\n",
       "         7.7177596e-01,  1.4631925e+00, -3.1356561e-01,  2.4275184e-01,\n",
       "        -1.2562956e+00, -2.1613176e+00, -7.6190311e-01, -1.4470794e+00,\n",
       "        -3.1225381e+00, -1.3839597e+00, -8.0332410e-01,  5.5632317e-01,\n",
       "        -1.1603022e+00,  1.5281880e+00,  1.8011650e+00,  1.5308793e+00,\n",
       "         1.5507106e+00,  3.1227562e+00,  2.6930642e+00,  5.2547187e-01,\n",
       "         3.8787910e-01, -1.2424152e+00, -2.5827773e+00,  7.7664012e-01,\n",
       "         1.9117656e+00,  1.0243871e+00,  2.1334591e+00, -3.9823332e-01,\n",
       "         2.3314288e+00, -1.8247846e-01, -3.2934222e+00,  2.0472670e-01,\n",
       "        -1.4110570e-01,  1.3574346e+00,  9.9579597e-01, -2.5600688e+00,\n",
       "        -6.5420246e-01, -1.1953276e+00, -1.6369368e+00, -1.3468333e+00,\n",
       "         7.3794717e-01, -1.3751336e+00,  7.9342991e-01,  3.8684255e-01,\n",
       "        -9.8729527e-01,  1.1786953e+00,  2.0081272e+00,  1.0727164e+00,\n",
       "        -1.1298397e+00, -2.2436944e-01,  1.2298946e+00, -2.2899377e+00,\n",
       "        -3.3746221e+00, -5.0036067e-01, -3.5731807e-01, -1.1551358e+00],      dtype=float32),\n",
       " Array([-3.7749598e-03, -1.0600836e+00, -1.6187843e+00,  3.4710118e-01,\n",
       "         1.3730958e+00, -4.0345654e+00,  2.7263455e+00,  6.8328369e-01,\n",
       "         7.7177596e-01,  1.4631925e+00, -3.1356561e-01,  2.4275184e-01,\n",
       "        -1.2562956e+00, -2.1613176e+00, -7.6190311e-01, -1.4470794e+00,\n",
       "        -3.1225381e+00, -1.3839597e+00, -8.0332410e-01,  5.5632317e-01,\n",
       "        -1.1603022e+00,  1.5281880e+00,  1.8011650e+00,  1.5308793e+00,\n",
       "         1.5507106e+00,  3.1227562e+00,  2.6930642e+00,  5.2547187e-01,\n",
       "         3.8787910e-01, -1.2424152e+00, -2.5827773e+00,  7.7664012e-01,\n",
       "         1.9117656e+00,  1.0243871e+00,  2.1334591e+00, -3.9823332e-01,\n",
       "         2.3314288e+00, -1.8247846e-01, -3.2934222e+00,  2.0472670e-01,\n",
       "        -1.4110570e-01,  1.3574346e+00,  9.9579597e-01, -2.5600688e+00,\n",
       "        -6.5420246e-01, -1.1953276e+00, -1.6369368e+00, -1.3468333e+00,\n",
       "         7.3794717e-01, -1.3751336e+00,  7.9342991e-01,  3.8684255e-01,\n",
       "        -9.8729527e-01,  1.1786953e+00,  2.0081272e+00,  1.0727164e+00,\n",
       "        -1.1298397e+00, -2.2436944e-01,  1.2298946e+00, -2.2899377e+00,\n",
       "        -3.3746221e+00, -5.0036067e-01, -3.5731807e-01, -1.1551358e+00],      dtype=float32)]"
      ]
     },
     "execution_count": 28,
     "metadata": {},
     "output_type": "execute_result"
    }
   ],
   "source": [
    "fys"
   ]
  }
 ],
 "metadata": {
  "kernelspec": {
   "display_name": "base",
   "language": "python",
   "name": "python3"
  },
  "language_info": {
   "codemirror_mode": {
    "name": "ipython",
    "version": 3
   },
   "file_extension": ".py",
   "mimetype": "text/x-python",
   "name": "python",
   "nbconvert_exporter": "python",
   "pygments_lexer": "ipython3",
   "version": "3.10.9"
  },
  "orig_nbformat": 4,
  "vscode": {
   "interpreter": {
    "hash": "d4d1e4263499bec80672ea0156c357c1ee493ec2b1c70f0acce89fc37c4a6abe"
   }
  }
 },
 "nbformat": 4,
 "nbformat_minor": 2
}
