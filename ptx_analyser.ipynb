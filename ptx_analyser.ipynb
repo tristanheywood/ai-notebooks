{
 "cells": [
  {
   "cell_type": "code",
   "execution_count": 62,
   "metadata": {},
   "outputs": [],
   "source": [
    "import math\n",
    "from functools import partial\n",
    "\n",
    "import torch\n",
    "import torch.nn.functional as F\n",
    "\n",
    "import triton\n",
    "import triton.language as tl\n",
    "from triton.testing import do_bench"
   ]
  },
  {
   "cell_type": "code",
   "execution_count": 2,
   "metadata": {},
   "outputs": [],
   "source": [
    "%load_ext autoreload\n",
    "%autoreload 2"
   ]
  },
  {
   "cell_type": "code",
   "execution_count": 33,
   "metadata": {},
   "outputs": [],
   "source": [
    "import conch\n",
    "from conch import float_from_hex, PTXAnalyser, grid_search\n",
    "from conch import extra_ops as co"
   ]
  },
  {
   "cell_type": "code",
   "execution_count": 4,
   "metadata": {},
   "outputs": [
    {
     "data": {
      "text/plain": [
       "0.6000000238418579"
      ]
     },
     "execution_count": 4,
     "metadata": {},
     "output_type": "execute_result"
    }
   ],
   "source": [
    "float_from_hex(\"0f3F19999A\")"
   ]
  },
  {
   "cell_type": "code",
   "execution_count": 85,
   "metadata": {},
   "outputs": [],
   "source": [
    "n_embd = 1024\n",
    "n_btch = 512\n",
    "\n",
    "torch.manual_seed(0)\n",
    "x = torch.randn(n_btch, n_embd, dtype=torch.float16, device=\"cuda\")\n",
    "weights = torch.randn(n_embd, 4 * n_embd, dtype=torch.float16, device=\"cuda\")\n",
    "weightsT = weights.T.contiguous()\n",
    "bias = torch.randn(4 * n_embd, dtype=torch.float16, device=\"cuda\")"
   ]
  },
  {
   "cell_type": "code",
   "execution_count": 6,
   "metadata": {},
   "outputs": [],
   "source": [
    "def torch_lola(x, weight, bias):\n",
    "    x = F.layer_norm(x, (n_embd,))\n",
    "    x = F.linear(x, weight, bias)\n",
    "    x = F.gelu(x, approximate=\"tanh\")\n",
    "\n",
    "    return x"
   ]
  },
  {
   "cell_type": "code",
   "execution_count": 89,
   "metadata": {},
   "outputs": [
    {
     "name": "stdout",
     "output_type": "stream",
     "text": [
      "119 µs ± 2.14 µs per loop (mean ± std. dev. of 7 runs, 1,000 loops each)\n"
     ]
    }
   ],
   "source": [
    "%%timeit -n1000\n",
    "\n",
    "torch_lola(x, weightsT, bias)\n",
    "torch.cuda.synchronize()"
   ]
  },
  {
   "cell_type": "code",
   "execution_count": 7,
   "metadata": {},
   "outputs": [
    {
     "data": {
      "text/plain": [
       "torch.Size([512, 4096])"
      ]
     },
     "execution_count": 7,
     "metadata": {},
     "output_type": "execute_result"
    }
   ],
   "source": [
    "torch_y = torch_lola(x, weights.T, bias)\n",
    "torch_y.shape"
   ]
  },
  {
   "cell_type": "code",
   "execution_count": 8,
   "metadata": {},
   "outputs": [],
   "source": [
    "acc_dtype = tl.float16\n",
    "\n",
    "@triton.jit\n",
    "def lola_kernel(x_ptr, W_ptr, Ws_ptr, b_ptr, out_ptr,\n",
    "                             N_OCOLS: tl.constexpr, N_BROWS: tl.constexpr,\n",
    "                             BLOCK_ROWS: tl.constexpr, N_FEAT_IN: tl.constexpr,\n",
    "                             N_FEAT_OUT: tl.constexpr):\n",
    "    \"\"\"\n",
    "    Triton kernel implementing fused Layer nOrm, Linear and Activation.\n",
    "\n",
    "    Kernel cell (i, j) computes \n",
    "    out[i * N_BROWS: (i+1) * N_BROWS, j * N_OCOLS: (j+1) * N_OCOLS], by iterating over\n",
    "    `BLOCK_ROWS`-sized blocks of the inputs.\n",
    "\n",
    "    Inputs\n",
    "    ------\n",
    "    x_ptr: [BATCH_SIZE, N_FEAT_IN,] - current token embedding.\n",
    "    W_ptr: [N_FEAT_IN, N_FEAT_OUT] - linear layer weights.\n",
    "    Ws_ptr: [N_FEAT_OUT,] - sum of the weights (in axis 0).\n",
    "    b_ptr: [N_FEAT_OUT,] - linear layer bias.\n",
    "\n",
    "    Outputs\n",
    "    -------\n",
    "    out_ptr: [N_FEAT_OUT,] - output of the fused layer.\n",
    "    \"\"\"\n",
    "    x_brows_start = tl.program_id(0) * N_BROWS\n",
    "    # This instance will process x[b_rows_start:b_rows_start + N_BROWS, :]\n",
    "    x_brows_idxs = tl.arange(0, N_BROWS) + x_brows_start\n",
    "\n",
    "    ocols_start = tl.program_id(1) * N_OCOLS\n",
    "    col_idxs = tl.arange(0, N_OCOLS) + ocols_start\n",
    "\n",
    "    w_dot_x_acc = tl.zeros((N_BROWS, N_OCOLS), dtype=acc_dtype)\n",
    "    # w_sum_acc = tl.zeros((N_OCOLS, ), dtype=acc_dtype)\n",
    "    x_sum_acc = tl.zeros((N_BROWS, ), dtype=acc_dtype)\n",
    "    x_sq_sum_acc = tl.zeros((N_BROWS, ), dtype=acc_dtype)\n",
    "\n",
    "    n_blocks = tl.cdiv(N_FEAT_IN, BLOCK_ROWS)\n",
    "    for block_i in range(0, n_blocks):\n",
    "\n",
    "        block_row_idxs = tl.arange(0, BLOCK_ROWS) + block_i * BLOCK_ROWS\n",
    "\n",
    "        # Load the current block of the input.\n",
    "        x_block_idxs = x_brows_idxs[:, None] * N_FEAT_IN + block_row_idxs[None, :]\n",
    "        x_block = tl.load(x_ptr + x_block_idxs).to(acc_dtype) # [N_BROWS, BLOCK_ROWS]\n",
    "\n",
    "        W_block_idxs = block_row_idxs[:, None] * N_FEAT_OUT + col_idxs[None, :]\n",
    "        W_block = tl.load(W_ptr + W_block_idxs).to(acc_dtype) # [BLOCK_ROWS, N_OCOLS]\n",
    "\n",
    "        # Update the accumulators.\n",
    "        # [N_BROWS, BLOCK_ROWS] @ [BLOCK_ROWS, N_OCOLS] -> [N_BROWS, N_OCOLS]\n",
    "        w_dot_x_acc += tl.dot(x_block, W_block).to(acc_dtype)\n",
    "        # w_dot_x_acc += tl.sum(W_block * x_block[:, None], axis=0)\n",
    "        # w_sum_acc += tl.sum(W_block, axis=0)\n",
    "        x_sum_acc += tl.sum(x_block, axis=1)\n",
    "        x_sq_sum_acc += tl.sum(x_block * x_block, axis=1)\n",
    "\n",
    "    bias = tl.load(b_ptr + col_idxs)\n",
    "    Wsum = tl.load(Ws_ptr + col_idxs)\n",
    "    x_mean = x_sum_acc / N_FEAT_IN\n",
    "    x_sq_mean = x_sq_sum_acc / N_FEAT_IN\n",
    "\n",
    "    numer = w_dot_x_acc - x_mean[:, None] * Wsum[None, :] + bias[None, :]\n",
    "    denom = tl.sqrt(tl.abs(x_sq_mean - x_mean * x_mean + 1e-5))\n",
    "    out = co.fast_gelu(numer / denom[:, None])\n",
    "\n",
    "    out_idxs = x_brows_idxs[:, None] * N_FEAT_OUT + col_idxs[None, :]\n",
    "    tl.store(out_ptr + out_idxs, out.to(tl.float16))"
   ]
  },
  {
   "cell_type": "code",
   "execution_count": 9,
   "metadata": {},
   "outputs": [],
   "source": [
    "def triton_lola(\n",
    "    x,\n",
    "    W,\n",
    "    Ws,\n",
    "    b,\n",
    "    N_OCOLS: int,\n",
    "    N_BROWS: int,\n",
    "    BLOCK_ROWS: int,\n",
    "    num_warps=4,\n",
    "    num_stages=1,\n",
    "):\n",
    "    assert N_BROWS >= 16 and BLOCK_ROWS >= 16 and N_OCOLS >= 16, \"Triton matrix multiplication requires matrix dimensions to be at least 16.\"\n",
    "\n",
    "    N_BATCH = x.shape[0]\n",
    "    N_FEAT_IN, N_FEAT_OUT = W.shape\n",
    "    grid = (\n",
    "        N_BATCH // N_BROWS,\n",
    "        N_FEAT_OUT // N_OCOLS,\n",
    "    )\n",
    "\n",
    "    # Allocate output buffer.\n",
    "    out = torch.zeros((N_BATCH, N_FEAT_OUT), dtype=x.dtype, device=\"cuda\")\n",
    "\n",
    "    # Launch the kernel.\n",
    "    lola_kernel[grid](x,\n",
    "                      W,\n",
    "                      Ws,\n",
    "                      b,\n",
    "                      out,\n",
    "                      N_OCOLS=N_OCOLS,\n",
    "                      N_BROWS=N_BROWS,\n",
    "                      BLOCK_ROWS=BLOCK_ROWS,\n",
    "                      N_FEAT_IN=N_FEAT_IN,\n",
    "                      N_FEAT_OUT=N_FEAT_OUT,\n",
    "                      num_warps=num_warps,\n",
    "                      num_stages=num_stages)\n",
    "\n",
    "    return out"
   ]
  },
  {
   "cell_type": "code",
   "execution_count": 10,
   "metadata": {},
   "outputs": [],
   "source": [
    "triton_y = triton_lola(x, weights, weights.sum(axis=0), bias, 16, 16, 16)"
   ]
  },
  {
   "cell_type": "code",
   "execution_count": 11,
   "metadata": {},
   "outputs": [
    {
     "data": {
      "text/plain": [
       "tensor(0.5000, device='cuda:0', dtype=torch.float16)"
      ]
     },
     "execution_count": 11,
     "metadata": {},
     "output_type": "execute_result"
    }
   ],
   "source": [
    "(torch_y - triton_y).abs().max()"
   ]
  },
  {
   "cell_type": "code",
   "execution_count": 60,
   "metadata": {},
   "outputs": [
    {
     "data": {
      "text/plain": [
       "[({'N_OCOLS': 128, 'N_BROWS': 64, 'BLOCK_ROWS': 64}, 78.84799689054489),\n",
       " ({'N_OCOLS': 256, 'N_BROWS': 32, 'BLOCK_ROWS': 64}, 84.99199897050858),\n",
       " ({'N_OCOLS': 64, 'N_BROWS': 128, 'BLOCK_ROWS': 64}, 89.08800035715103),\n",
       " ({'N_OCOLS': 128, 'N_BROWS': 32, 'BLOCK_ROWS': 32}, 90.11200070381165),\n",
       " ({'N_OCOLS': 128, 'N_BROWS': 64, 'BLOCK_ROWS': 32}, 92.16000139713287)]"
      ]
     },
     "execution_count": 60,
     "metadata": {},
     "output_type": "execute_result"
    }
   ],
   "source": [
    "grid_search(partial(triton_lola, x, weights, weights.sum(axis=0), bias),\n",
    "            # do_print = True,\n",
    "            min_val_prod = 100_000,\n",
    "            N_OCOLS=(16, 512),\n",
    "            N_BROWS=(16, 512),\n",
    "            BLOCK_ROWS=(16, 512))[:5]\n"
   ]
  },
  {
   "cell_type": "code",
   "execution_count": 65,
   "metadata": {},
   "outputs": [
    {
     "data": {
      "text/plain": [
       "78.84799689054489"
      ]
     },
     "execution_count": 65,
     "metadata": {},
     "output_type": "execute_result"
    }
   ],
   "source": [
    "do_bench(\n",
    "    partial(triton_lola, x, weights, weights.sum(axis=0), bias,\n",
    "    N_OCOLS=128,\n",
    "    N_BROWS=64,\n",
    "    BLOCK_ROWS=64), warmup=1000, rep=1000)[0] * 1000"
   ]
  },
  {
   "cell_type": "code",
   "execution_count": 73,
   "metadata": {},
   "outputs": [],
   "source": [
    "meta_params = dict(N_OCOLS=128,\n",
    "    N_BROWS=64,\n",
    "    BLOCK_ROWS=64)"
   ]
  },
  {
   "cell_type": "code",
   "execution_count": 81,
   "metadata": {},
   "outputs": [],
   "source": [
    "pa = PTXAnalyser.FromKernel(lola_kernel, **meta_params)"
   ]
  },
  {
   "cell_type": "code",
   "execution_count": 82,
   "metadata": {},
   "outputs": [
    {
     "data": {
      "text/plain": [
       "[('mov.b32', 455),\n",
       " ('mul.f32', 450),\n",
       " ('fma.rn.ftz.f32', 390),\n",
       " ('add.f32', 197),\n",
       " ('mov.b16', 157),\n",
       " ('add.f16', 138),\n",
       " ('fma.rn.f32', 132),\n",
       " ('bra.uni', 130),\n",
       " ('cvt.rn.f16.f32', 128),\n",
       " ('cvt.f32.f16', 104),\n",
       " ('or.b32', 94),\n",
       " ('add.s32', 92),\n",
       " ('and.b32', 78),\n",
       " ('mov.f32', 78),\n",
       " ('ld.shared.b16', 78),\n",
       " ('div.full.f32', 72),\n",
       " ('setp.ge.f32', 69),\n",
       " ('selp.f32', 69),\n",
       " ('abs.ftz.f32', 65),\n",
       " ('setp.ltu.f32', 65),\n",
       " ('ex2.approx.ftz.f32', 65),\n",
       " ('rcp.approx.ftz.f32', 65),\n",
       " ('mma.sync.aligned.m16n8k16.row.col.f32.f16.f16.f32', 64),\n",
       " ('st.shared.v2.f32', 64),\n",
       " ('shl.b32', 50),\n",
       " ('st.shared.u16', 34),\n",
       " ('ld.shared.v4.f32', 32),\n",
       " ('fma.rn.f16', 31),\n",
       " ('cvt.u16.u32', 29),\n",
       " ('bar.sync', 28),\n",
       " ('add.s64', 22),\n",
       " ('@%p154', 22),\n",
       " ('mul.wide.s32', 21),\n",
       " ('ldmatrix.sync.aligned.m8n8.x4.trans.shared.b16', 16),\n",
       " ('st.shared.v4.b32', 12),\n",
       " ('cvt.u32.u16', 12),\n",
       " ('shfl.sync.bfly.b32', 12),\n",
       " ('xor.b32', 10),\n",
       " ('ldmatrix.sync.aligned.m8n8.x4.shared.b16', 8),\n",
       " ('st.shared.b16', 7),\n",
       " ('mov.u32', 6),\n",
       " ('shr.u32', 6),\n",
       " ('ld.param.u64', 5),\n",
       " ('bfe.u32', 5),\n",
       " ('sqrt.approx.ftz.f32', 5),\n",
       " ('mad.lo.s32', 4),\n",
       " ('@%p14', 4),\n",
       " ('neg.f32', 4),\n",
       " ('sub.f32', 4),\n",
       " ('ret;', 3),\n",
       " ('setp.eq.s32', 2),\n",
       " ('and.b16', 2),\n",
       " ('mul.wide.u16', 2),\n",
       " ('ld.param.f32', 2),\n",
       " ('st.param.f32', 2),\n",
       " ('selp.b32', 1),\n",
       " ('setp.lt.s32', 1),\n",
       " ('mov.pred', 1),\n",
       " ('ld.shared.u16', 1),\n",
       " ('@%p18', 1),\n",
       " ('mul.f16', 1),\n",
       " ('setp.lt.u32', 1),\n",
       " ('@%p19', 1),\n",
       " ('@%p26', 1),\n",
       " ('@%p28', 1),\n",
       " ('@%p30', 1),\n",
       " ('@%p32', 1),\n",
       " ('@%p34', 1),\n",
       " ('@%p36', 1),\n",
       " ('@%p38', 1),\n",
       " ('@%p40', 1),\n",
       " ('@%p42', 1),\n",
       " ('@%p44', 1),\n",
       " ('@%p46', 1),\n",
       " ('@%p48', 1),\n",
       " ('@%p50', 1),\n",
       " ('@%p52', 1),\n",
       " ('@%p54', 1),\n",
       " ('@%p56', 1),\n",
       " ('@%p58', 1),\n",
       " ('@%p60', 1),\n",
       " ('@%p62', 1),\n",
       " ('@%p64', 1),\n",
       " ('@%p66', 1),\n",
       " ('@%p68', 1),\n",
       " ('@%p70', 1),\n",
       " ('@%p72', 1),\n",
       " ('@%p74', 1),\n",
       " ('@%p76', 1),\n",
       " ('@%p78', 1),\n",
       " ('@%p80', 1),\n",
       " ('@%p82', 1),\n",
       " ('@%p84', 1),\n",
       " ('@%p86', 1),\n",
       " ('@%p88', 1),\n",
       " ('@%p90', 1),\n",
       " ('@%p92', 1),\n",
       " ('@%p94', 1),\n",
       " ('@%p96', 1),\n",
       " ('@%p98', 1),\n",
       " ('@%p100', 1),\n",
       " ('@%p102', 1),\n",
       " ('@%p104', 1),\n",
       " ('@%p106', 1),\n",
       " ('@%p108', 1),\n",
       " ('@%p110', 1),\n",
       " ('@%p112', 1),\n",
       " ('@%p114', 1),\n",
       " ('@%p116', 1),\n",
       " ('@%p118', 1),\n",
       " ('@%p120', 1),\n",
       " ('@%p122', 1),\n",
       " ('@%p124', 1),\n",
       " ('@%p126', 1),\n",
       " ('@%p128', 1),\n",
       " ('@%p130', 1),\n",
       " ('@%p132', 1),\n",
       " ('@%p134', 1),\n",
       " ('@%p136', 1),\n",
       " ('@%p138', 1),\n",
       " ('@%p140', 1),\n",
       " ('@%p142', 1),\n",
       " ('@%p144', 1),\n",
       " ('@%p146', 1),\n",
       " ('@%p148', 1),\n",
       " ('@%p150', 1),\n",
       " ('@%p152', 1),\n",
       " ('@%p1', 1)]"
      ]
     },
     "execution_count": 82,
     "metadata": {},
     "output_type": "execute_result"
    }
   ],
   "source": [
    "pa.op_counts.most_common()"
   ]
  }
 ],
 "metadata": {
  "kernelspec": {
   "display_name": "base",
   "language": "python",
   "name": "python3"
  },
  "language_info": {
   "codemirror_mode": {
    "name": "ipython",
    "version": 3
   },
   "file_extension": ".py",
   "mimetype": "text/x-python",
   "name": "python",
   "nbconvert_exporter": "python",
   "pygments_lexer": "ipython3",
   "version": "3.10.8"
  },
  "orig_nbformat": 4,
  "vscode": {
   "interpreter": {
    "hash": "d4d1e4263499bec80672ea0156c357c1ee493ec2b1c70f0acce89fc37c4a6abe"
   }
  }
 },
 "nbformat": 4,
 "nbformat_minor": 2
}
