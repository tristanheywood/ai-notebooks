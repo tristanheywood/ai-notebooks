{
 "cells": [
  {
   "attachments": {},
   "cell_type": "markdown",
   "metadata": {},
   "source": [
    "`triton_call` cannot (currently) be vmapped - so we must write a multi-headed causal self\n",
    "attention kernel instead."
   ]
  },
  {
   "attachments": {},
   "cell_type": "markdown",
   "metadata": {},
   "source": [
    "We can probably write a faster version of `FSingleHeadCausalSelfAttention.get_qKV` using\n",
    "a Triton kernel:\n",
    "  - Linear layer Triton impl from https://github.com/ELS-RD/kernl/blob/main/src/kernl/implementations/linear_layer.py\n",
    "  - Use Triton to write back to the cache, rather than dynamic_update_slice\n",
    "  - Fuse the layer norm into the linear layer. Compute layer norm in a single pass using\n",
    "  https://github.com/ELS-RD/kernl/blob/main/src/kernl/implementations/layer_norm.py - then\n",
    "  pass the mean and variance into the linear layer impl."
   ]
  },
  {
   "attachments": {},
   "cell_type": "markdown",
   "metadata": {},
   "source": [
    "# Post-attention Kernel"
   ]
  },
  {
   "attachments": {},
   "cell_type": "markdown",
   "metadata": {},
   "source": [
    "Can we speed up the post-attention operations using a Triton kernel? Specifically the lines:\n",
    "```\n",
    "x = x + y\n",
    "y = nn.LayerNorm()(x)\n",
    "y = nn.Dense(features=4 * C)(y)\n",
    "y = GELU(y)\n",
    "y = nn.Dense(features=C)(y)\n",
    "x = x + y\n",
    "```"
   ]
  },
  {
   "attachments": {},
   "cell_type": "markdown",
   "metadata": {},
   "source": [
    "Compare possible implementations:\n",
    "- Baseline using jitted jax/flax\n",
    "- Fuse the layer norm, dense and GELU\n",
    "- Fuse the entire block into a single kernel - using `atomic_add` to parallelize the second\n",
    "dense layer"
   ]
  },
  {
   "attachments": {},
   "cell_type": "markdown",
   "metadata": {},
   "source": [
    "## Setup"
   ]
  },
  {
   "cell_type": "code",
   "execution_count": 2,
   "metadata": {},
   "outputs": [
    {
     "name": "stderr",
     "output_type": "stream",
     "text": [
      "/opt/conda/lib/python3.10/site-packages/tqdm/auto.py:22: TqdmWarning: IProgress not found. Please update jupyter and ipywidgets. See https://ipywidgets.readthedocs.io/en/stable/user_install.html\n",
      "  from .autonotebook import tqdm as notebook_tqdm\n"
     ]
    }
   ],
   "source": [
    "import jax\n",
    "import jax.numpy as jnp\n",
    "import flax.linen as nn\n",
    "import jax_triton as jt\n",
    "import triton\n",
    "import triton.language as tl"
   ]
  },
  {
   "cell_type": "code",
   "execution_count": 3,
   "metadata": {},
   "outputs": [],
   "source": [
    "from nimblegpt import get_config_for, param_shapes"
   ]
  },
  {
   "cell_type": "code",
   "execution_count": 4,
   "metadata": {},
   "outputs": [],
   "source": [
    "config = get_config_for('gpt2')\n",
    "config.n_embd = 1024 # use a power-of-2 embedding to simplify the kernels\n",
    "rng = jax.random.PRNGKey(0)\n",
    "k1, k2 = jax.random.split(rng)\n",
    "x = jax.random.normal(k1, (config.n_embd,))\n",
    "y = jax.random.normal(k2, (config.n_embd,))"
   ]
  },
  {
   "attachments": {},
   "cell_type": "markdown",
   "metadata": {},
   "source": [
    "## Overhead test - flax"
   ]
  },
  {
   "cell_type": "code",
   "execution_count": 5,
   "metadata": {},
   "outputs": [],
   "source": [
    "class FlaxOverhead(nn.Module):\n",
    "    \n",
    "    @nn.compact\n",
    "    def __call__(self, x, y):\n",
    "        C, = x.shape\n",
    "\n",
    "        x = x + y\n",
    "        x = nn.Dense(features=4 * C)(x)\n",
    "        # x = nn.Dense(features=C)(x)\n",
    "        \n",
    "        return x"
   ]
  },
  {
   "cell_type": "code",
   "execution_count": 6,
   "metadata": {},
   "outputs": [],
   "source": [
    "params = FlaxOverhead().init(k1, x, y)\n",
    "\n",
    "ohd_apply = jax.jit(FlaxOverhead().apply)\n",
    "ohd_apply(params, x, y);"
   ]
  },
  {
   "cell_type": "code",
   "execution_count": 7,
   "metadata": {},
   "outputs": [
    {
     "name": "stdout",
     "output_type": "stream",
     "text": [
      "59.4 µs ± 4.35 µs per loop (mean ± std. dev. of 7 runs, 10,000 loops each)\n"
     ]
    }
   ],
   "source": [
    "%%timeit\n",
    "\n",
    "ohd_apply(params, x, y).block_until_ready();"
   ]
  },
  {
   "attachments": {},
   "cell_type": "markdown",
   "metadata": {},
   "source": [
    "## Reference Impl"
   ]
  },
  {
   "cell_type": "code",
   "execution_count": 8,
   "metadata": {},
   "outputs": [],
   "source": [
    "def GELU(x):\n",
    "    return 0.5 * x * (1.0 + jnp.tanh(jnp.sqrt(2.0 / jnp.pi) * (x + 0.044715 * x**3)))\n",
    "\n",
    "class Reference(nn.Module):\n",
    "    \n",
    "    @nn.compact\n",
    "    def __call__(self, x, y):\n",
    "        C, = x.shape\n",
    "\n",
    "        x = x + y\n",
    "        y = nn.LayerNorm()(x)\n",
    "        y = nn.Dense(features=4 * C)(y)\n",
    "        y = GELU(y)\n",
    "        y = nn.Dense(features=C)(y)\n",
    "        x = x + y\n",
    "\n",
    "        return x"
   ]
  },
  {
   "cell_type": "code",
   "execution_count": 9,
   "metadata": {},
   "outputs": [],
   "source": [
    "params = Reference().init(rng, x, y)\n",
    "\n",
    "ref_apply = jax.jit(Reference().apply)\n",
    "ref_apply(params, x, y);"
   ]
  },
  {
   "cell_type": "code",
   "execution_count": 10,
   "metadata": {},
   "outputs": [
    {
     "name": "stdout",
     "output_type": "stream",
     "text": [
      "221 µs ± 16 µs per loop (mean ± std. dev. of 7 runs, 1,000 loops each)\n"
     ]
    }
   ],
   "source": [
    "%%timeit\n",
    "\n",
    "ref_apply(params, x, y).block_until_ready();"
   ]
  },
  {
   "attachments": {},
   "cell_type": "markdown",
   "metadata": {},
   "source": [
    "## Fused Layer Norm, Dense and GELU"
   ]
  },
  {
   "attachments": {},
   "cell_type": "markdown",
   "metadata": {},
   "source": [
    "## Layer Norm Trick"
   ]
  },
  {
   "attachments": {},
   "cell_type": "markdown",
   "metadata": {},
   "source": [
    "The fused dense layer computes a single element $y = \\bm{y}_i$ of the output by taking a dot product\n",
    "with the $i$th column $\\bm{w} = \\bm{W}_{:, i}$ of the weights matrix and adding a bias term $b = \\bm{b}_i$. The full expression for $y$, including layer norm and activation, is:\n",
    "\n",
    "$$\n",
    "\\begin{align}\n",
    "    y = \\text{GELU} \\left( \\bm{w} \\cdot \\left( \\frac{\\bm{x} - \\text{mean}(\\bm{x})\\bm{I}_{n}}{\\sqrt{\\text{var}(\\bm{x}) + \\epsilon}} \\right) + b \\right)\n",
    "\\end{align}\n",
    "$$\n",
    "\n",
    "Where $n$ is the number of elements in $\\bm{x}$. We use $\\bm{I}_{n}$ as the mathematical equivalent of broadcasting.\n",
    "\n",
    "We would like to compute this incrementally, which means we won't have access to the mean\n",
    "and variance of $\\bm{x}$ until the end. We note that:\n",
    "\n",
    "$$\n",
    "\\begin{align}\n",
    "    \\bm{w} \\cdot \\left( \\frac{\\bm{x} - \\text{mean}(\\bm{x})\\bm{I}_n}{\\sqrt{\\text{var}(\\bm{x}) + \\epsilon}} \\right) &= \\frac{1}{\\sqrt{\\text{var}(\\bm{x}) + \\epsilon}} \\left( \\bm{w} \\cdot \\bm{x} - \\bm{w} \\cdot \\text{mean}(\\bm{x}) \\bm{I}_n\\right) \\\\\n",
    "\\end{align}\n",
    "$$\n",
    "\n",
    "Observe that $\\bm{w} \\cdot \\text{mean}(\\bm{x}) \\bm{I}_n = n \\times \\text{mean}(\\bm{x}) \\times \\text{sum}(\\bm{w})$. Note also that $\\text{var}(\\bm{x}) = \\text{mean}(\\bm{x}^2) - \\text{mean}(\\bm{x})^2$. We can therefore compute the fused layer from the following pieces, all of which can be computed incrementally by streaming $w$ and $x$:\n",
    "\n",
    "$$\n",
    "\\begin{align}\n",
    "    \\bm{w} \\cdot \\bm{x} && \\text{sum}(\\bm{w}) && \\text{mean}(\\bm{x}) && \\text{mean}(\\bm{x}^2) \\\\\n",
    "\\end{align}\n",
    "$$\n",
    "\n",
    "The equation for the output in terms of these pieces is:\n",
    "\n",
    "$$\n",
    "\\begin{align}\n",
    "    y = \\text{GELU} \\left( \\frac{\\bm{w} \\cdot \\bm{x} - n \\times \\text{mean}(\\bm{x}) \\times \\text{sum}(\\bm{w})}{\\sqrt{\\text{mean}(\\bm{x}^2) - \\text{mean}(\\bm{x})^2 + \\epsilon}} + b \\right)\n",
    "\\end{align}\n",
    "$$\n",
    "\n"
   ]
  },
  {
   "cell_type": "code",
   "execution_count": 11,
   "metadata": {},
   "outputs": [],
   "source": [
    "import math\n",
    "\n",
    "sqrt2pi = math.sqrt(2.0 / math.pi)\n",
    "\n",
    "@triton.jit\n",
    "def tanh(x):\n",
    "    \"\"\"Tanh activation function\"\"\"\n",
    "    return tl.libdevice.tanh(x)\n",
    "\n",
    "@triton.jit\n",
    "def fast_gelu(x):\n",
    "    \"\"\"Fast approximation of the gelu function. May slightly decrease accuracy.\"\"\"\n",
    "    return 0.5 * x * (1 + tanh(sqrt2pi * (x + 0.044715 * x * x * x)))"
   ]
  },
  {
   "cell_type": "code",
   "execution_count": 12,
   "metadata": {},
   "outputs": [
    {
     "data": {
      "text/plain": [
       "1024"
      ]
     },
     "execution_count": 12,
     "metadata": {},
     "output_type": "execute_result"
    }
   ],
   "source": [
    "config.n_embd"
   ]
  },
  {
   "cell_type": "code",
   "execution_count": 33,
   "metadata": {},
   "outputs": [],
   "source": [
    "@triton.jit\n",
    "def fused_dense_kernel(x_ptr, W_ptr, b_ptr, out_ptr,\n",
    "                       SUBEMBD_SIZE: tl.constexpr, BLOCK_ROWS: tl.constexpr,\n",
    "                       N_EMBD: tl.constexpr):\n",
    "    \"\"\"\n",
    "    Trition kernel implementing fused layer norm, dense layer and GELU activation.\n",
    "\n",
    "    Kernel cell i computes out[i * SUBEMBD_SIZE: (i+1) * SUBEMBD_SIZE]. The multiplication\n",
    "    is done iteratively on blocks of `BLOCK_ROWS` rows.\n",
    "\n",
    "    Inputs\n",
    "    ------\n",
    "    x_ptr: [N_EMBD,] - current token embedding\n",
    "    W_ptr: [N_EMBD, 4 * N_EMBD] - dense layer weights\n",
    "    b_ptr: [4 * N_EMBD,] - dense layer bias\n",
    "\n",
    "    Outputs\n",
    "    -------\n",
    "    out_ptr: [4 * N_EMBD,] - output embedding\n",
    "    \"\"\"\n",
    "    subembd_start = tl.program_id(0) * SUBEMBD_SIZE\n",
    "\n",
    "    x_idxs = tl.arange(0, N_EMBD)\n",
    "    subembd_idxs = tl.arange(0, SUBEMBD_SIZE) + subembd_start\n",
    "\n",
    "    x = tl.load(x_ptr + x_idxs)\n",
    "\n",
    "    # Layer norm x.\n",
    "    x_mean = tl.sum(x, axis=0) / N_EMBD\n",
    "    x_mean_sq = tl.sum(x * x, axis=0) / N_EMBD\n",
    "    x = (x - x_mean) / tl.sqrt(x_mean_sq + 1e-5)\n",
    "\n",
    "    # Initialise the accumulator with the dense layer bias.\n",
    "    acc = tl.load(b_ptr + subembd_idxs)\n",
    "\n",
    "    n_blocks = tl.cdiv(4 * N_EMBD, BLOCK_ROWS)\n",
    "    for block_i in range(0, n_blocks):\n",
    "        \n",
    "        row_idxs = tl.arange(0, BLOCK_ROWS) + block_i * BLOCK_ROWS\n",
    "        Wi_idxs = row_idxs[:, None] * 4 * N_EMBD + subembd_idxs[None, :]\n",
    "\n",
    "        Wi = tl.load(W_ptr + Wi_idxs)\n",
    "        acc += tl.sum(x[:, None] * Wi, axis=0)\n",
    "\n",
    "    acc = fast_gelu(acc)\n",
    "\n",
    "    tl.store(out_ptr, subembd_idxs, acc)"
   ]
  },
  {
   "cell_type": "code",
   "execution_count": 34,
   "metadata": {},
   "outputs": [],
   "source": [
    "def fused_dense(x, W, b, SUBEMBD_SIZE, BLOCK_ROWS):\n",
    "\n",
    "    N_EMBD = x.shape[0]\n",
    "\n",
    "    out_shape = jax.ShapeDtypeStruct((4 * N_EMBD, ), x.dtype)\n",
    "    grid = (N_EMBD // SUBEMBD_SIZE, )\n",
    "\n",
    "    return jt.triton_call(x,\n",
    "                          W,\n",
    "                          b,\n",
    "                          kernel=fused_dense_kernel,\n",
    "                          out_shape=out_shape,\n",
    "                          grid=grid,\n",
    "                          SUBEMBD_SIZE=SUBEMBD_SIZE,\n",
    "                          BLOCK_ROWS=BLOCK_ROWS,\n",
    "                          N_EMBD=N_EMBD)"
   ]
  },
  {
   "cell_type": "code",
   "execution_count": 35,
   "metadata": {},
   "outputs": [],
   "source": [
    "class FusedDense(nn.Module):\n",
    "\n",
    "    SUBEMBD_SIZE: int\n",
    "    BLOCK_ROWS: int\n",
    "\n",
    "    @nn.compact\n",
    "    def __call__(self, x, y, W, b):\n",
    "\n",
    "        C, = x.shape\n",
    "\n",
    "        x = x + y\n",
    "        y = fused_dense(x, W, b,\n",
    "                        self.SUBEMBD_SIZE, self.BLOCK_ROWS)\n",
    "        y = nn.Dense(features=C)(y)\n",
    "        x = x + y\n",
    "\n",
    "        return x"
   ]
  },
  {
   "cell_type": "code",
   "execution_count": 38,
   "metadata": {},
   "outputs": [
    {
     "ename": "CompilationError",
     "evalue": "at 42:35:\ndef fused_dense_kernel(x_ptr, W_ptr, b_ptr, out_ptr,\n                       SUBEMBD_SIZE: tl.constexpr, BLOCK_ROWS: tl.constexpr,\n                       N_EMBD: tl.constexpr):\n    \"\"\"\n    Trition kernel implementing fused layer norm, dense layer and GELU activation.\n\n    Kernel cell i computes out[i * SUBEMBD_SIZE: (i+1) * SUBEMBD_SIZE]. The multiplication\n    is done iteratively on blocks of `BLOCK_ROWS` rows.\n\n    Inputs\n    ------\n    x_ptr: [N_EMBD,] - current token embedding\n    W_ptr: [N_EMBD, 4 * N_EMBD] - dense layer weights\n    b_ptr: [4 * N_EMBD,] - dense layer bias\n\n    Outputs\n    -------\n    out_ptr: [4 * N_EMBD,] - output embedding\n    \"\"\"\n    subembd_start = tl.program_id(0) * SUBEMBD_SIZE\n\n    x_idxs = tl.arange(0, N_EMBD)\n    subembd_idxs = tl.arange(0, SUBEMBD_SIZE) + subembd_start\n\n    x = tl.load(x_ptr + x_idxs)\n\n    # Layer norm x.\n    x_mean = tl.sum(x, axis=0) / N_EMBD\n    x_mean_sq = tl.sum(x * x, axis=0) / N_EMBD\n    x = (x - x_mean) / tl.sqrt(x_mean_sq + 1e-5)\n\n    # Initialise the accumulator with the dense layer bias.\n    acc = tl.load(b_ptr + subembd_idxs)\n\n    n_blocks = tl.cdiv(4 * N_EMBD, BLOCK_ROWS)\n    for block_i in range(0, n_blocks):\n\n        row_idxs = tl.arange(0, BLOCK_ROWS) + block_i * BLOCK_ROWS\n        Wi_idxs = row_idxs[:, None] * 4 * N_EMBD + subembd_idxs[None, :]\n\n        Wi = tl.load(W_ptr + Wi_idxs)\n        acc += tl.sum(x[:, None] * Wi, axis=0)\n                                   ^",
     "output_type": "error",
     "traceback": [
      "\u001b[0;31m---------------------------------------------------------------------------\u001b[0m",
      "\u001b[0;31mValueError\u001b[0m                                Traceback (most recent call last)",
      "File \u001b[0;32m~/triton/python/triton/compiler.py:949\u001b[0m, in \u001b[0;36mbuild_triton_ir\u001b[0;34m(fn, signature, specialization, constants)\u001b[0m\n\u001b[1;32m    948\u001b[0m \u001b[39mtry\u001b[39;00m:\n\u001b[0;32m--> 949\u001b[0m     generator\u001b[39m.\u001b[39;49mvisit(fn\u001b[39m.\u001b[39;49mparse())\n\u001b[1;32m    950\u001b[0m \u001b[39mexcept\u001b[39;00m \u001b[39mException\u001b[39;00m \u001b[39mas\u001b[39;00m e:\n",
      "File \u001b[0;32m~/triton/python/triton/compiler.py:867\u001b[0m, in \u001b[0;36mCodeGenerator.visit\u001b[0;34m(self, node)\u001b[0m\n\u001b[1;32m    866\u001b[0m warnings\u001b[39m.\u001b[39msimplefilter(\u001b[39m\"\u001b[39m\u001b[39mignore\u001b[39m\u001b[39m\"\u001b[39m, \u001b[39mPendingDeprecationWarning\u001b[39;00m)  \u001b[39m# python 3.8\u001b[39;00m\n\u001b[0;32m--> 867\u001b[0m \u001b[39mreturn\u001b[39;00m \u001b[39msuper\u001b[39;49m()\u001b[39m.\u001b[39;49mvisit(node)\n",
      "File \u001b[0;32m/opt/conda/lib/python3.10/ast.py:412\u001b[0m, in \u001b[0;36mNodeVisitor.visit\u001b[0;34m(self, node)\u001b[0m\n\u001b[1;32m    411\u001b[0m visitor \u001b[39m=\u001b[39m \u001b[39mgetattr\u001b[39m(\u001b[39mself\u001b[39m, method, \u001b[39mself\u001b[39m\u001b[39m.\u001b[39mgeneric_visit)\n\u001b[0;32m--> 412\u001b[0m \u001b[39mreturn\u001b[39;00m visitor(node)\n",
      "File \u001b[0;32m~/triton/python/triton/compiler.py:195\u001b[0m, in \u001b[0;36mCodeGenerator.visit_Module\u001b[0;34m(self, node)\u001b[0m\n\u001b[1;32m    194\u001b[0m \u001b[39mdef\u001b[39;00m \u001b[39mvisit_Module\u001b[39m(\u001b[39mself\u001b[39m, node):\n\u001b[0;32m--> 195\u001b[0m     ast\u001b[39m.\u001b[39;49mNodeVisitor\u001b[39m.\u001b[39;49mgeneric_visit(\u001b[39mself\u001b[39;49m, node)\n",
      "File \u001b[0;32m/opt/conda/lib/python3.10/ast.py:420\u001b[0m, in \u001b[0;36mNodeVisitor.generic_visit\u001b[0;34m(self, node)\u001b[0m\n\u001b[1;32m    419\u001b[0m         \u001b[39mif\u001b[39;00m \u001b[39misinstance\u001b[39m(item, AST):\n\u001b[0;32m--> 420\u001b[0m             \u001b[39mself\u001b[39;49m\u001b[39m.\u001b[39;49mvisit(item)\n\u001b[1;32m    421\u001b[0m \u001b[39melif\u001b[39;00m \u001b[39misinstance\u001b[39m(value, AST):\n",
      "File \u001b[0;32m~/triton/python/triton/compiler.py:867\u001b[0m, in \u001b[0;36mCodeGenerator.visit\u001b[0;34m(self, node)\u001b[0m\n\u001b[1;32m    866\u001b[0m warnings\u001b[39m.\u001b[39msimplefilter(\u001b[39m\"\u001b[39m\u001b[39mignore\u001b[39m\u001b[39m\"\u001b[39m, \u001b[39mPendingDeprecationWarning\u001b[39;00m)  \u001b[39m# python 3.8\u001b[39;00m\n\u001b[0;32m--> 867\u001b[0m \u001b[39mreturn\u001b[39;00m \u001b[39msuper\u001b[39;49m()\u001b[39m.\u001b[39;49mvisit(node)\n",
      "File \u001b[0;32m/opt/conda/lib/python3.10/ast.py:412\u001b[0m, in \u001b[0;36mNodeVisitor.visit\u001b[0;34m(self, node)\u001b[0m\n\u001b[1;32m    411\u001b[0m visitor \u001b[39m=\u001b[39m \u001b[39mgetattr\u001b[39m(\u001b[39mself\u001b[39m, method, \u001b[39mself\u001b[39m\u001b[39m.\u001b[39mgeneric_visit)\n\u001b[0;32m--> 412\u001b[0m \u001b[39mreturn\u001b[39;00m visitor(node)\n",
      "File \u001b[0;32m~/triton/python/triton/compiler.py:264\u001b[0m, in \u001b[0;36mCodeGenerator.visit_FunctionDef\u001b[0;34m(self, node)\u001b[0m\n\u001b[1;32m    263\u001b[0m \u001b[39m# visit function body\u001b[39;00m\n\u001b[0;32m--> 264\u001b[0m has_ret \u001b[39m=\u001b[39m \u001b[39mself\u001b[39;49m\u001b[39m.\u001b[39;49mvisit_compound_statement(node\u001b[39m.\u001b[39;49mbody)\n\u001b[1;32m    265\u001b[0m \u001b[39m# finalize function\u001b[39;00m\n",
      "File \u001b[0;32m~/triton/python/triton/compiler.py:177\u001b[0m, in \u001b[0;36mCodeGenerator.visit_compound_statement\u001b[0;34m(self, stmts)\u001b[0m\n\u001b[1;32m    176\u001b[0m \u001b[39mfor\u001b[39;00m stmt \u001b[39min\u001b[39;00m stmts:\n\u001b[0;32m--> 177\u001b[0m     \u001b[39mself\u001b[39m\u001b[39m.\u001b[39mlast_ret_type \u001b[39m=\u001b[39m \u001b[39mself\u001b[39;49m\u001b[39m.\u001b[39;49mvisit(stmt)\n\u001b[1;32m    178\u001b[0m     \u001b[39mif\u001b[39;00m \u001b[39misinstance\u001b[39m(stmt, ast\u001b[39m.\u001b[39mReturn):\n",
      "File \u001b[0;32m~/triton/python/triton/compiler.py:867\u001b[0m, in \u001b[0;36mCodeGenerator.visit\u001b[0;34m(self, node)\u001b[0m\n\u001b[1;32m    866\u001b[0m warnings\u001b[39m.\u001b[39msimplefilter(\u001b[39m\"\u001b[39m\u001b[39mignore\u001b[39m\u001b[39m\"\u001b[39m, \u001b[39mPendingDeprecationWarning\u001b[39;00m)  \u001b[39m# python 3.8\u001b[39;00m\n\u001b[0;32m--> 867\u001b[0m \u001b[39mreturn\u001b[39;00m \u001b[39msuper\u001b[39;49m()\u001b[39m.\u001b[39;49mvisit(node)\n",
      "File \u001b[0;32m/opt/conda/lib/python3.10/ast.py:412\u001b[0m, in \u001b[0;36mNodeVisitor.visit\u001b[0;34m(self, node)\u001b[0m\n\u001b[1;32m    411\u001b[0m visitor \u001b[39m=\u001b[39m \u001b[39mgetattr\u001b[39m(\u001b[39mself\u001b[39m, method, \u001b[39mself\u001b[39m\u001b[39m.\u001b[39mgeneric_visit)\n\u001b[0;32m--> 412\u001b[0m \u001b[39mreturn\u001b[39;00m visitor(node)\n",
      "File \u001b[0;32m~/triton/python/triton/compiler.py:690\u001b[0m, in \u001b[0;36mCodeGenerator.visit_For\u001b[0;34m(self, node)\u001b[0m\n\u001b[1;32m    689\u001b[0m \u001b[39mself\u001b[39m\u001b[39m.\u001b[39mscf_stack\u001b[39m.\u001b[39mappend(node)\n\u001b[0;32m--> 690\u001b[0m \u001b[39mself\u001b[39;49m\u001b[39m.\u001b[39;49mvisit_compound_statement(node\u001b[39m.\u001b[39;49mbody)\n\u001b[1;32m    691\u001b[0m \u001b[39mself\u001b[39m\u001b[39m.\u001b[39mscf_stack\u001b[39m.\u001b[39mpop()\n",
      "File \u001b[0;32m~/triton/python/triton/compiler.py:177\u001b[0m, in \u001b[0;36mCodeGenerator.visit_compound_statement\u001b[0;34m(self, stmts)\u001b[0m\n\u001b[1;32m    176\u001b[0m \u001b[39mfor\u001b[39;00m stmt \u001b[39min\u001b[39;00m stmts:\n\u001b[0;32m--> 177\u001b[0m     \u001b[39mself\u001b[39m\u001b[39m.\u001b[39mlast_ret_type \u001b[39m=\u001b[39m \u001b[39mself\u001b[39;49m\u001b[39m.\u001b[39;49mvisit(stmt)\n\u001b[1;32m    178\u001b[0m     \u001b[39mif\u001b[39;00m \u001b[39misinstance\u001b[39m(stmt, ast\u001b[39m.\u001b[39mReturn):\n",
      "File \u001b[0;32m~/triton/python/triton/compiler.py:867\u001b[0m, in \u001b[0;36mCodeGenerator.visit\u001b[0;34m(self, node)\u001b[0m\n\u001b[1;32m    866\u001b[0m warnings\u001b[39m.\u001b[39msimplefilter(\u001b[39m\"\u001b[39m\u001b[39mignore\u001b[39m\u001b[39m\"\u001b[39m, \u001b[39mPendingDeprecationWarning\u001b[39;00m)  \u001b[39m# python 3.8\u001b[39;00m\n\u001b[0;32m--> 867\u001b[0m \u001b[39mreturn\u001b[39;00m \u001b[39msuper\u001b[39;49m()\u001b[39m.\u001b[39;49mvisit(node)\n",
      "File \u001b[0;32m/opt/conda/lib/python3.10/ast.py:412\u001b[0m, in \u001b[0;36mNodeVisitor.visit\u001b[0;34m(self, node)\u001b[0m\n\u001b[1;32m    411\u001b[0m visitor \u001b[39m=\u001b[39m \u001b[39mgetattr\u001b[39m(\u001b[39mself\u001b[39m, method, \u001b[39mself\u001b[39m\u001b[39m.\u001b[39mgeneric_visit)\n\u001b[0;32m--> 412\u001b[0m \u001b[39mreturn\u001b[39;00m visitor(node)\n",
      "File \u001b[0;32m~/triton/python/triton/compiler.py:331\u001b[0m, in \u001b[0;36mCodeGenerator.visit_AugAssign\u001b[0;34m(self, node)\u001b[0m\n\u001b[1;32m    330\u001b[0m assign \u001b[39m=\u001b[39m ast\u001b[39m.\u001b[39mAssign(targets\u001b[39m=\u001b[39m[node\u001b[39m.\u001b[39mtarget], value\u001b[39m=\u001b[39mrhs)\n\u001b[0;32m--> 331\u001b[0m \u001b[39mself\u001b[39;49m\u001b[39m.\u001b[39;49mvisit(assign)\n\u001b[1;32m    332\u001b[0m \u001b[39mreturn\u001b[39;00m \u001b[39mself\u001b[39m\u001b[39m.\u001b[39mget_value(name)\n",
      "File \u001b[0;32m~/triton/python/triton/compiler.py:867\u001b[0m, in \u001b[0;36mCodeGenerator.visit\u001b[0;34m(self, node)\u001b[0m\n\u001b[1;32m    866\u001b[0m warnings\u001b[39m.\u001b[39msimplefilter(\u001b[39m\"\u001b[39m\u001b[39mignore\u001b[39m\u001b[39m\"\u001b[39m, \u001b[39mPendingDeprecationWarning\u001b[39;00m)  \u001b[39m# python 3.8\u001b[39;00m\n\u001b[0;32m--> 867\u001b[0m \u001b[39mreturn\u001b[39;00m \u001b[39msuper\u001b[39;49m()\u001b[39m.\u001b[39;49mvisit(node)\n",
      "File \u001b[0;32m/opt/conda/lib/python3.10/ast.py:412\u001b[0m, in \u001b[0;36mNodeVisitor.visit\u001b[0;34m(self, node)\u001b[0m\n\u001b[1;32m    411\u001b[0m visitor \u001b[39m=\u001b[39m \u001b[39mgetattr\u001b[39m(\u001b[39mself\u001b[39m, method, \u001b[39mself\u001b[39m\u001b[39m.\u001b[39mgeneric_visit)\n\u001b[0;32m--> 412\u001b[0m \u001b[39mreturn\u001b[39;00m visitor(node)\n",
      "File \u001b[0;32m~/triton/python/triton/compiler.py:313\u001b[0m, in \u001b[0;36mCodeGenerator.visit_Assign\u001b[0;34m(self, node)\u001b[0m\n\u001b[1;32m    312\u001b[0m names \u001b[39m=\u001b[39m _names[\u001b[39m0\u001b[39m]\n\u001b[0;32m--> 313\u001b[0m values \u001b[39m=\u001b[39m \u001b[39mself\u001b[39;49m\u001b[39m.\u001b[39;49mvisit(node\u001b[39m.\u001b[39;49mvalue)\n\u001b[1;32m    314\u001b[0m \u001b[39mif\u001b[39;00m \u001b[39mnot\u001b[39;00m \u001b[39misinstance\u001b[39m(names, \u001b[39mtuple\u001b[39m):\n",
      "File \u001b[0;32m~/triton/python/triton/compiler.py:867\u001b[0m, in \u001b[0;36mCodeGenerator.visit\u001b[0;34m(self, node)\u001b[0m\n\u001b[1;32m    866\u001b[0m warnings\u001b[39m.\u001b[39msimplefilter(\u001b[39m\"\u001b[39m\u001b[39mignore\u001b[39m\u001b[39m\"\u001b[39m, \u001b[39mPendingDeprecationWarning\u001b[39;00m)  \u001b[39m# python 3.8\u001b[39;00m\n\u001b[0;32m--> 867\u001b[0m \u001b[39mreturn\u001b[39;00m \u001b[39msuper\u001b[39;49m()\u001b[39m.\u001b[39;49mvisit(node)\n",
      "File \u001b[0;32m/opt/conda/lib/python3.10/ast.py:412\u001b[0m, in \u001b[0;36mNodeVisitor.visit\u001b[0;34m(self, node)\u001b[0m\n\u001b[1;32m    411\u001b[0m visitor \u001b[39m=\u001b[39m \u001b[39mgetattr\u001b[39m(\u001b[39mself\u001b[39m, method, \u001b[39mself\u001b[39m\u001b[39m.\u001b[39mgeneric_visit)\n\u001b[0;32m--> 412\u001b[0m \u001b[39mreturn\u001b[39;00m visitor(node)\n",
      "File \u001b[0;32m~/triton/python/triton/compiler.py:351\u001b[0m, in \u001b[0;36mCodeGenerator.visit_BinOp\u001b[0;34m(self, node)\u001b[0m\n\u001b[1;32m    350\u001b[0m lhs \u001b[39m=\u001b[39m \u001b[39mself\u001b[39m\u001b[39m.\u001b[39mvisit(node\u001b[39m.\u001b[39mleft)\n\u001b[0;32m--> 351\u001b[0m rhs \u001b[39m=\u001b[39m \u001b[39mself\u001b[39;49m\u001b[39m.\u001b[39;49mvisit(node\u001b[39m.\u001b[39;49mright)\n\u001b[1;32m    352\u001b[0m fn \u001b[39m=\u001b[39m {\n\u001b[1;32m    353\u001b[0m     ast\u001b[39m.\u001b[39mAdd: \u001b[39m'\u001b[39m\u001b[39m__add__\u001b[39m\u001b[39m'\u001b[39m,\n\u001b[1;32m    354\u001b[0m     ast\u001b[39m.\u001b[39mSub: \u001b[39m'\u001b[39m\u001b[39m__sub__\u001b[39m\u001b[39m'\u001b[39m,\n\u001b[0;32m   (...)\u001b[0m\n\u001b[1;32m    364\u001b[0m     ast\u001b[39m.\u001b[39mBitXor: \u001b[39m'\u001b[39m\u001b[39m__xor__\u001b[39m\u001b[39m'\u001b[39m,\n\u001b[1;32m    365\u001b[0m }[\u001b[39mtype\u001b[39m(node\u001b[39m.\u001b[39mop)]\n",
      "File \u001b[0;32m~/triton/python/triton/compiler.py:867\u001b[0m, in \u001b[0;36mCodeGenerator.visit\u001b[0;34m(self, node)\u001b[0m\n\u001b[1;32m    866\u001b[0m warnings\u001b[39m.\u001b[39msimplefilter(\u001b[39m\"\u001b[39m\u001b[39mignore\u001b[39m\u001b[39m\"\u001b[39m, \u001b[39mPendingDeprecationWarning\u001b[39;00m)  \u001b[39m# python 3.8\u001b[39;00m\n\u001b[0;32m--> 867\u001b[0m \u001b[39mreturn\u001b[39;00m \u001b[39msuper\u001b[39;49m()\u001b[39m.\u001b[39;49mvisit(node)\n",
      "File \u001b[0;32m/opt/conda/lib/python3.10/ast.py:412\u001b[0m, in \u001b[0;36mNodeVisitor.visit\u001b[0;34m(self, node)\u001b[0m\n\u001b[1;32m    411\u001b[0m visitor \u001b[39m=\u001b[39m \u001b[39mgetattr\u001b[39m(\u001b[39mself\u001b[39m, method, \u001b[39mself\u001b[39m\u001b[39m.\u001b[39mgeneric_visit)\n\u001b[0;32m--> 412\u001b[0m \u001b[39mreturn\u001b[39;00m visitor(node)\n",
      "File \u001b[0;32m~/triton/python/triton/compiler.py:769\u001b[0m, in \u001b[0;36mCodeGenerator.visit_Call\u001b[0;34m(self, node)\u001b[0m\n\u001b[1;32m    768\u001b[0m     kws\u001b[39m.\u001b[39mupdate(\u001b[39mself\u001b[39m\u001b[39m.\u001b[39mvisit(keyword))\n\u001b[0;32m--> 769\u001b[0m args \u001b[39m=\u001b[39m [\u001b[39mself\u001b[39m\u001b[39m.\u001b[39mvisit(arg) \u001b[39mfor\u001b[39;00m arg \u001b[39min\u001b[39;00m node\u001b[39m.\u001b[39margs]\n\u001b[1;32m    770\u001b[0m \u001b[39mif\u001b[39;00m \u001b[39misinstance\u001b[39m(fn, triton\u001b[39m.\u001b[39mruntime\u001b[39m.\u001b[39mJITFunction):\n",
      "File \u001b[0;32m~/triton/python/triton/compiler.py:769\u001b[0m, in \u001b[0;36m<listcomp>\u001b[0;34m(.0)\u001b[0m\n\u001b[1;32m    768\u001b[0m     kws\u001b[39m.\u001b[39mupdate(\u001b[39mself\u001b[39m\u001b[39m.\u001b[39mvisit(keyword))\n\u001b[0;32m--> 769\u001b[0m args \u001b[39m=\u001b[39m [\u001b[39mself\u001b[39;49m\u001b[39m.\u001b[39;49mvisit(arg) \u001b[39mfor\u001b[39;00m arg \u001b[39min\u001b[39;00m node\u001b[39m.\u001b[39margs]\n\u001b[1;32m    770\u001b[0m \u001b[39mif\u001b[39;00m \u001b[39misinstance\u001b[39m(fn, triton\u001b[39m.\u001b[39mruntime\u001b[39m.\u001b[39mJITFunction):\n",
      "File \u001b[0;32m~/triton/python/triton/compiler.py:867\u001b[0m, in \u001b[0;36mCodeGenerator.visit\u001b[0;34m(self, node)\u001b[0m\n\u001b[1;32m    866\u001b[0m warnings\u001b[39m.\u001b[39msimplefilter(\u001b[39m\"\u001b[39m\u001b[39mignore\u001b[39m\u001b[39m\"\u001b[39m, \u001b[39mPendingDeprecationWarning\u001b[39;00m)  \u001b[39m# python 3.8\u001b[39;00m\n\u001b[0;32m--> 867\u001b[0m \u001b[39mreturn\u001b[39;00m \u001b[39msuper\u001b[39;49m()\u001b[39m.\u001b[39;49mvisit(node)\n",
      "File \u001b[0;32m/opt/conda/lib/python3.10/ast.py:412\u001b[0m, in \u001b[0;36mNodeVisitor.visit\u001b[0;34m(self, node)\u001b[0m\n\u001b[1;32m    411\u001b[0m visitor \u001b[39m=\u001b[39m \u001b[39mgetattr\u001b[39m(\u001b[39mself\u001b[39m, method, \u001b[39mself\u001b[39m\u001b[39m.\u001b[39mgeneric_visit)\n\u001b[0;32m--> 412\u001b[0m \u001b[39mreturn\u001b[39;00m visitor(node)\n",
      "File \u001b[0;32m~/triton/python/triton/compiler.py:367\u001b[0m, in \u001b[0;36mCodeGenerator.visit_BinOp\u001b[0;34m(self, node)\u001b[0m\n\u001b[1;32m    366\u001b[0m \u001b[39mif\u001b[39;00m \u001b[39mself\u001b[39m\u001b[39m.\u001b[39mis_triton_tensor(lhs):\n\u001b[0;32m--> 367\u001b[0m     \u001b[39mreturn\u001b[39;00m \u001b[39mgetattr\u001b[39;49m(lhs, fn)(rhs, _builder\u001b[39m=\u001b[39;49m\u001b[39mself\u001b[39;49m\u001b[39m.\u001b[39;49mbuilder)\n\u001b[1;32m    368\u001b[0m \u001b[39melif\u001b[39;00m \u001b[39mself\u001b[39m\u001b[39m.\u001b[39mis_triton_tensor(rhs):\n",
      "File \u001b[0;32m~/triton/python/triton/impl/base.py:22\u001b[0m, in \u001b[0;36mbuiltin.<locals>.wrapper\u001b[0;34m(*args, **kwargs)\u001b[0m\n\u001b[1;32m     18\u001b[0m     \u001b[39mraise\u001b[39;00m \u001b[39mValueError\u001b[39;00m(\n\u001b[1;32m     19\u001b[0m         \u001b[39m\"\u001b[39m\u001b[39mDid you forget to add @triton.jit ? \u001b[39m\u001b[39m\"\u001b[39m\n\u001b[1;32m     20\u001b[0m         \u001b[39m\"\u001b[39m\u001b[39m(`_builder` argument must be provided outside of JIT functions.)\u001b[39m\u001b[39m\"\u001b[39m\n\u001b[1;32m     21\u001b[0m     )\n\u001b[0;32m---> 22\u001b[0m \u001b[39mreturn\u001b[39;00m fn(\u001b[39m*\u001b[39;49margs, \u001b[39m*\u001b[39;49m\u001b[39m*\u001b[39;49mkwargs)\n",
      "File \u001b[0;32m~/triton/python/triton/language/core.py:484\u001b[0m, in \u001b[0;36mtensor.__mul__\u001b[0;34m(self, other, _builder)\u001b[0m\n\u001b[1;32m    483\u001b[0m other \u001b[39m=\u001b[39m _to_tensor(other, _builder)\n\u001b[0;32m--> 484\u001b[0m \u001b[39mreturn\u001b[39;00m semantic\u001b[39m.\u001b[39;49mmul(\u001b[39mself\u001b[39;49m, other, _builder)\n",
      "File \u001b[0;32m~/triton/python/triton/language/semantic.py:163\u001b[0m, in \u001b[0;36mmul\u001b[0;34m(input, other, builder)\u001b[0m\n\u001b[1;32m    160\u001b[0m \u001b[39mdef\u001b[39;00m \u001b[39mmul\u001b[39m(\u001b[39minput\u001b[39m: tl\u001b[39m.\u001b[39mtensor,\n\u001b[1;32m    161\u001b[0m         other: tl\u001b[39m.\u001b[39mtensor,\n\u001b[1;32m    162\u001b[0m         builder: ir\u001b[39m.\u001b[39mbuilder) \u001b[39m-\u001b[39m\u001b[39m>\u001b[39m tl\u001b[39m.\u001b[39mtensor:\n\u001b[0;32m--> 163\u001b[0m     \u001b[39minput\u001b[39m, other \u001b[39m=\u001b[39m binary_op_type_checking_impl(\u001b[39minput\u001b[39;49m, other, builder)\n\u001b[1;32m    164\u001b[0m     scalar_ty \u001b[39m=\u001b[39m \u001b[39minput\u001b[39m\u001b[39m.\u001b[39mtype\u001b[39m.\u001b[39mscalar\n",
      "File \u001b[0;32m~/triton/python/triton/language/semantic.py:107\u001b[0m, in \u001b[0;36mbinary_op_type_checking_impl\u001b[0;34m(lhs, rhs, builder, allow_lhs_ptr, allow_rhs_ptr, arithmetic_check, div_or_mod)\u001b[0m\n\u001b[1;32m    100\u001b[0m \u001b[39mdef\u001b[39;00m \u001b[39mbinary_op_type_checking_impl\u001b[39m(lhs: tl\u001b[39m.\u001b[39mtensor,\n\u001b[1;32m    101\u001b[0m                                  rhs: tl\u001b[39m.\u001b[39mtensor,\n\u001b[1;32m    102\u001b[0m                                  builder: ir\u001b[39m.\u001b[39mbuilder,\n\u001b[0;32m   (...)\u001b[0m\n\u001b[1;32m    105\u001b[0m                                  ) \u001b[39m-\u001b[39m\u001b[39m>\u001b[39m Tuple[tl\u001b[39m.\u001b[39mtensor, tl\u001b[39m.\u001b[39mtensor]:\n\u001b[1;32m    106\u001b[0m     \u001b[39m# implicit broadcasting\u001b[39;00m\n\u001b[0;32m--> 107\u001b[0m     lhs, rhs \u001b[39m=\u001b[39m broadcast_impl_value(lhs, rhs, builder)\n\u001b[1;32m    108\u001b[0m     \u001b[39m# implicit typecasting\u001b[39;00m\n",
      "File \u001b[0;32m~/triton/python/triton/language/semantic.py:601\u001b[0m, in \u001b[0;36mbroadcast_impl_value\u001b[0;34m(lhs, rhs, builder)\u001b[0m\n\u001b[1;32m    600\u001b[0m     \u001b[39melse\u001b[39;00m:\n\u001b[0;32m--> 601\u001b[0m         \u001b[39mraise\u001b[39;00m \u001b[39mValueError\u001b[39;00m(\u001b[39m\"\u001b[39m\u001b[39mCannot make_shape_compatible: incompatible dimensions \u001b[39m\u001b[39m\"\u001b[39m\n\u001b[1;32m    602\u001b[0m                          \u001b[39m\"\u001b[39m\u001b[39mat index \u001b[39m\u001b[39m\"\u001b[39m \u001b[39m+\u001b[39m \u001b[39mstr\u001b[39m(i) \u001b[39m+\u001b[39m \u001b[39m\"\u001b[39m\u001b[39m: \u001b[39m\u001b[39m\"\u001b[39m \u001b[39m+\u001b[39m \u001b[39mstr\u001b[39m(left) \u001b[39m+\u001b[39m \u001b[39m\"\u001b[39m\u001b[39m and \u001b[39m\u001b[39m\"\u001b[39m \u001b[39m+\u001b[39m \u001b[39mstr\u001b[39m(right))\n\u001b[1;32m    603\u001b[0m \u001b[39mif\u001b[39;00m lhs_shape \u001b[39m!=\u001b[39m ret_shape:\n",
      "\u001b[0;31mValueError\u001b[0m: Cannot make_shape_compatible: incompatible dimensions at index 0: 1024 and 32",
      "\nThe above exception was the direct cause of the following exception:\n",
      "\u001b[0;31mJaxStackTraceBeforeTransformation\u001b[0m         Traceback (most recent call last)",
      "File \u001b[0;32m/opt/conda/lib/python3.10/runpy.py:196\u001b[0m, in \u001b[0;36m_run_module_as_main\u001b[0;34m(***failed resolving arguments***)\u001b[0m\n\u001b[1;32m    195\u001b[0m     sys\u001b[39m.\u001b[39margv[\u001b[39m0\u001b[39m] \u001b[39m=\u001b[39m mod_spec\u001b[39m.\u001b[39morigin\n\u001b[0;32m--> 196\u001b[0m \u001b[39mreturn\u001b[39;00m _run_code(code, main_globals, \u001b[39mNone\u001b[39;00m,\n\u001b[1;32m    197\u001b[0m                  \u001b[39m\"\u001b[39m\u001b[39m__main__\u001b[39m\u001b[39m\"\u001b[39m, mod_spec)\n",
      "File \u001b[0;32m/opt/conda/lib/python3.10/runpy.py:86\u001b[0m, in \u001b[0;36m_run_code\u001b[0;34m(***failed resolving arguments***)\u001b[0m\n\u001b[1;32m     79\u001b[0m run_globals\u001b[39m.\u001b[39mupdate(\u001b[39m__name__\u001b[39m \u001b[39m=\u001b[39m mod_name,\n\u001b[1;32m     80\u001b[0m                    \u001b[39m__file__\u001b[39m \u001b[39m=\u001b[39m fname,\n\u001b[1;32m     81\u001b[0m                    __cached__ \u001b[39m=\u001b[39m cached,\n\u001b[0;32m   (...)\u001b[0m\n\u001b[1;32m     84\u001b[0m                    __package__ \u001b[39m=\u001b[39m pkg_name,\n\u001b[1;32m     85\u001b[0m                    __spec__ \u001b[39m=\u001b[39m mod_spec)\n\u001b[0;32m---> 86\u001b[0m exec(code, run_globals)\n\u001b[1;32m     87\u001b[0m \u001b[39mreturn\u001b[39;00m run_globals\n",
      "File \u001b[0;32m/opt/conda/lib/python3.10/site-packages/ipykernel_launcher.py:17\u001b[0m\n\u001b[1;32m     15\u001b[0m \u001b[39mfrom\u001b[39;00m \u001b[39mipykernel\u001b[39;00m \u001b[39mimport\u001b[39;00m kernelapp \u001b[39mas\u001b[39;00m app\n\u001b[0;32m---> 17\u001b[0m app\u001b[39m.\u001b[39mlaunch_new_instance()\n",
      "File \u001b[0;32m/opt/conda/lib/python3.10/site-packages/traitlets/config/application.py:992\u001b[0m, in \u001b[0;36mApplication.launch_instance\u001b[0;34m(***failed resolving arguments***)\u001b[0m\n\u001b[1;32m    991\u001b[0m app\u001b[39m.\u001b[39minitialize(argv)\n\u001b[0;32m--> 992\u001b[0m app\u001b[39m.\u001b[39mstart()\n",
      "File \u001b[0;32m/opt/conda/lib/python3.10/site-packages/ipykernel/kernelapp.py:712\u001b[0m, in \u001b[0;36mIPKernelApp.start\u001b[0;34m(***failed resolving arguments***)\u001b[0m\n\u001b[1;32m    711\u001b[0m \u001b[39mtry\u001b[39;00m:\n\u001b[0;32m--> 712\u001b[0m     \u001b[39mself\u001b[39m\u001b[39m.\u001b[39mio_loop\u001b[39m.\u001b[39mstart()\n\u001b[1;32m    713\u001b[0m \u001b[39mexcept\u001b[39;00m \u001b[39mKeyboardInterrupt\u001b[39;00m:\n",
      "File \u001b[0;32m/opt/conda/lib/python3.10/site-packages/tornado/platform/asyncio.py:199\u001b[0m, in \u001b[0;36mBaseAsyncIOLoop.start\u001b[0;34m(***failed resolving arguments***)\u001b[0m\n\u001b[1;32m    198\u001b[0m     asyncio\u001b[39m.\u001b[39mset_event_loop(\u001b[39mself\u001b[39m\u001b[39m.\u001b[39masyncio_loop)\n\u001b[0;32m--> 199\u001b[0m     \u001b[39mself\u001b[39m\u001b[39m.\u001b[39masyncio_loop\u001b[39m.\u001b[39mrun_forever()\n\u001b[1;32m    200\u001b[0m \u001b[39mfinally\u001b[39;00m:\n",
      "File \u001b[0;32m/opt/conda/lib/python3.10/asyncio/base_events.py:603\u001b[0m, in \u001b[0;36mBaseEventLoop.run_forever\u001b[0;34m(***failed resolving arguments***)\u001b[0m\n\u001b[1;32m    602\u001b[0m \u001b[39mwhile\u001b[39;00m \u001b[39mTrue\u001b[39;00m:\n\u001b[0;32m--> 603\u001b[0m     \u001b[39mself\u001b[39m\u001b[39m.\u001b[39m_run_once()\n\u001b[1;32m    604\u001b[0m     \u001b[39mif\u001b[39;00m \u001b[39mself\u001b[39m\u001b[39m.\u001b[39m_stopping:\n",
      "File \u001b[0;32m/opt/conda/lib/python3.10/asyncio/base_events.py:1899\u001b[0m, in \u001b[0;36mBaseEventLoop._run_once\u001b[0;34m(***failed resolving arguments***)\u001b[0m\n\u001b[1;32m   1898\u001b[0m     \u001b[39melse\u001b[39;00m:\n\u001b[0;32m-> 1899\u001b[0m         handle\u001b[39m.\u001b[39m_run()\n\u001b[1;32m   1900\u001b[0m handle \u001b[39m=\u001b[39m \u001b[39mNone\u001b[39;00m\n",
      "File \u001b[0;32m/opt/conda/lib/python3.10/asyncio/events.py:80\u001b[0m, in \u001b[0;36mHandle._run\u001b[0;34m(***failed resolving arguments***)\u001b[0m\n\u001b[1;32m     79\u001b[0m \u001b[39mtry\u001b[39;00m:\n\u001b[0;32m---> 80\u001b[0m     \u001b[39mself\u001b[39m\u001b[39m.\u001b[39m_context\u001b[39m.\u001b[39mrun(\u001b[39mself\u001b[39m\u001b[39m.\u001b[39m_callback, \u001b[39m*\u001b[39m\u001b[39mself\u001b[39m\u001b[39m.\u001b[39m_args)\n\u001b[1;32m     81\u001b[0m \u001b[39mexcept\u001b[39;00m (\u001b[39mSystemExit\u001b[39;00m, \u001b[39mKeyboardInterrupt\u001b[39;00m):\n",
      "File \u001b[0;32m/opt/conda/lib/python3.10/site-packages/ipykernel/kernelbase.py:510\u001b[0m, in \u001b[0;36mKernel.dispatch_queue\u001b[0;34m(***failed resolving arguments***)\u001b[0m\n\u001b[1;32m    509\u001b[0m \u001b[39mtry\u001b[39;00m:\n\u001b[0;32m--> 510\u001b[0m     \u001b[39mawait\u001b[39;00m \u001b[39mself\u001b[39m\u001b[39m.\u001b[39mprocess_one()\n\u001b[1;32m    511\u001b[0m \u001b[39mexcept\u001b[39;00m \u001b[39mException\u001b[39;00m:\n",
      "File \u001b[0;32m/opt/conda/lib/python3.10/site-packages/ipykernel/kernelbase.py:499\u001b[0m, in \u001b[0;36mKernel.process_one\u001b[0;34m(***failed resolving arguments***)\u001b[0m\n\u001b[1;32m    498\u001b[0m         \u001b[39mreturn\u001b[39;00m \u001b[39mNone\u001b[39;00m\n\u001b[0;32m--> 499\u001b[0m \u001b[39mawait\u001b[39;00m dispatch(\u001b[39m*\u001b[39margs)\n",
      "File \u001b[0;32m/opt/conda/lib/python3.10/site-packages/ipykernel/kernelbase.py:406\u001b[0m, in \u001b[0;36mKernel.dispatch_shell\u001b[0;34m(***failed resolving arguments***)\u001b[0m\n\u001b[1;32m    405\u001b[0m     \u001b[39mif\u001b[39;00m inspect\u001b[39m.\u001b[39misawaitable(result):\n\u001b[0;32m--> 406\u001b[0m         \u001b[39mawait\u001b[39;00m result\n\u001b[1;32m    407\u001b[0m \u001b[39mexcept\u001b[39;00m \u001b[39mException\u001b[39;00m:\n",
      "File \u001b[0;32m/opt/conda/lib/python3.10/site-packages/ipykernel/kernelbase.py:730\u001b[0m, in \u001b[0;36mKernel.execute_request\u001b[0;34m(***failed resolving arguments***)\u001b[0m\n\u001b[1;32m    729\u001b[0m \u001b[39mif\u001b[39;00m inspect\u001b[39m.\u001b[39misawaitable(reply_content):\n\u001b[0;32m--> 730\u001b[0m     reply_content \u001b[39m=\u001b[39m \u001b[39mawait\u001b[39;00m reply_content\n\u001b[1;32m    732\u001b[0m \u001b[39m# Flush output before sending the reply.\u001b[39;00m\n",
      "File \u001b[0;32m/opt/conda/lib/python3.10/site-packages/ipykernel/ipkernel.py:383\u001b[0m, in \u001b[0;36mIPythonKernel.do_execute\u001b[0;34m(***failed resolving arguments***)\u001b[0m\n\u001b[1;32m    382\u001b[0m \u001b[39mif\u001b[39;00m with_cell_id:\n\u001b[0;32m--> 383\u001b[0m     res \u001b[39m=\u001b[39m shell\u001b[39m.\u001b[39mrun_cell(\n\u001b[1;32m    384\u001b[0m         code,\n\u001b[1;32m    385\u001b[0m         store_history\u001b[39m=\u001b[39mstore_history,\n\u001b[1;32m    386\u001b[0m         silent\u001b[39m=\u001b[39msilent,\n\u001b[1;32m    387\u001b[0m         cell_id\u001b[39m=\u001b[39mcell_id,\n\u001b[1;32m    388\u001b[0m     )\n\u001b[1;32m    389\u001b[0m \u001b[39melse\u001b[39;00m:\n",
      "File \u001b[0;32m/opt/conda/lib/python3.10/site-packages/ipykernel/zmqshell.py:528\u001b[0m, in \u001b[0;36mZMQInteractiveShell.run_cell\u001b[0;34m(***failed resolving arguments***)\u001b[0m\n\u001b[1;32m    527\u001b[0m \u001b[39mself\u001b[39m\u001b[39m.\u001b[39m_last_traceback \u001b[39m=\u001b[39m \u001b[39mNone\u001b[39;00m\n\u001b[0;32m--> 528\u001b[0m \u001b[39mreturn\u001b[39;00m \u001b[39msuper\u001b[39m()\u001b[39m.\u001b[39mrun_cell(\u001b[39m*\u001b[39margs, \u001b[39m*\u001b[39m\u001b[39m*\u001b[39mkwargs)\n",
      "File \u001b[0;32m/opt/conda/lib/python3.10/site-packages/IPython/core/interactiveshell.py:2940\u001b[0m, in \u001b[0;36mInteractiveShell.run_cell\u001b[0;34m(***failed resolving arguments***)\u001b[0m\n\u001b[1;32m   2939\u001b[0m \u001b[39mtry\u001b[39;00m:\n\u001b[0;32m-> 2940\u001b[0m     result \u001b[39m=\u001b[39m \u001b[39mself\u001b[39m\u001b[39m.\u001b[39m_run_cell(\n\u001b[1;32m   2941\u001b[0m         raw_cell, store_history, silent, shell_futures, cell_id\n\u001b[1;32m   2942\u001b[0m     )\n\u001b[1;32m   2943\u001b[0m \u001b[39mfinally\u001b[39;00m:\n",
      "File \u001b[0;32m/opt/conda/lib/python3.10/site-packages/IPython/core/interactiveshell.py:2995\u001b[0m, in \u001b[0;36mInteractiveShell._run_cell\u001b[0;34m(***failed resolving arguments***)\u001b[0m\n\u001b[1;32m   2994\u001b[0m \u001b[39mtry\u001b[39;00m:\n\u001b[0;32m-> 2995\u001b[0m     \u001b[39mreturn\u001b[39;00m runner(coro)\n\u001b[1;32m   2996\u001b[0m \u001b[39mexcept\u001b[39;00m \u001b[39mBaseException\u001b[39;00m \u001b[39mas\u001b[39;00m e:\n",
      "File \u001b[0;32m/opt/conda/lib/python3.10/site-packages/IPython/core/async_helpers.py:129\u001b[0m, in \u001b[0;36m_pseudo_sync_runner\u001b[0;34m(***failed resolving arguments***)\u001b[0m\n\u001b[1;32m    128\u001b[0m \u001b[39mtry\u001b[39;00m:\n\u001b[0;32m--> 129\u001b[0m     coro\u001b[39m.\u001b[39msend(\u001b[39mNone\u001b[39;00m)\n\u001b[1;32m    130\u001b[0m \u001b[39mexcept\u001b[39;00m \u001b[39mStopIteration\u001b[39;00m \u001b[39mas\u001b[39;00m exc:\n",
      "File \u001b[0;32m/opt/conda/lib/python3.10/site-packages/IPython/core/interactiveshell.py:3194\u001b[0m, in \u001b[0;36mInteractiveShell.run_cell_async\u001b[0;34m(***failed resolving arguments***)\u001b[0m\n\u001b[1;32m   3192\u001b[0m interactivity \u001b[39m=\u001b[39m \u001b[39m\"\u001b[39m\u001b[39mnone\u001b[39m\u001b[39m\"\u001b[39m \u001b[39mif\u001b[39;00m silent \u001b[39melse\u001b[39;00m \u001b[39mself\u001b[39m\u001b[39m.\u001b[39mast_node_interactivity\n\u001b[0;32m-> 3194\u001b[0m has_raised \u001b[39m=\u001b[39m \u001b[39mawait\u001b[39;00m \u001b[39mself\u001b[39m\u001b[39m.\u001b[39mrun_ast_nodes(code_ast\u001b[39m.\u001b[39mbody, cell_name,\n\u001b[1;32m   3195\u001b[0m        interactivity\u001b[39m=\u001b[39minteractivity, compiler\u001b[39m=\u001b[39mcompiler, result\u001b[39m=\u001b[39mresult)\n\u001b[1;32m   3197\u001b[0m \u001b[39mself\u001b[39m\u001b[39m.\u001b[39mlast_execution_succeeded \u001b[39m=\u001b[39m \u001b[39mnot\u001b[39;00m has_raised\n",
      "File \u001b[0;32m/opt/conda/lib/python3.10/site-packages/IPython/core/interactiveshell.py:3373\u001b[0m, in \u001b[0;36mInteractiveShell.run_ast_nodes\u001b[0;34m(***failed resolving arguments***)\u001b[0m\n\u001b[1;32m   3372\u001b[0m     asy \u001b[39m=\u001b[39m compare(code)\n\u001b[0;32m-> 3373\u001b[0m \u001b[39mif\u001b[39;00m \u001b[39mawait\u001b[39;00m \u001b[39mself\u001b[39m\u001b[39m.\u001b[39mrun_code(code, result, async_\u001b[39m=\u001b[39masy):\n\u001b[1;32m   3374\u001b[0m     \u001b[39mreturn\u001b[39;00m \u001b[39mTrue\u001b[39;00m\n",
      "File \u001b[0;32m/opt/conda/lib/python3.10/site-packages/IPython/core/interactiveshell.py:3433\u001b[0m, in \u001b[0;36mInteractiveShell.run_code\u001b[0;34m(***failed resolving arguments***)\u001b[0m\n\u001b[1;32m   3432\u001b[0m     \u001b[39melse\u001b[39;00m:\n\u001b[0;32m-> 3433\u001b[0m         exec(code_obj, \u001b[39mself\u001b[39m\u001b[39m.\u001b[39muser_global_ns, \u001b[39mself\u001b[39m\u001b[39m.\u001b[39muser_ns)\n\u001b[1;32m   3434\u001b[0m \u001b[39mfinally\u001b[39;00m:\n\u001b[1;32m   3435\u001b[0m     \u001b[39m# Reset our crash handler in place\u001b[39;00m\n",
      "Cell \u001b[0;32mIn[38], line 5\u001b[0m\n\u001b[1;32m      3\u001b[0m b \u001b[39m=\u001b[39m params[\u001b[39m\"\u001b[39m\u001b[39mparams\u001b[39m\u001b[39m\"\u001b[39m][\u001b[39m\"\u001b[39m\u001b[39mDense_0\u001b[39m\u001b[39m\"\u001b[39m][\u001b[39m\"\u001b[39m\u001b[39mbias\u001b[39m\u001b[39m\"\u001b[39m]\n\u001b[0;32m----> 5\u001b[0m out \u001b[39m=\u001b[39m FD\u001b[39m.\u001b[39mapply(params, x, y, W, b)\n",
      "Cell \u001b[0;32mIn[35], line 12\u001b[0m, in \u001b[0;36mFusedDense.__call__\u001b[0;34m(***failed resolving arguments***)\u001b[0m\n\u001b[1;32m     11\u001b[0m x \u001b[39m=\u001b[39m x \u001b[39m+\u001b[39m y\n\u001b[0;32m---> 12\u001b[0m y \u001b[39m=\u001b[39m fused_dense(x, W, b,\n\u001b[1;32m     13\u001b[0m                 \u001b[39mself\u001b[39m\u001b[39m.\u001b[39mSUBEMBD_SIZE, \u001b[39mself\u001b[39m\u001b[39m.\u001b[39mBLOCK_ROWS)\n\u001b[1;32m     14\u001b[0m y \u001b[39m=\u001b[39m nn\u001b[39m.\u001b[39mDense(features\u001b[39m=\u001b[39mC)(y)\n",
      "Cell \u001b[0;32mIn[34], line 8\u001b[0m, in \u001b[0;36mfused_dense\u001b[0;34m(***failed resolving arguments***)\u001b[0m\n\u001b[1;32m      6\u001b[0m grid \u001b[39m=\u001b[39m (N_EMBD \u001b[39m/\u001b[39m\u001b[39m/\u001b[39m SUBEMBD_SIZE, )\n\u001b[0;32m----> 8\u001b[0m \u001b[39mreturn\u001b[39;00m jt\u001b[39m.\u001b[39mtriton_call(x,\n\u001b[1;32m      9\u001b[0m                       W,\n\u001b[1;32m     10\u001b[0m                       b,\n\u001b[1;32m     11\u001b[0m                       kernel\u001b[39m=\u001b[39mfused_dense_kernel,\n\u001b[1;32m     12\u001b[0m                       out_shape\u001b[39m=\u001b[39mout_shape,\n\u001b[1;32m     13\u001b[0m                       grid\u001b[39m=\u001b[39mgrid,\n\u001b[1;32m     14\u001b[0m                       SUBEMBD_SIZE\u001b[39m=\u001b[39mSUBEMBD_SIZE,\n\u001b[1;32m     15\u001b[0m                       BLOCK_ROWS\u001b[39m=\u001b[39mBLOCK_ROWS,\n\u001b[1;32m     16\u001b[0m                       N_EMBD\u001b[39m=\u001b[39mN_EMBD)\n",
      "File \u001b[0;32m~/jax-triton/jax_triton/triton_lib.py:489\u001b[0m, in \u001b[0;36mtriton_call\u001b[0;34m(***failed resolving arguments***)\u001b[0m\n\u001b[1;32m    487\u001b[0m   input_output_aliases \u001b[39m=\u001b[39m {}\n\u001b[0;32m--> 489\u001b[0m out_flat \u001b[39m=\u001b[39m triton_kernel_call_p\u001b[39m.\u001b[39mbind(\n\u001b[1;32m    490\u001b[0m     \u001b[39m*\u001b[39marray_args,\n\u001b[1;32m    491\u001b[0m     fn\u001b[39m=\u001b[39mkernel,\n\u001b[1;32m    492\u001b[0m     scalar_args\u001b[39m=\u001b[39m\u001b[39mtuple\u001b[39m(scalar_args),\n\u001b[1;32m    493\u001b[0m     call_name\u001b[39m=\u001b[39mcall_name,\n\u001b[1;32m    494\u001b[0m     out_shapes\u001b[39m=\u001b[39m\u001b[39mtuple\u001b[39m(flat_out_shapes),\n\u001b[1;32m    495\u001b[0m     grid\u001b[39m=\u001b[39mgrid,\n\u001b[1;32m    496\u001b[0m     num_warps\u001b[39m=\u001b[39mnum_warps,\n\u001b[1;32m    497\u001b[0m     num_stages\u001b[39m=\u001b[39mnum_stages,\n\u001b[1;32m    498\u001b[0m     input_output_aliases\u001b[39m=\u001b[39m\u001b[39mtuple\u001b[39m(input_output_aliases\u001b[39m.\u001b[39mitems()),\n\u001b[1;32m    499\u001b[0m     debug\u001b[39m=\u001b[39mdebug,\n\u001b[1;32m    500\u001b[0m     \u001b[39m*\u001b[39m\u001b[39m*\u001b[39mmetaparams,\n\u001b[1;32m    501\u001b[0m )\n\u001b[1;32m    502\u001b[0m \u001b[39mreturn\u001b[39;00m tree_util\u001b[39m.\u001b[39mtree_unflatten(out_tree, out_flat)\n",
      "\u001b[0;31mJaxStackTraceBeforeTransformation\u001b[0m: triton.compiler.CompilationError: at 42:35:\ndef fused_dense_kernel(x_ptr, W_ptr, b_ptr, out_ptr,\n                       SUBEMBD_SIZE: tl.constexpr, BLOCK_ROWS: tl.constexpr,\n                       N_EMBD: tl.constexpr):\n    \"\"\"\n    Trition kernel implementing fused layer norm, dense layer and GELU activation.\n\n    Kernel cell i computes out[i * SUBEMBD_SIZE: (i+1) * SUBEMBD_SIZE]. The multiplication\n    is done iteratively on blocks of `BLOCK_ROWS` rows.\n\n    Inputs\n    ------\n    x_ptr: [N_EMBD,] - current token embedding\n    W_ptr: [N_EMBD, 4 * N_EMBD] - dense layer weights\n    b_ptr: [4 * N_EMBD,] - dense layer bias\n\n    Outputs\n    -------\n    out_ptr: [4 * N_EMBD,] - output embedding\n    \"\"\"\n    subembd_start = tl.program_id(0) * SUBEMBD_SIZE\n\n    x_idxs = tl.arange(0, N_EMBD)\n    subembd_idxs = tl.arange(0, SUBEMBD_SIZE) + subembd_start\n\n    x = tl.load(x_ptr + x_idxs)\n\n    # Layer norm x.\n    x_mean = tl.sum(x, axis=0) / N_EMBD\n    x_mean_sq = tl.sum(x * x, axis=0) / N_EMBD\n    x = (x - x_mean) / tl.sqrt(x_mean_sq + 1e-5)\n\n    # Initialise the accumulator with the dense layer bias.\n    acc = tl.load(b_ptr + subembd_idxs)\n\n    n_blocks = tl.cdiv(4 * N_EMBD, BLOCK_ROWS)\n    for block_i in range(0, n_blocks):\n\n        row_idxs = tl.arange(0, BLOCK_ROWS) + block_i * BLOCK_ROWS\n        Wi_idxs = row_idxs[:, None] * 4 * N_EMBD + subembd_idxs[None, :]\n\n        Wi = tl.load(W_ptr + Wi_idxs)\n        acc += tl.sum(x[:, None] * Wi, axis=0)\n                                   ^\n\nThe preceding stack trace is the source of the JAX operation that, once transformed by JAX, triggered the following exception.\n\n--------------------",
      "\nThe above exception was the direct cause of the following exception:\n",
      "\u001b[0;31mCompilationError\u001b[0m                          Traceback (most recent call last)",
      "Cell \u001b[0;32mIn[38], line 5\u001b[0m\n\u001b[1;32m      2\u001b[0m W \u001b[39m=\u001b[39m params[\u001b[39m\"\u001b[39m\u001b[39mparams\u001b[39m\u001b[39m\"\u001b[39m][\u001b[39m\"\u001b[39m\u001b[39mDense_0\u001b[39m\u001b[39m\"\u001b[39m][\u001b[39m\"\u001b[39m\u001b[39mkernel\u001b[39m\u001b[39m\"\u001b[39m]\n\u001b[1;32m      3\u001b[0m b \u001b[39m=\u001b[39m params[\u001b[39m\"\u001b[39m\u001b[39mparams\u001b[39m\u001b[39m\"\u001b[39m][\u001b[39m\"\u001b[39m\u001b[39mDense_0\u001b[39m\u001b[39m\"\u001b[39m][\u001b[39m\"\u001b[39m\u001b[39mbias\u001b[39m\u001b[39m\"\u001b[39m]\n\u001b[0;32m----> 5\u001b[0m out \u001b[39m=\u001b[39m FD\u001b[39m.\u001b[39;49mapply(params, x, y, W, b)\n",
      "    \u001b[0;31m[... skipping hidden 6 frame]\u001b[0m\n",
      "Cell \u001b[0;32mIn[35], line 12\u001b[0m, in \u001b[0;36mFusedDense.__call__\u001b[0;34m(self, x, y, W, b)\u001b[0m\n\u001b[1;32m      9\u001b[0m C, \u001b[39m=\u001b[39m x\u001b[39m.\u001b[39mshape\n\u001b[1;32m     11\u001b[0m x \u001b[39m=\u001b[39m x \u001b[39m+\u001b[39m y\n\u001b[0;32m---> 12\u001b[0m y \u001b[39m=\u001b[39m fused_dense(x, W, b,\n\u001b[1;32m     13\u001b[0m                 \u001b[39mself\u001b[39;49m\u001b[39m.\u001b[39;49mSUBEMBD_SIZE, \u001b[39mself\u001b[39;49m\u001b[39m.\u001b[39;49mBLOCK_ROWS)\n\u001b[1;32m     14\u001b[0m y \u001b[39m=\u001b[39m nn\u001b[39m.\u001b[39mDense(features\u001b[39m=\u001b[39mC)(y)\n\u001b[1;32m     15\u001b[0m x \u001b[39m=\u001b[39m x \u001b[39m+\u001b[39m y\n",
      "Cell \u001b[0;32mIn[34], line 8\u001b[0m, in \u001b[0;36mfused_dense\u001b[0;34m(x, W, b, SUBEMBD_SIZE, BLOCK_ROWS)\u001b[0m\n\u001b[1;32m      5\u001b[0m out_shape \u001b[39m=\u001b[39m jax\u001b[39m.\u001b[39mShapeDtypeStruct((\u001b[39m4\u001b[39m \u001b[39m*\u001b[39m N_EMBD, ), x\u001b[39m.\u001b[39mdtype)\n\u001b[1;32m      6\u001b[0m grid \u001b[39m=\u001b[39m (N_EMBD \u001b[39m/\u001b[39m\u001b[39m/\u001b[39m SUBEMBD_SIZE, )\n\u001b[0;32m----> 8\u001b[0m \u001b[39mreturn\u001b[39;00m jt\u001b[39m.\u001b[39;49mtriton_call(x,\n\u001b[1;32m      9\u001b[0m                       W,\n\u001b[1;32m     10\u001b[0m                       b,\n\u001b[1;32m     11\u001b[0m                       kernel\u001b[39m=\u001b[39;49mfused_dense_kernel,\n\u001b[1;32m     12\u001b[0m                       out_shape\u001b[39m=\u001b[39;49mout_shape,\n\u001b[1;32m     13\u001b[0m                       grid\u001b[39m=\u001b[39;49mgrid,\n\u001b[1;32m     14\u001b[0m                       SUBEMBD_SIZE\u001b[39m=\u001b[39;49mSUBEMBD_SIZE,\n\u001b[1;32m     15\u001b[0m                       BLOCK_ROWS\u001b[39m=\u001b[39;49mBLOCK_ROWS,\n\u001b[1;32m     16\u001b[0m                       N_EMBD\u001b[39m=\u001b[39;49mN_EMBD)\n",
      "File \u001b[0;32m~/jax-triton/jax_triton/triton_lib.py:489\u001b[0m, in \u001b[0;36mtriton_call\u001b[0;34m(kernel, out_shape, grid, call_name, num_warps, num_stages, input_output_aliases, debug, *args, **metaparams)\u001b[0m\n\u001b[1;32m    486\u001b[0m \u001b[39mif\u001b[39;00m input_output_aliases \u001b[39mis\u001b[39;00m \u001b[39mNone\u001b[39;00m:\n\u001b[1;32m    487\u001b[0m   input_output_aliases \u001b[39m=\u001b[39m {}\n\u001b[0;32m--> 489\u001b[0m out_flat \u001b[39m=\u001b[39m triton_kernel_call_p\u001b[39m.\u001b[39;49mbind(\n\u001b[1;32m    490\u001b[0m     \u001b[39m*\u001b[39;49marray_args,\n\u001b[1;32m    491\u001b[0m     fn\u001b[39m=\u001b[39;49mkernel,\n\u001b[1;32m    492\u001b[0m     scalar_args\u001b[39m=\u001b[39;49m\u001b[39mtuple\u001b[39;49m(scalar_args),\n\u001b[1;32m    493\u001b[0m     call_name\u001b[39m=\u001b[39;49mcall_name,\n\u001b[1;32m    494\u001b[0m     out_shapes\u001b[39m=\u001b[39;49m\u001b[39mtuple\u001b[39;49m(flat_out_shapes),\n\u001b[1;32m    495\u001b[0m     grid\u001b[39m=\u001b[39;49mgrid,\n\u001b[1;32m    496\u001b[0m     num_warps\u001b[39m=\u001b[39;49mnum_warps,\n\u001b[1;32m    497\u001b[0m     num_stages\u001b[39m=\u001b[39;49mnum_stages,\n\u001b[1;32m    498\u001b[0m     input_output_aliases\u001b[39m=\u001b[39;49m\u001b[39mtuple\u001b[39;49m(input_output_aliases\u001b[39m.\u001b[39;49mitems()),\n\u001b[1;32m    499\u001b[0m     debug\u001b[39m=\u001b[39;49mdebug,\n\u001b[1;32m    500\u001b[0m     \u001b[39m*\u001b[39;49m\u001b[39m*\u001b[39;49mmetaparams,\n\u001b[1;32m    501\u001b[0m )\n\u001b[1;32m    502\u001b[0m \u001b[39mreturn\u001b[39;00m tree_util\u001b[39m.\u001b[39mtree_unflatten(out_tree, out_flat)\n",
      "    \u001b[0;31m[... skipping hidden 14 frame]\u001b[0m\n",
      "File \u001b[0;32m~/jax-triton/jax_triton/triton_lib.py:298\u001b[0m, in \u001b[0;36mtriton_kernel_call_lowering\u001b[0;34m(ctx, fn, scalar_args, call_name, out_shapes, grid, num_warps, num_stages, input_output_aliases, debug, *array_args, **metaparams)\u001b[0m\n\u001b[1;32m    296\u001b[0m config_metaparams \u001b[39m=\u001b[39m metaparams\u001b[39m.\u001b[39mcopy()\n\u001b[1;32m    297\u001b[0m config_metaparams\u001b[39m.\u001b[39mupdate(config\u001b[39m.\u001b[39mkwargs)\n\u001b[0;32m--> 298\u001b[0m kernel \u001b[39m=\u001b[39m get_or_create_triton_kernel(\n\u001b[1;32m    299\u001b[0m     fn,\n\u001b[1;32m    300\u001b[0m     arg_dtypes,\n\u001b[1;32m    301\u001b[0m     num_warps\u001b[39m=\u001b[39;49mconfig\u001b[39m.\u001b[39;49mnum_warps,\n\u001b[1;32m    302\u001b[0m     num_stages\u001b[39m=\u001b[39;49mconfig\u001b[39m.\u001b[39;49mnum_stages,\n\u001b[1;32m    303\u001b[0m     metaparams\u001b[39m=\u001b[39;49mconfig_metaparams,\n\u001b[1;32m    304\u001b[0m     dump\u001b[39m=\u001b[39;49mdebug,\n\u001b[1;32m    305\u001b[0m )\n\u001b[1;32m    306\u001b[0m grid \u001b[39m=\u001b[39m normalize_grid(grid, config_metaparams)\n\u001b[1;32m    307\u001b[0m kernel_calls\u001b[39m.\u001b[39mappend(\n\u001b[1;32m    308\u001b[0m     triton_kernel_call_lib\u001b[39m.\u001b[39mTritonKernelCall(\n\u001b[1;32m    309\u001b[0m         kernel, grid[\u001b[39m0\u001b[39m], grid[\u001b[39m1\u001b[39m], grid[\u001b[39m2\u001b[39m], encoded_args\n\u001b[1;32m    310\u001b[0m     )\n\u001b[1;32m    311\u001b[0m )\n",
      "File \u001b[0;32m~/jax-triton/jax_triton/triton_lib.py:198\u001b[0m, in \u001b[0;36mget_or_create_triton_kernel\u001b[0;34m(fn, arg_dtypes, num_warps, num_stages, metaparams, dump)\u001b[0m\n\u001b[1;32m    193\u001b[0m \u001b[39mif\u001b[39;00m kernel \u001b[39mis\u001b[39;00m \u001b[39mNone\u001b[39;00m:\n\u001b[1;32m    194\u001b[0m   \u001b[39m# TODO(sharadmv): handle multiple devices, right now we assume device 0\u001b[39;00m\n\u001b[1;32m    195\u001b[0m   \u001b[39m# which is fine when we have multiple of the same GPU but this won't work in\u001b[39;00m\n\u001b[1;32m    196\u001b[0m   \u001b[39m# general.\u001b[39;00m\n\u001b[1;32m    197\u001b[0m   device \u001b[39m=\u001b[39m \u001b[39m0\u001b[39m\n\u001b[0;32m--> 198\u001b[0m   ttir \u001b[39m=\u001b[39m tc\u001b[39m.\u001b[39;49mast_to_ttir(fn, signature, specialization, constants)\n\u001b[1;32m    199\u001b[0m   name, asm, shared_mem \u001b[39m=\u001b[39m compile_ttir(ttir, device\u001b[39m=\u001b[39mdevice, num_warps\u001b[39m=\u001b[39mnum_warps,\n\u001b[1;32m    200\u001b[0m                                        num_stages\u001b[39m=\u001b[39mnum_stages, dump\u001b[39m=\u001b[39mdump)\n\u001b[1;32m    202\u001b[0m   kernel \u001b[39m=\u001b[39m triton_kernel_call_lib\u001b[39m.\u001b[39mTritonKernel(\n\u001b[1;32m    203\u001b[0m       asm[\u001b[39m\"\u001b[39m\u001b[39mcubin\u001b[39m\u001b[39m\"\u001b[39m], name, num_warps, shared_mem\n\u001b[1;32m    204\u001b[0m   )\n",
      "File \u001b[0;32m~/triton/python/triton/compiler.py:975\u001b[0m, in \u001b[0;36mast_to_ttir\u001b[0;34m(fn, signature, specialization, constants)\u001b[0m\n\u001b[1;32m    974\u001b[0m \u001b[39mdef\u001b[39;00m \u001b[39mast_to_ttir\u001b[39m(fn, signature, specialization, constants):\n\u001b[0;32m--> 975\u001b[0m     mod, _ \u001b[39m=\u001b[39m build_triton_ir(fn, signature, specialization, constants)\n\u001b[1;32m    976\u001b[0m     \u001b[39mreturn\u001b[39;00m optimize_triton_ir(mod)\n",
      "File \u001b[0;32m~/triton/python/triton/compiler.py:954\u001b[0m, in \u001b[0;36mbuild_triton_ir\u001b[0;34m(fn, signature, specialization, constants)\u001b[0m\n\u001b[1;32m    952\u001b[0m     \u001b[39mif\u001b[39;00m node \u001b[39mis\u001b[39;00m \u001b[39mNone\u001b[39;00m \u001b[39mor\u001b[39;00m \u001b[39misinstance\u001b[39m(e, (\u001b[39mNotImplementedError\u001b[39;00m, CompilationError)):\n\u001b[1;32m    953\u001b[0m         \u001b[39mraise\u001b[39;00m e\n\u001b[0;32m--> 954\u001b[0m     \u001b[39mraise\u001b[39;00m CompilationError(fn\u001b[39m.\u001b[39msrc, node) \u001b[39mfrom\u001b[39;00m \u001b[39me\u001b[39;00m\n\u001b[1;32m    955\u001b[0m ret \u001b[39m=\u001b[39m generator\u001b[39m.\u001b[39mmodule\n\u001b[1;32m    956\u001b[0m \u001b[39m# module takes ownership of the context\u001b[39;00m\n",
      "\u001b[0;31mCompilationError\u001b[0m: at 42:35:\ndef fused_dense_kernel(x_ptr, W_ptr, b_ptr, out_ptr,\n                       SUBEMBD_SIZE: tl.constexpr, BLOCK_ROWS: tl.constexpr,\n                       N_EMBD: tl.constexpr):\n    \"\"\"\n    Trition kernel implementing fused layer norm, dense layer and GELU activation.\n\n    Kernel cell i computes out[i * SUBEMBD_SIZE: (i+1) * SUBEMBD_SIZE]. The multiplication\n    is done iteratively on blocks of `BLOCK_ROWS` rows.\n\n    Inputs\n    ------\n    x_ptr: [N_EMBD,] - current token embedding\n    W_ptr: [N_EMBD, 4 * N_EMBD] - dense layer weights\n    b_ptr: [4 * N_EMBD,] - dense layer bias\n\n    Outputs\n    -------\n    out_ptr: [4 * N_EMBD,] - output embedding\n    \"\"\"\n    subembd_start = tl.program_id(0) * SUBEMBD_SIZE\n\n    x_idxs = tl.arange(0, N_EMBD)\n    subembd_idxs = tl.arange(0, SUBEMBD_SIZE) + subembd_start\n\n    x = tl.load(x_ptr + x_idxs)\n\n    # Layer norm x.\n    x_mean = tl.sum(x, axis=0) / N_EMBD\n    x_mean_sq = tl.sum(x * x, axis=0) / N_EMBD\n    x = (x - x_mean) / tl.sqrt(x_mean_sq + 1e-5)\n\n    # Initialise the accumulator with the dense layer bias.\n    acc = tl.load(b_ptr + subembd_idxs)\n\n    n_blocks = tl.cdiv(4 * N_EMBD, BLOCK_ROWS)\n    for block_i in range(0, n_blocks):\n\n        row_idxs = tl.arange(0, BLOCK_ROWS) + block_i * BLOCK_ROWS\n        Wi_idxs = row_idxs[:, None] * 4 * N_EMBD + subembd_idxs[None, :]\n\n        Wi = tl.load(W_ptr + Wi_idxs)\n        acc += tl.sum(x[:, None] * Wi, axis=0)\n                                   ^"
     ]
    },
    {
     "ename": "",
     "evalue": "",
     "output_type": "error",
     "traceback": [
      "\u001b[1;31mThe Kernel crashed while executing code in the the current cell or a previous cell. Please review the code in the cell(s) to identify a possible cause of the failure. Click <a href='https://aka.ms/vscodeJupyterKernelCrash'>here</a> for more info. View Jupyter <a href='command:jupyter.viewOutput'>log</a> for further details."
     ]
    }
   ],
   "source": [
    "FD = FusedDense(SUBEMBD_SIZE = 32, BLOCK_ROWS = 32)\n",
    "W = params[\"params\"][\"Dense_0\"][\"kernel\"]\n",
    "b = params[\"params\"][\"Dense_0\"][\"bias\"]\n",
    "\n",
    "out = FD.apply(params, x, y, W, b)"
   ]
  },
  {
   "attachments": {},
   "cell_type": "markdown",
   "metadata": {},
   "source": [
    "# Layer norm and linear layer"
   ]
  },
  {
   "attachments": {},
   "cell_type": "markdown",
   "metadata": {},
   "source": [
    "We implement a fused linear layer + embedding to q, k, v linear layer using Triton. Implement:\n",
    "\n",
    "- baseline"
   ]
  }
 ],
 "metadata": {
  "kernelspec": {
   "display_name": "base",
   "language": "python",
   "name": "python3"
  },
  "language_info": {
   "codemirror_mode": {
    "name": "ipython",
    "version": 3
   },
   "file_extension": ".py",
   "mimetype": "text/x-python",
   "name": "python",
   "nbconvert_exporter": "python",
   "pygments_lexer": "ipython3",
   "version": "3.10.8"
  },
  "orig_nbformat": 4,
  "vscode": {
   "interpreter": {
    "hash": "d4d1e4263499bec80672ea0156c357c1ee493ec2b1c70f0acce89fc37c4a6abe"
   }
  }
 },
 "nbformat": 4,
 "nbformat_minor": 2
}
