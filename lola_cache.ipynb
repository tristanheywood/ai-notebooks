{
 "cells": [
  {
   "attachments": {},
   "cell_type": "markdown",
   "metadata": {},
   "source": [
    "# Lola Caching"
   ]
  },
  {
   "attachments": {},
   "cell_type": "markdown",
   "metadata": {},
   "source": [
    "Explore how triton's cache modifiers affect Lola"
   ]
  },
  {
   "cell_type": "code",
   "execution_count": 1,
   "metadata": {},
   "outputs": [],
   "source": [
    "import os\n",
    "os.environ['XLA_PYTHON_CLIENT_MEM_FRACTION'] = '0.5'"
   ]
  },
  {
   "attachments": {},
   "cell_type": "markdown",
   "metadata": {},
   "source": [
    "# Flax Reference"
   ]
  },
  {
   "cell_type": "code",
   "execution_count": 2,
   "metadata": {},
   "outputs": [
    {
     "name": "stderr",
     "output_type": "stream",
     "text": [
      "/opt/conda/lib/python3.10/site-packages/tqdm/auto.py:22: TqdmWarning: IProgress not found. Please update jupyter and ipywidgets. See https://ipywidgets.readthedocs.io/en/stable/user_install.html\n",
      "  from .autonotebook import tqdm as notebook_tqdm\n"
     ]
    }
   ],
   "source": [
    "import flax.linen as nn\n",
    "import jax.numpy as jnp\n",
    "import jax\n",
    "\n",
    "from nimblegpt import param_shapes"
   ]
  },
  {
   "cell_type": "code",
   "execution_count": 3,
   "metadata": {},
   "outputs": [],
   "source": [
    "n_embd = 1024\n",
    "n_btch = 1024\n",
    "\n",
    "key = jax.random.PRNGKey(0)\n",
    "x = jax.random.normal(key, (n_btch, n_embd), dtype=jnp.float16)"
   ]
  },
  {
   "cell_type": "code",
   "execution_count": 4,
   "metadata": {},
   "outputs": [],
   "source": [
    "def GELU(x):\n",
    "    return 0.5 * x * (1.0 + jnp.tanh(jnp.sqrt(2.0 / jnp.pi) * (x + 0.044715 * x**3)))\n",
    "\n",
    "class FlaxLola(nn.Module):\n",
    "    features: int\n",
    "\n",
    "    @nn.compact\n",
    "    def __call__(self, x):\n",
    "        \n",
    "        x = nn.LayerNorm()(x)\n",
    "        x = nn.Dense(self.features)(x)\n",
    "        x = GELU(x)\n",
    "\n",
    "        return x"
   ]
  },
  {
   "cell_type": "code",
   "execution_count": 5,
   "metadata": {},
   "outputs": [],
   "source": [
    "fl_module = FlaxLola(features=4 * n_embd)\n",
    "params = fl_module.init(key, x)\n",
    "params = jax.tree_util.tree_map(lambda x: x.astype(jnp.float16), params)\n",
    "\n",
    "fl_apply = jax.jit(fl_module.apply)\n",
    "fy = fl_apply(params, x)"
   ]
  },
  {
   "cell_type": "code",
   "execution_count": 6,
   "metadata": {},
   "outputs": [
    {
     "name": "stdout",
     "output_type": "stream",
     "text": [
      "96.6 µs ± 14.1 µs per loop (mean ± std. dev. of 7 runs, 1,000 loops each)\n"
     ]
    }
   ],
   "source": [
    "%%timeit -n 1000\n",
    "\n",
    "fl_apply(params, x)"
   ]
  },
  {
   "attachments": {},
   "cell_type": "markdown",
   "metadata": {},
   "source": [
    "# Torch"
   ]
  },
  {
   "cell_type": "code",
   "execution_count": 7,
   "metadata": {},
   "outputs": [],
   "source": [
    "import torch\n",
    "import numpy as np"
   ]
  },
  {
   "cell_type": "code",
   "execution_count": 33,
   "metadata": {},
   "outputs": [],
   "source": [
    "tkernel = torch.tensor(np.array(params[\"params\"][\"Dense_0\"][\"kernel\"]), device=\"cuda\").contiguous()\n",
    "tweights = tkernel.T.contiguous()\n",
    "tbias = torch.tensor(np.array(params[\"params\"][\"Dense_0\"][\"bias\"]), device=\"cuda\").contiguous()\n",
    "tx = torch.tensor(np.array(x), device=\"cuda\").contiguous()"
   ]
  },
  {
   "attachments": {},
   "cell_type": "markdown",
   "metadata": {},
   "source": [
    "# Triton"
   ]
  },
  {
   "cell_type": "code",
   "execution_count": 9,
   "metadata": {},
   "outputs": [],
   "source": [
    "import torch"
   ]
  },
  {
   "cell_type": "code",
   "execution_count": 10,
   "metadata": {},
   "outputs": [],
   "source": [
    "import triton\n",
    "import triton.language as tl"
   ]
  },
  {
   "cell_type": "code",
   "execution_count": 11,
   "metadata": {},
   "outputs": [],
   "source": [
    "import math\n",
    "\n",
    "sqrt2pi = math.sqrt(2.0 / math.pi)\n",
    "\n",
    "@triton.jit\n",
    "def tanh(x):\n",
    "    \"\"\"Tanh activation function\"\"\"\n",
    "    return tl.libdevice.tanh(x)\n",
    "\n",
    "@triton.jit\n",
    "def fast_gelu(x):\n",
    "    \"\"\"Fast approximation of the gelu function. May slightly decrease accuracy.\"\"\"\n",
    "    return 0.5 * x * (1 + tanh(sqrt2pi * (x + 0.044715 * x * x * x)))"
   ]
  },
  {
   "cell_type": "code",
   "execution_count": 12,
   "metadata": {},
   "outputs": [],
   "source": [
    "acc_dtype = tl.float16\n",
    "\n",
    "\n",
    "@triton.jit\n",
    "def lola_kernel(x_ptr, W_ptr, b_ptr, out_ptr, N_OCOLS: tl.constexpr,\n",
    "                N_BROWS: tl.constexpr, BLOCK_ROWS: tl.constexpr,\n",
    "                N_FEAT_IN: tl.constexpr, N_FEAT_OUT: tl.constexpr):\n",
    "    \"\"\"\n",
    "    Triton kernel implementing fused Layer nOrm, Linear and Activation.\n",
    "\n",
    "    Kernel cell (i, j) computes \n",
    "    out[i * N_BROWS: (i+1) * N_BROWS, j * N_OCOLS: (j+1) * N_OCOLS], by iterating over\n",
    "    `BLOCK_ROWS`-sized blocks of the inputs.\n",
    "\n",
    "    Inputs\n",
    "    ------\n",
    "    x_ptr: [BATCH_SIZE, N_FEAT_IN,] - current token embedding.\n",
    "    W_ptr: [N_FEAT_IN, N_FEAT_OUT] - linear layer weights.\n",
    "    b_ptr: [N_FEAT_OUT,] - linear layer bias.\n",
    "\n",
    "    Outputs\n",
    "    -------\n",
    "    out_ptr: [N_FEAT_OUT,] - output of the fused layer.\n",
    "    \"\"\"\n",
    "    x_brows_start = tl.program_id(0) * N_BROWS\n",
    "    # This instance will process x[b_rows_start:b_rows_start + N_BROWS, :]\n",
    "    x_brows_idxs = tl.arange(0, N_BROWS) + x_brows_start\n",
    "\n",
    "    ocols_start = tl.program_id(1) * N_OCOLS\n",
    "    col_idxs = tl.arange(0, N_OCOLS) + ocols_start\n",
    "\n",
    "    w_dot_x_acc = tl.zeros((N_BROWS, N_OCOLS), dtype=acc_dtype)\n",
    "    w_sum_acc = tl.zeros((N_OCOLS, ), dtype=acc_dtype)\n",
    "    x_sum_acc = tl.zeros((N_BROWS, ), dtype=acc_dtype)\n",
    "    x_sq_sum_acc = tl.zeros((N_BROWS, ), dtype=acc_dtype)\n",
    "\n",
    "    n_blocks = tl.cdiv(N_FEAT_IN, BLOCK_ROWS)\n",
    "    for block_i in range(0, n_blocks):\n",
    "\n",
    "        block_row_idxs = tl.arange(0, BLOCK_ROWS) + block_i * BLOCK_ROWS\n",
    "\n",
    "        # Load the current block of the input.\n",
    "        x_block_idxs = x_brows_idxs[:,\n",
    "                                    None] * N_FEAT_IN + block_row_idxs[None, :]\n",
    "        x_block = tl.load(x_ptr + x_block_idxs).to(\n",
    "            acc_dtype)  # [N_BROWS, BLOCK_ROWS]\n",
    "\n",
    "        W_block_idxs = block_row_idxs[:, None] * N_FEAT_OUT + col_idxs[None, :]\n",
    "        W_block = tl.load(W_ptr + W_block_idxs).to(\n",
    "            acc_dtype)  # [BLOCK_ROWS, N_OCOLS]\n",
    "\n",
    "        # Update the accumulators.\n",
    "        # [N_BROWS, BLOCK_ROWS] @ [BLOCK_ROWS, N_OCOLS] -> [N_BROWS, N_OCOLS]\n",
    "        w_dot_x_acc += tl.dot(x_block, W_block).to(acc_dtype)\n",
    "        # w_dot_x_acc += tl.sum(W_block * x_block[:, None], axis=0)\n",
    "        w_sum_acc += tl.sum(W_block, axis=0)\n",
    "        x_sum_acc += tl.sum(x_block, axis=1)\n",
    "        x_sq_sum_acc += tl.sum(x_block * x_block, axis=1)\n",
    "\n",
    "    bias = tl.load(b_ptr + col_idxs)\n",
    "    x_mean = x_sum_acc / N_FEAT_IN\n",
    "    x_sq_mean = x_sq_sum_acc / N_FEAT_IN\n",
    "\n",
    "    numer = w_dot_x_acc - x_mean[:, None] * w_sum_acc[None, :] + bias[None, :]\n",
    "    denom = tl.sqrt(tl.abs(x_sq_mean - x_mean * x_mean + 1e-5))\n",
    "    out = fast_gelu(numer / denom[:, None])\n",
    "\n",
    "    out_idxs = x_brows_idxs[:, None] * N_FEAT_OUT + col_idxs[None, :]\n",
    "    tl.store(out_ptr + out_idxs, out.to(tl.float16))"
   ]
  },
  {
   "cell_type": "code",
   "execution_count": 13,
   "metadata": {},
   "outputs": [],
   "source": [
    "def triton_lola(\n",
    "    x,\n",
    "    W,\n",
    "    b,\n",
    "    N_OCOLS: int,\n",
    "    N_BROWS: int,\n",
    "    BLOCK_ROWS: int,\n",
    "    num_warps=4,\n",
    "    num_stages=1,\n",
    "):\n",
    "    assert N_BROWS >= 16 and BLOCK_ROWS >= 16 and N_OCOLS >= 16, \"Triton matrix multiplication requires matrix dimensions to be at least 16.\"\n",
    "\n",
    "    N_BATCH = x.shape[0]\n",
    "    N_FEAT_IN, N_FEAT_OUT = W.shape\n",
    "    grid = (\n",
    "        N_BATCH // N_BROWS,\n",
    "        N_FEAT_OUT // N_OCOLS,\n",
    "    )\n",
    "\n",
    "    # Allocate output buffer.\n",
    "    out = torch.zeros((N_BATCH, N_FEAT_OUT), dtype=x.dtype, device=\"cuda\")\n",
    "\n",
    "    # Launch the kernel.\n",
    "    lola_kernel[grid](x,\n",
    "                      W,\n",
    "                      b,\n",
    "                      out,\n",
    "                      N_OCOLS=N_OCOLS,\n",
    "                      N_BROWS=N_BROWS,\n",
    "                      BLOCK_ROWS=BLOCK_ROWS,\n",
    "                      N_FEAT_IN=N_FEAT_IN,\n",
    "                      N_FEAT_OUT=N_FEAT_OUT,\n",
    "                      num_warps=num_warps,\n",
    "                      num_stages=num_stages)\n",
    "\n",
    "    return out"
   ]
  },
  {
   "cell_type": "code",
   "execution_count": 14,
   "metadata": {},
   "outputs": [],
   "source": [
    "ky = triton_lola(tx, tkernel, tbias, N_BROWS=16, N_OCOLS=32, BLOCK_ROWS=64)"
   ]
  },
  {
   "cell_type": "code",
   "execution_count": 15,
   "metadata": {},
   "outputs": [
    {
     "data": {
      "text/plain": [
       "0.007812"
      ]
     },
     "execution_count": 15,
     "metadata": {},
     "output_type": "execute_result"
    }
   ],
   "source": [
    "(np.array(fy) - ky.cpu().numpy()).max()"
   ]
  },
  {
   "cell_type": "code",
   "execution_count": 16,
   "metadata": {},
   "outputs": [],
   "source": [
    "from triton.testing import do_bench\n",
    "from functools import partial"
   ]
  },
  {
   "attachments": {},
   "cell_type": "markdown",
   "metadata": {},
   "source": [
    "Range find:\n",
    "\n",
    "`n_ocols=256, n_brows=32, block_rows=64: 192.51 us`\n"
   ]
  },
  {
   "cell_type": "code",
   "execution_count": 18,
   "metadata": {},
   "outputs": [
    {
     "name": "stdout",
     "output_type": "stream",
     "text": [
      "n_ocols=32, n_brows=16, block_rows=512: 1064.96 us\n",
      "n_ocols=32, n_brows=32, block_rows=256: 638.98 us\n",
      "n_ocols=32, n_brows=32, block_rows=512: 706.56 us\n",
      "n_ocols=32, n_brows=64, block_rows=128: 457.73 us\n",
      "n_ocols=32, n_brows=64, block_rows=256: 490.50 us\n",
      "n_ocols=32, n_brows=128, block_rows=64: 441.34 us\n",
      "n_ocols=32, n_brows=128, block_rows=128: 407.55 us\n",
      "n_ocols=32, n_brows=256, block_rows=32: 464.90 us\n",
      "n_ocols=32, n_brows=256, block_rows=64: 401.41 us\n",
      "n_ocols=32, n_brows=512, block_rows=16: 569.34 us\n",
      "n_ocols=32, n_brows=512, block_rows=32: 515.07 us\n",
      "n_ocols=64, n_brows=16, block_rows=256: 447.49 us\n",
      "n_ocols=64, n_brows=16, block_rows=512: 4956.16 us\n",
      "n_ocols=64, n_brows=32, block_rows=128: 339.97 us\n",
      "n_ocols=64, n_brows=32, block_rows=256: 359.42 us\n",
      "n_ocols=64, n_brows=64, block_rows=64: 319.49 us\n",
      "n_ocols=64, n_brows=64, block_rows=128: 290.82 us\n",
      "n_ocols=64, n_brows=128, block_rows=32: 350.21 us\n",
      "n_ocols=64, n_brows=128, block_rows=64: 290.82 us\n",
      "n_ocols=64, n_brows=256, block_rows=16: 622.59 us\n",
      "n_ocols=64, n_brows=256, block_rows=32: 390.14 us\n",
      "n_ocols=64, n_brows=512, block_rows=16: 573.44 us\n",
      "n_ocols=128, n_brows=16, block_rows=128: 348.16 us\n",
      "n_ocols=128, n_brows=16, block_rows=256: 340.99 us\n",
      "n_ocols=128, n_brows=32, block_rows=64: 283.65 us\n",
      "n_ocols=128, n_brows=32, block_rows=128: 258.05 us\n",
      "n_ocols=128, n_brows=64, block_rows=32: 295.94 us\n",
      "n_ocols=128, n_brows=64, block_rows=64: 200.70 us\n",
      "n_ocols=128, n_brows=128, block_rows=16: 455.68 us\n",
      "n_ocols=128, n_brows=128, block_rows=32: 310.27 us\n",
      "n_ocols=128, n_brows=256, block_rows=16: 439.30 us\n",
      "n_ocols=256, n_brows=16, block_rows=64: 315.39 us\n",
      "n_ocols=256, n_brows=16, block_rows=128: 286.72 us\n",
      "n_ocols=256, n_brows=32, block_rows=32: 266.24 us\n",
      "n_ocols=256, n_brows=32, block_rows=64: 192.51 us\n",
      "n_ocols=256, n_brows=64, block_rows=16: 386.05 us\n",
      "n_ocols=256, n_brows=64, block_rows=32: 268.29 us\n",
      "n_ocols=256, n_brows=128, block_rows=16: 374.78 us\n",
      "n_ocols=512, n_brows=16, block_rows=32: 274.43 us\n",
      "n_ocols=512, n_brows=16, block_rows=64: 280.58 us\n",
      "n_ocols=512, n_brows=32, block_rows=16: 342.02 us\n",
      "n_ocols=512, n_brows=32, block_rows=32: 252.93 us\n",
      "n_ocols=512, n_brows=64, block_rows=16: 339.97 us\n"
     ]
    }
   ],
   "source": [
    "%%script false --no-raise-error\n",
    "\n",
    "for n_ocols in [32, 64, 128, 256, 512]:\n",
    "    for n_brows in [16, 32, 64, 128, 256, 512]:\n",
    "        for block_rows in [16, 32, 64, 128, 256, 512]:\n",
    "            if n_ocols * n_brows * block_rows < 200_000:\n",
    "                continue\n",
    "            if n_ocols * n_brows * block_rows / 4 > 166_000:\n",
    "                continue\n",
    "            print(f\"{n_ocols=}, {n_brows=}, {block_rows=}\", end=\": \")\n",
    "            print(f\"{do_bench(partial(triton_lola, tx, tkernel, tbias, N_OCOLS=n_ocols, N_BROWS=n_brows, BLOCK_ROWS=block_rows), warmup = 100, rep = 100)[0] * 1000:.2f} us\")"
   ]
  },
  {
   "attachments": {},
   "cell_type": "markdown",
   "metadata": {},
   "source": [
    "# `evict-first`"
   ]
  },
  {
   "cell_type": "code",
   "execution_count": 63,
   "metadata": {},
   "outputs": [],
   "source": [
    "acc_dtype = tl.float16\n",
    "\n",
    "\n",
    "@triton.jit\n",
    "def lola_ef_kernel(x_ptr, W_ptr, b_ptr, out_ptr, N_OCOLS: tl.constexpr,\n",
    "                N_BROWS: tl.constexpr, BLOCK_ROWS: tl.constexpr,\n",
    "                N_FEAT_IN: tl.constexpr, N_FEAT_OUT: tl.constexpr):\n",
    "    \"\"\"\n",
    "    Triton kernel implementing fused Layer nOrm, Linear and Activation.\n",
    "\n",
    "    Kernel cell (i, j) computes \n",
    "    out[i * N_BROWS: (i+1) * N_BROWS, j * N_OCOLS: (j+1) * N_OCOLS], by iterating over\n",
    "    `BLOCK_ROWS`-sized blocks of the inputs.\n",
    "\n",
    "    Inputs\n",
    "    ------\n",
    "    x_ptr: [BATCH_SIZE, N_FEAT_IN,] - current token embedding.\n",
    "    W_ptr: [N_FEAT_IN, N_FEAT_OUT] - linear layer weights.\n",
    "    b_ptr: [N_FEAT_OUT,] - linear layer bias.\n",
    "\n",
    "    Outputs\n",
    "    -------\n",
    "    out_ptr: [N_FEAT_OUT,] - output of the fused layer.\n",
    "    \"\"\"\n",
    "    x_brows_start = tl.program_id(0) * N_BROWS\n",
    "    # This instance will process x[b_rows_start:b_rows_start + N_BROWS, :]\n",
    "    x_brows_idxs = tl.arange(0, N_BROWS) + x_brows_start\n",
    "\n",
    "    ocols_start = tl.program_id(1) * N_OCOLS\n",
    "    col_idxs = tl.arange(0, N_OCOLS) + ocols_start\n",
    "\n",
    "    w_dot_x_acc = tl.zeros((N_BROWS, N_OCOLS), dtype=acc_dtype)\n",
    "    w_sum_acc = tl.zeros((N_OCOLS, ), dtype=acc_dtype)\n",
    "    x_sum_acc = tl.zeros((N_BROWS, ), dtype=acc_dtype)\n",
    "    x_sq_sum_acc = tl.zeros((N_BROWS, ), dtype=acc_dtype)\n",
    "\n",
    "    n_blocks = tl.cdiv(N_FEAT_IN, BLOCK_ROWS)\n",
    "    for block_i in range(0, n_blocks):\n",
    "\n",
    "        block_row_idxs = tl.arange(0, BLOCK_ROWS) + block_i * BLOCK_ROWS\n",
    "\n",
    "        # Load the current block of the input.\n",
    "        x_block_idxs = x_brows_idxs[:,\n",
    "                                    None] * N_FEAT_IN + block_row_idxs[None, :]\n",
    "        x_block = tl.load(x_ptr + x_block_idxs, cache_modifier=\".cg\").to(\n",
    "            acc_dtype)  # [N_BROWS, BLOCK_ROWS]\n",
    "\n",
    "        W_block_idxs = block_row_idxs[:, None] * N_FEAT_OUT + col_idxs[None, :]\n",
    "        W_block = tl.load(W_ptr + W_block_idxs, cache_modifier=\".ca\").to(\n",
    "            acc_dtype)  # [BLOCK_ROWS, N_OCOLS]\n",
    "\n",
    "        # Update the accumulators.\n",
    "        # [N_BROWS, BLOCK_ROWS] @ [BLOCK_ROWS, N_OCOLS] -> [N_BROWS, N_OCOLS]\n",
    "        w_dot_x_acc += tl.dot(x_block, W_block).to(acc_dtype)\n",
    "        # w_dot_x_acc += tl.sum(W_block * x_block[:, None], axis=0)\n",
    "        w_sum_acc += tl.sum(W_block, axis=0)\n",
    "        x_sum_acc += tl.sum(x_block, axis=1)\n",
    "        x_sq_sum_acc += tl.sum(x_block * x_block, axis=1)\n",
    "\n",
    "    bias = tl.load(b_ptr + col_idxs)\n",
    "    x_mean = x_sum_acc / N_FEAT_IN\n",
    "    x_sq_mean = x_sq_sum_acc / N_FEAT_IN\n",
    "\n",
    "    numer = w_dot_x_acc - x_mean[:, None] * w_sum_acc[None, :] + bias[None, :]\n",
    "    denom = tl.sqrt(tl.abs(x_sq_mean - x_mean * x_mean + 1e-5))\n",
    "    out = fast_gelu(numer / denom[:, None])\n",
    "\n",
    "    out_idxs = x_brows_idxs[:, None] * N_FEAT_OUT + col_idxs[None, :]\n",
    "    tl.store(out_ptr + out_idxs, out.to(tl.float16))"
   ]
  },
  {
   "cell_type": "code",
   "execution_count": 64,
   "metadata": {},
   "outputs": [],
   "source": [
    "def triton_lola_ef(\n",
    "    x,\n",
    "    W,\n",
    "    b,\n",
    "    N_OCOLS: int,\n",
    "    N_BROWS: int,\n",
    "    BLOCK_ROWS: int,\n",
    "    num_warps=4,\n",
    "    num_stages=1,\n",
    "):\n",
    "    assert N_BROWS >= 16 and BLOCK_ROWS >= 16 and N_OCOLS >= 16, \"Triton matrix multiplication requires matrix dimensions to be at least 16.\"\n",
    "\n",
    "    N_BATCH = x.shape[0]\n",
    "    N_FEAT_IN, N_FEAT_OUT = W.shape\n",
    "    grid = (\n",
    "        N_BATCH // N_BROWS,\n",
    "        N_FEAT_OUT // N_OCOLS,\n",
    "    )\n",
    "\n",
    "    # Allocate output buffer.\n",
    "    out = torch.zeros((N_BATCH, N_FEAT_OUT), dtype=x.dtype, device=\"cuda\")\n",
    "\n",
    "    # Launch the kernel.\n",
    "    lola_ef_kernel[grid](x,\n",
    "                      W,\n",
    "                      b,\n",
    "                      out,\n",
    "                      N_OCOLS=N_OCOLS,\n",
    "                      N_BROWS=N_BROWS,\n",
    "                      BLOCK_ROWS=BLOCK_ROWS,\n",
    "                      N_FEAT_IN=N_FEAT_IN,\n",
    "                      N_FEAT_OUT=N_FEAT_OUT,\n",
    "                      num_warps=num_warps,\n",
    "                      num_stages=num_stages,\n",
    "                      )\n",
    "\n",
    "    return out"
   ]
  },
  {
   "cell_type": "code",
   "execution_count": 65,
   "metadata": {},
   "outputs": [
    {
     "name": "stdout",
     "output_type": "stream",
     "text": [
      "n_ocols=128, n_brows=16, block_rows=128: 351.23 us\n",
      "n_ocols=128, n_brows=32, block_rows=64: 284.67 us\n",
      "n_ocols=128, n_brows=32, block_rows=128: 260.10 us\n",
      "n_ocols=128, n_brows=64, block_rows=32: 297.98 us\n",
      "n_ocols=128, n_brows=64, block_rows=64: 201.73 us\n",
      "n_ocols=256, n_brows=16, block_rows=64: 321.54 us\n",
      "n_ocols=256, n_brows=16, block_rows=128: 289.79 us\n",
      "n_ocols=256, n_brows=32, block_rows=32: 267.26 us\n",
      "n_ocols=256, n_brows=32, block_rows=64: 193.54 us\n",
      "n_ocols=256, n_brows=64, block_rows=32: 269.31 us\n",
      "n_ocols=512, n_brows=16, block_rows=32: 275.46 us\n",
      "n_ocols=512, n_brows=16, block_rows=64: 283.65 us\n",
      "n_ocols=512, n_brows=32, block_rows=32: 256.00 us\n"
     ]
    }
   ],
   "source": [
    "for n_ocols in [128, 256, 512]:\n",
    "    for n_brows in [16, 32, 64]:\n",
    "        for block_rows in [32, 64, 128]:\n",
    "            if n_ocols * n_brows * block_rows < 200_000:\n",
    "                continue\n",
    "            if n_ocols * n_brows * block_rows / 4 > 166_000:\n",
    "                continue\n",
    "            print(f\"{n_ocols=}, {n_brows=}, {block_rows=}\", end=\": \")\n",
    "            print(f\"{do_bench(partial(triton_lola_ef, tx, tkernel, tbias, N_OCOLS=n_ocols, N_BROWS=n_brows, BLOCK_ROWS=block_rows), warmup = 100, rep = 100)[0] * 1000:.2f} us\")"
   ]
  }
 ],
 "metadata": {
  "kernelspec": {
   "display_name": "base",
   "language": "python",
   "name": "python3"
  },
  "language_info": {
   "codemirror_mode": {
    "name": "ipython",
    "version": 3
   },
   "file_extension": ".py",
   "mimetype": "text/x-python",
   "name": "python",
   "nbconvert_exporter": "python",
   "pygments_lexer": "ipython3",
   "version": "3.10.8"
  },
  "orig_nbformat": 4,
  "vscode": {
   "interpreter": {
    "hash": "d4d1e4263499bec80672ea0156c357c1ee493ec2b1c70f0acce89fc37c4a6abe"
   }
  }
 },
 "nbformat": 4,
 "nbformat_minor": 2
}
