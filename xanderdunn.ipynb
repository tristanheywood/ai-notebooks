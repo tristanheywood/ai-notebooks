{
 "cells": [
  {
   "cell_type": "code",
   "execution_count": 25,
   "metadata": {},
   "outputs": [],
   "source": [
    "import torch\n",
    "import triton\n",
    "import triton.language as tl\n",
    "import numpy as np"
   ]
  },
  {
   "cell_type": "code",
   "execution_count": 26,
   "metadata": {},
   "outputs": [],
   "source": [
    "@triton.autotune(\n",
    "    configs=[\n",
    "        triton.Config({'BLOCK_SIZE_M': 128, 'BLOCK_SIZE_N': 256, 'BLOCK_SIZE_K': 32, 'GROUP_SIZE_M': 8}, num_stages=3, num_warps=8),\n",
    "        triton.Config({'BLOCK_SIZE_M': 256, 'BLOCK_SIZE_N': 128, 'BLOCK_SIZE_K': 32, 'GROUP_SIZE_M': 8}, num_stages=3, num_warps=8),\n",
    "        triton.Config({'BLOCK_SIZE_M': 256, 'BLOCK_SIZE_N': 64, 'BLOCK_SIZE_K': 32, 'GROUP_SIZE_M': 8}, num_stages=4, num_warps=4),\n",
    "        triton.Config({'BLOCK_SIZE_M': 64, 'BLOCK_SIZE_N': 256, 'BLOCK_SIZE_K': 32, 'GROUP_SIZE_M': 8}, num_stages=4, num_warps=4),\n",
    "        triton.Config({'BLOCK_SIZE_M': 128, 'BLOCK_SIZE_N': 128, 'BLOCK_SIZE_K': 32, 'GROUP_SIZE_M': 8}, num_stages=4, num_warps=4),\n",
    "        triton.Config({'BLOCK_SIZE_M': 128, 'BLOCK_SIZE_N': 64, 'BLOCK_SIZE_K': 32, 'GROUP_SIZE_M': 8}, num_stages=4, num_warps=4),\n",
    "        triton.Config({'BLOCK_SIZE_M': 64, 'BLOCK_SIZE_N': 128, 'BLOCK_SIZE_K': 32, 'GROUP_SIZE_M': 8}, num_stages=4, num_warps=4),\n",
    "        triton.Config({'BLOCK_SIZE_M': 128, 'BLOCK_SIZE_N': 32, 'BLOCK_SIZE_K': 32, 'GROUP_SIZE_M': 8}, num_stages=4, num_warps=4),\n",
    "        triton.Config({'BLOCK_SIZE_M': 64, 'BLOCK_SIZE_N': 32, 'BLOCK_SIZE_K': 32, 'GROUP_SIZE_M': 8}, num_stages=5, num_warps=2),\n",
    "        triton.Config({'BLOCK_SIZE_M': 32, 'BLOCK_SIZE_N': 64, 'BLOCK_SIZE_K': 32, 'GROUP_SIZE_M': 8}, num_stages=5, num_warps=2),\n",
    "    ],\n",
    "    key=['M', 'N', 'K'],\n",
    ")\n",
    "@triton.jit\n",
    "# FIXME: This can produce a CUDA illegal access out of bounds error if d_model and batch_size aren't a power of 2\n",
    "def gelu_partial_layer_fused_forward(\n",
    "        # Pointers to matrices\n",
    "        x_ptr, W_ptr, A_ptr, z1_ptr, z2_ptr,\n",
    "        # Matrix dimensions\n",
    "        M, N, K,\n",
    "        # The stride variables represent how much to increase the ptr by when moving by 1\n",
    "        # element in a particular dimension. E.g. stride_xm is how much to increase x_ptr\n",
    "        # by to get the element one row down (A has M rows)\n",
    "        stride_xm, stride_xk,\n",
    "        stride_Wk, stride_Wn,\n",
    "        stride_Am, stride_An,\n",
    "        # Meta-parameters\n",
    "        BLOCK_SIZE_M: tl.constexpr, BLOCK_SIZE_N: tl.constexpr, BLOCK_SIZE_K: tl.constexpr,\n",
    "        GROUP_SIZE_M: tl.constexpr,\n",
    "        ):\n",
    "    \"\"\"\n",
    "    1) Compute Z = matmul(x, W) into two halves, Z1 and Z2\n",
    "    2) Compute element-wise multiply A = Z1 * gelu(Z2), this is the activation\n",
    "    3) Return A\n",
    "    x has shape (M, K), W has shape (K, N) and A has shape (M, N//2)\n",
    "    \"\"\"\n",
    "    # L2 Cache Optimizations\n",
    "    pid = tl.program_id(axis=0)\n",
    "    num_pid_m = tl.cdiv(M, BLOCK_SIZE_M)\n",
    "    num_pid_n = tl.cdiv(N, BLOCK_SIZE_N)\n",
    "    num_pid_in_group = GROUP_SIZE_M * num_pid_n\n",
    "    group_id = pid // num_pid_in_group\n",
    "    first_pid_m = group_id * GROUP_SIZE_M\n",
    "    group_size_m = min(num_pid_m - first_pid_m, GROUP_SIZE_M)\n",
    "    pid_m = first_pid_m + (pid % group_size_m)\n",
    "    pid_n = (pid % num_pid_in_group) // group_size_m\n",
    "\n",
    "    # Create pointers for the first blocks of x and W.\n",
    "    offs_xm = pid_m * BLOCK_SIZE_M + tl.arange(0, BLOCK_SIZE_M)\n",
    "    offs_Wn = pid_n * BLOCK_SIZE_N + tl.arange(0, BLOCK_SIZE_N)\n",
    "    offs_k = tl.arange(0, BLOCK_SIZE_K)\n",
    "    x_ptrs = x_ptr + (offs_xm[:, None] * stride_xm + offs_k[None, :] * stride_xk)\n",
    "    W_left_ptrs = W_ptr + (offs_k[:, None] * stride_Wk + offs_Wn[None, :] * stride_Wn)\n",
    "    # offset the start by half of the number of columns\n",
    "    W_right_ptrs = W_ptr + (N // 2) + (offs_k[:, None] * stride_Wk + offs_Wn[None, :] * stride_Wn)\n",
    "\n",
    "    z1 = tl.zeros((BLOCK_SIZE_M, BLOCK_SIZE_N), dtype=tl.float32)\n",
    "    z2 = tl.zeros((BLOCK_SIZE_M, BLOCK_SIZE_N), dtype=tl.float32)\n",
    "    # Matrix multiply A and B, accumulating the first half of columns into x1 and\n",
    "    # the second half of columns into x2\n",
    "    for _ in range(0, K, BLOCK_SIZE_K): # type: ignore\n",
    "        x = tl.load(x_ptrs)\n",
    "\n",
    "        W_left = tl.load(W_left_ptrs)\n",
    "        z1 += tl.dot(x, W_left)\n",
    "\n",
    "        W_right = tl.load(W_right_ptrs)\n",
    "        z2 += tl.dot(x, W_right)\n",
    "\n",
    "        # Advance the ptrs to the next K block\n",
    "        x_ptrs += BLOCK_SIZE_K * stride_xk\n",
    "        W_left_ptrs += BLOCK_SIZE_K * stride_Wk\n",
    "        W_right_ptrs += BLOCK_SIZE_K * stride_Wk\n",
    "\n",
    "    # Store z1 in z1_ptr\n",
    "    offs_cm = pid_m * BLOCK_SIZE_M + tl.arange(0, BLOCK_SIZE_M)\n",
    "    offs_cn = pid_n * BLOCK_SIZE_N + tl.arange(0, BLOCK_SIZE_N)\n",
    "    offsets = stride_Am * offs_cm[:, None] + stride_An * offs_cn[None, :]\n",
    "    outs_mask = (offs_cm[:, None] < M) & (offs_cn[None, :] < N // 2)\n",
    "    tl.store(z1_ptr + offsets, z1, mask=outs_mask)\n",
    "    # Store z2 in z2_ptr\n",
    "    tl.store(z2_ptr + offsets, z2, mask=outs_mask)\n",
    "\n",
    "    # Element-wise multiply of z1 and gelu(z2)\n",
    "    z2 = gelu_fast(z2)\n",
    "    c = z1 * z2\n",
    "    c = c.to(tl.float16)\n",
    "\n",
    "    # Write back the block of the output matrix C\n",
    "    tl.store(A_ptr + offsets, c, mask=outs_mask)\n",
    "\n",
    "\n",
    "@triton.jit\n",
    "def gelu_fast(x):\n",
    "    \"\"\"\n",
    "    From https://pytorch.org/docs/stable/generated/torch.nn.GELU.html\n",
    "    0.5 * x * (1 + tanh(sqrt(2/pi)) * (x + 0.044715 * x**3))\n",
    "    0.5 * x * (1.0 + tl.libdevice.tanh(0.7978845608028654 * (x + 0.044715 * x * x * x)))\n",
    "    \"\"\"\n",
    "    return (\n",
    "            0.5 * x * (1.0 + tl.libdevice.tanh(0.7978845608028654 * x * (1.0 + 0.044715 * x * x)))\n",
    "           )\n"
   ]
  },
  {
   "cell_type": "code",
   "execution_count": 27,
   "metadata": {},
   "outputs": [],
   "source": [
    "@triton.autotune(\n",
    "    configs=[\n",
    "        triton.Config({'BLOCK_SIZE_M': 128, 'BLOCK_SIZE_N': 256, 'BLOCK_SIZE_K': 32, 'GROUP_SIZE_M': 8}, num_stages=3, num_warps=8),\n",
    "        triton.Config({'BLOCK_SIZE_M': 256, 'BLOCK_SIZE_N': 128, 'BLOCK_SIZE_K': 32, 'GROUP_SIZE_M': 8}, num_stages=3, num_warps=8),\n",
    "        triton.Config({'BLOCK_SIZE_M': 256, 'BLOCK_SIZE_N': 64, 'BLOCK_SIZE_K': 32, 'GROUP_SIZE_M': 8}, num_stages=4, num_warps=4),\n",
    "        triton.Config({'BLOCK_SIZE_M': 64, 'BLOCK_SIZE_N': 256, 'BLOCK_SIZE_K': 32, 'GROUP_SIZE_M': 8}, num_stages=4, num_warps=4),\n",
    "        triton.Config({'BLOCK_SIZE_M': 128, 'BLOCK_SIZE_N': 128, 'BLOCK_SIZE_K': 32, 'GROUP_SIZE_M': 8}, num_stages=4, num_warps=4),\n",
    "        triton.Config({'BLOCK_SIZE_M': 128, 'BLOCK_SIZE_N': 64, 'BLOCK_SIZE_K': 32, 'GROUP_SIZE_M': 8}, num_stages=4, num_warps=4),\n",
    "        triton.Config({'BLOCK_SIZE_M': 64, 'BLOCK_SIZE_N': 128, 'BLOCK_SIZE_K': 32, 'GROUP_SIZE_M': 8}, num_stages=4, num_warps=4),\n",
    "        triton.Config({'BLOCK_SIZE_M': 128, 'BLOCK_SIZE_N': 32, 'BLOCK_SIZE_K': 32, 'GROUP_SIZE_M': 8}, num_stages=4, num_warps=4),\n",
    "        triton.Config({'BLOCK_SIZE_M': 64, 'BLOCK_SIZE_N': 32, 'BLOCK_SIZE_K': 32, 'GROUP_SIZE_M': 8}, num_stages=5, num_warps=2),\n",
    "        triton.Config({'BLOCK_SIZE_M': 32, 'BLOCK_SIZE_N': 64, 'BLOCK_SIZE_K': 32, 'GROUP_SIZE_M': 8}, num_stages=5, num_warps=2),\n",
    "    ],\n",
    "    key=['M', 'N', 'K'],\n",
    ")\n",
    "@triton.jit\n",
    "# FIXME: This can produce a CUDA illegal access out of bounds error if d_model and batch_size aren't a power of 2\n",
    "def gelu_partial_layer_fused_forward_splitW(\n",
    "        # Pointers to matrices\n",
    "        x_ptr, Wl_ptr, Wr_ptr, A_ptr, z1_ptr, z2_ptr,\n",
    "        # Matrix dimensions\n",
    "        M, N, K,\n",
    "        # The stride variables represent how much to increase the ptr by when moving by 1\n",
    "        # element in a particular dimension. E.g. stride_xm is how much to increase x_ptr\n",
    "        # by to get the element one row down (A has M rows)\n",
    "        stride_xm, stride_xk,\n",
    "        stride_Wk, stride_Wn,\n",
    "        stride_Am, stride_An,\n",
    "        # Meta-parameters\n",
    "        BLOCK_SIZE_M: tl.constexpr, BLOCK_SIZE_N: tl.constexpr, BLOCK_SIZE_K: tl.constexpr,\n",
    "        GROUP_SIZE_M: tl.constexpr,\n",
    "        ):\n",
    "    \"\"\"\n",
    "    1) Compute Z = matmul(x, W) into two halves, Z1 and Z2\n",
    "    2) Compute element-wise multiply A = Z1 * gelu(Z2), this is the activation\n",
    "    3) Return A\n",
    "    x has shape (M, K), W has shape (K, N) and A has shape (M, N//2)\n",
    "    \"\"\"\n",
    "    # L2 Cache Optimizations\n",
    "    pid = tl.program_id(axis=0)\n",
    "    num_pid_m = tl.cdiv(M, BLOCK_SIZE_M)\n",
    "    num_pid_n = tl.cdiv(N, BLOCK_SIZE_N)\n",
    "    num_pid_in_group = GROUP_SIZE_M * num_pid_n\n",
    "    group_id = pid // num_pid_in_group\n",
    "    first_pid_m = group_id * GROUP_SIZE_M\n",
    "    group_size_m = min(num_pid_m - first_pid_m, GROUP_SIZE_M)\n",
    "    pid_m = first_pid_m + (pid % group_size_m)\n",
    "    pid_n = (pid % num_pid_in_group) // group_size_m\n",
    "\n",
    "    # Create pointers for the first blocks of x and W.\n",
    "    offs_xm = pid_m * BLOCK_SIZE_M + tl.arange(0, BLOCK_SIZE_M)\n",
    "    offs_Wn = pid_n * BLOCK_SIZE_N + tl.arange(0, BLOCK_SIZE_N)\n",
    "    offs_k = tl.arange(0, BLOCK_SIZE_K)\n",
    "    x_ptrs = x_ptr + (offs_xm[:, None] * stride_xm + offs_k[None, :] * stride_xk)\n",
    "    W_left_ptrs = Wl_ptr + (offs_k[:, None] * stride_Wk + offs_Wn[None, :] * stride_Wn)\n",
    "    W_right_ptrs = Wr_ptr + (offs_k[:, None] * stride_Wk + offs_Wn[None, :] * stride_Wn)\n",
    "\n",
    "    z1 = tl.zeros((BLOCK_SIZE_M, BLOCK_SIZE_N), dtype=tl.float32)\n",
    "    z2 = tl.zeros((BLOCK_SIZE_M, BLOCK_SIZE_N), dtype=tl.float32)\n",
    "    # Matrix multiply A and B, accumulating the first half of columns into x1 and\n",
    "    # the second half of columns into x2\n",
    "    # for _ in range(0, K, BLOCK_SIZE_K): # type: ignore\n",
    "    #     x = tl.load(x_ptrs)\n",
    "\n",
    "    #     W_left = tl.load(W_left_ptrs)\n",
    "    #     z1 += tl.dot(x, W_left)\n",
    "\n",
    "    #     W_right = tl.load(W_right_ptrs)\n",
    "    #     z2 += tl.dot(x, W_right)\n",
    "\n",
    "    #     # Advance the ptrs to the next K block\n",
    "    #     x_ptrs += BLOCK_SIZE_K * stride_xk\n",
    "    #     W_left_ptrs += BLOCK_SIZE_K * stride_Wk\n",
    "    #     W_right_ptrs += BLOCK_SIZE_K * stride_Wk\n",
    "\n",
    "    for _ in range(0, K, BLOCK_SIZE_K): # type: ignore\n",
    "        x = tl.load(x_ptrs)\n",
    "\n",
    "        W_left = tl.load(W_left_ptrs)\n",
    "        z1 += tl.dot(x, W_left)\n",
    "\n",
    "        # Advance the ptrs to the next K block\n",
    "        x_ptrs += BLOCK_SIZE_K * stride_xk\n",
    "        W_left_ptrs += BLOCK_SIZE_K * stride_Wk\n",
    "\n",
    "    x_ptrs = x_ptr + (offs_xm[:, None] * stride_xm + offs_k[None, :] * stride_xk)\n",
    "\n",
    "    for _ in range(0, K, BLOCK_SIZE_K): # type: ignore\n",
    "        x = tl.load(x_ptrs)\n",
    "\n",
    "        W_right = tl.load(W_right_ptrs)\n",
    "        z2 += tl.dot(x, W_right)\n",
    "\n",
    "        # Advance the ptrs to the next K block\n",
    "        x_ptrs += BLOCK_SIZE_K * stride_xk\n",
    "        W_right_ptrs += BLOCK_SIZE_K * stride_Wk\n",
    "\n",
    "    # Store z1 in z1_ptr\n",
    "    offs_cm = pid_m * BLOCK_SIZE_M + tl.arange(0, BLOCK_SIZE_M)\n",
    "    offs_cn = pid_n * BLOCK_SIZE_N + tl.arange(0, BLOCK_SIZE_N)\n",
    "    offsets = stride_Am * offs_cm[:, None] + stride_An * offs_cn[None, :]\n",
    "    outs_mask = (offs_cm[:, None] < M) & (offs_cn[None, :] < N // 2)\n",
    "    tl.store(z1_ptr + offsets, z1, mask=outs_mask)\n",
    "    # Store z2 in z2_ptr\n",
    "    tl.store(z2_ptr + offsets, z2, mask=outs_mask)\n",
    "\n",
    "    # Element-wise multiply of z1 and gelu(z2)\n",
    "    z2 = gelu_fast(z2)\n",
    "    c = z1 * z2\n",
    "    c = c.to(tl.float16)\n",
    "\n",
    "    # Write back the block of the output matrix C\n",
    "    tl.store(A_ptr + offsets, c, mask=outs_mask)\n",
    "\n",
    "\n",
    "@triton.jit\n",
    "def gelu_fast(x):\n",
    "    \"\"\"\n",
    "    From https://pytorch.org/docs/stable/generated/torch.nn.GELU.html\n",
    "    0.5 * x * (1 + tanh(sqrt(2/pi)) * (x + 0.044715 * x**3))\n",
    "    0.5 * x * (1.0 + tl.libdevice.tanh(0.7978845608028654 * (x + 0.044715 * x * x * x)))\n",
    "    \"\"\"\n",
    "    return (\n",
    "            0.5 * x * (1.0 + tl.libdevice.tanh(0.7978845608028654 * x * (1.0 + 0.044715 * x * x)))\n",
    "           )\n"
   ]
  },
  {
   "cell_type": "code",
   "execution_count": 28,
   "metadata": {},
   "outputs": [],
   "source": [
    "def gelu_partial_layer(x, W):\n",
    "    # checks constraints\n",
    "    assert x.shape[1] == W.shape[0], \"incompatible dimensions\"\n",
    "    assert x.is_contiguous(), \"matrix A must be contiguous\"\n",
    "    assert W.is_contiguous(), \"matrix B must be contiguous\"\n",
    "    M, K = x.shape\n",
    "    K, N = W.shape\n",
    "    assert (\n",
    "            K % 16 == 0\n",
    "            ), \"We don't check memory-out-of-bounds with K so K must be divisible by BLOCK_SIZE_K\"\n",
    "    # allocates output\n",
    "    A = torch.empty((M, N // 2), device=x.device, dtype=x.dtype)\n",
    "    z1 = torch.empty((M, N // 2), device=x.device, dtype=x.dtype) # same dimensions as the weights\n",
    "    z2 = torch.empty((M, N // 2), device=x.device, dtype=x.dtype)\n",
    "    # 1D launch kernel where each block gets its own program.\n",
    "    grid = lambda META: (\n",
    "            triton.cdiv(M, META['BLOCK_SIZE_M']) * triton.cdiv(N, META['BLOCK_SIZE_N']),\n",
    "            )\n",
    "    gelu_partial_layer_fused_forward[grid]( # type: ignore\n",
    "        x, W, A, z1, z2,\n",
    "        M, N, K,\n",
    "        x.stride(0), x.stride(1),\n",
    "        W.stride(0), W.stride(1),\n",
    "        A.stride(0), A.stride(1),\n",
    "        # In production we would not want to hardcode these, but likely want to\n",
    "        # find them via triton's autotuner.\n",
    "        # BLOCK_SIZE_M=32, # type: ignore\n",
    "        # BLOCK_SIZE_N=64, # type: ignore\n",
    "        # BLOCK_SIZE_K=16, # type: ignore\n",
    "        # GROUP_SIZE_M=8, # type: ignore\n",
    "    )\n",
    "    return A"
   ]
  },
  {
   "cell_type": "code",
   "execution_count": 29,
   "metadata": {},
   "outputs": [],
   "source": [
    "def gelu_partial_layer_splitW(x, Wl, Wr):\n",
    "    # checks constraints\n",
    "    assert x.shape[1] == Wl.shape[0], \"incompatible dimensions\"\n",
    "    assert x.is_contiguous(), \"matrix A must be contiguous\"\n",
    "    assert Wl.is_contiguous(), \"matrix B must be contiguous\"\n",
    "    M, K = x.shape\n",
    "    N = Wl.shape[1] * 2\n",
    "    assert (\n",
    "            K % 16 == 0\n",
    "            ), \"We don't check memory-out-of-bounds with K so K must be divisible by BLOCK_SIZE_K\"\n",
    "    # allocates output\n",
    "    A = torch.empty((M, N // 2), device=x.device, dtype=x.dtype)\n",
    "    z1 = torch.empty((M, N // 2), device=x.device, dtype=x.dtype) # same dimensions as the weights\n",
    "    z2 = torch.empty((M, N // 2), device=x.device, dtype=x.dtype)\n",
    "    # 1D launch kernel where each block gets its own program.\n",
    "    grid = lambda META: (\n",
    "            triton.cdiv(M, META['BLOCK_SIZE_M']) * triton.cdiv(N, META['BLOCK_SIZE_N']),\n",
    "            )\n",
    "    gelu_partial_layer_fused_forward_splitW[grid]( # type: ignore\n",
    "        x, Wl, Wr, A, z1, z2,\n",
    "        M, N, K,\n",
    "        x.stride(0), x.stride(1),\n",
    "        Wl.stride(0), Wl.stride(1),\n",
    "        A.stride(0), A.stride(1),\n",
    "        # In production we would not want to hardcode these, but likely want to\n",
    "        # find them via triton's autotuner.\n",
    "        # BLOCK_SIZE_M=32, # type: ignore\n",
    "        # BLOCK_SIZE_N=64, # type: ignore\n",
    "        # BLOCK_SIZE_K=16, # type: ignore\n",
    "        # GROUP_SIZE_M=8, # type: ignore\n",
    "    )\n",
    "    return A"
   ]
  },
  {
   "cell_type": "code",
   "execution_count": 30,
   "metadata": {},
   "outputs": [],
   "source": [
    "class TorchNN():\n",
    "    def __init__(self, d_model: int):\n",
    "        # TODO: Add the bias back once the bias addition is added to the triton kernel\n",
    "        self.linear = torch.nn.Linear(d_model, 8 * d_model, device='cuda', dtype=torch.float16, bias=False)\n",
    "        self.gelu = torch.nn.GELU()\n",
    "        self.z1: torch.Tensor | None = None\n",
    "        self.z2: torch.Tensor | None = None\n",
    "\n",
    "    def forward(self, x: torch.Tensor) -> torch.Tensor:\n",
    "        Z = self.linear(x)\n",
    "        z1, z2 = torch.chunk(Z, 2, dim=(Z.ndim - 1))\n",
    "        self.z1 = z1\n",
    "        self.z2 = z2\n",
    "        A = z1 * self.gelu(z2)\n",
    "        return A"
   ]
  },
  {
   "cell_type": "code",
   "execution_count": 31,
   "metadata": {},
   "outputs": [],
   "source": [
    "def check_correctness():\n",
    "    print(\"Linear layer -> split in two by column -> GELU on the second half -> element-wise multiply of the first and second halves\")\n",
    "    print(\"In both pytorch and triton to compare correctness...\")\n",
    "    sizes = [2**i for i in range(6, 12)]\n",
    "    print(\"sizes = \", sizes)\n",
    "    for size in sizes:\n",
    "        batch_size = size # TODO: The backprop only works if this is square, where batch_size == d_model\n",
    "        d_model = size\n",
    "        torch.manual_seed(0)\n",
    "        # input to feed forward\n",
    "        x = torch.randn((batch_size, d_model), device='cuda', dtype=torch.float16)\n",
    "\n",
    "        # ptyroch\n",
    "        torch_nn = TorchNN(d_model)\n",
    "        torch_forward = torch_nn.forward(x)\n",
    "        assert torch_nn.z1 is not None\n",
    "        assert torch_nn.z2 is not None\n",
    "        assert not torch.isnan(torch_nn.z1).any()\n",
    "        assert not torch.isinf(torch_nn.z1).any()\n",
    "\n",
    "        linear_weights = torch_nn.linear.state_dict()[\"weight\"].T.contiguous()\n",
    "        triton_forward = gelu_partial_layer(x, linear_weights)\n",
    "\n",
    "        triton.testing.assert_almost_equal(triton_forward, torch_forward)\n",
    "        print(f\"Forward ({size}, {size}): ✅ Triton and Torch match\")"
   ]
  },
  {
   "cell_type": "code",
   "execution_count": 32,
   "metadata": {},
   "outputs": [
    {
     "name": "stdout",
     "output_type": "stream",
     "text": [
      "Linear layer -> split in two by column -> GELU on the second half -> element-wise multiply of the first and second halves\n",
      "In both pytorch and triton to compare correctness...\n",
      "sizes =  [64, 128, 256, 512, 1024, 2048]\n",
      "Forward (64, 64): ✅ Triton and Torch match\n",
      "Forward (128, 128): ✅ Triton and Torch match\n",
      "Forward (256, 256): ✅ Triton and Torch match\n",
      "Forward (512, 512): ✅ Triton and Torch match\n",
      "Forward (1024, 1024): ✅ Triton and Torch match\n",
      "Forward (2048, 2048): ✅ Triton and Torch match\n"
     ]
    }
   ],
   "source": [
    "check_correctness()"
   ]
  },
  {
   "cell_type": "code",
   "execution_count": 33,
   "metadata": {},
   "outputs": [],
   "source": [
    "def check_correctness_splitW():\n",
    "    print(\"Linear layer -> split in two by column -> GELU on the second half -> element-wise multiply of the first and second halves\")\n",
    "    print(\"In both pytorch and triton to compare correctness...\")\n",
    "    sizes = [2**i for i in range(6, 12)]\n",
    "    print(\"sizes = \", sizes)\n",
    "    for size in sizes:\n",
    "        batch_size = size # TODO: The backprop only works if this is square, where batch_size == d_model\n",
    "        d_model = size\n",
    "        torch.manual_seed(0)\n",
    "        # input to feed forward\n",
    "        x = torch.randn((batch_size, d_model), device='cuda', dtype=torch.float16)\n",
    "\n",
    "        # ptyroch\n",
    "        torch_nn = TorchNN(d_model)\n",
    "        torch_forward = torch_nn.forward(x)\n",
    "        assert torch_nn.z1 is not None\n",
    "        assert torch_nn.z2 is not None\n",
    "        assert not torch.isnan(torch_nn.z1).any()\n",
    "        assert not torch.isinf(torch_nn.z1).any()\n",
    "\n",
    "        linear_weights = torch_nn.linear.state_dict()[\"weight\"].T.contiguous()\n",
    "        Wl, Wr = torch.chunk(linear_weights, 2, dim=1)\n",
    "        Wl = Wl.contiguous()\n",
    "        Wr = Wr.contiguous()\n",
    "        triton_forward = gelu_partial_layer_splitW(x, Wl, Wr)\n",
    "\n",
    "        triton.testing.assert_almost_equal(triton_forward, torch_forward)\n",
    "        print(f\"Forward ({size}, {size}): ✅ Triton and Torch match\")"
   ]
  },
  {
   "cell_type": "code",
   "execution_count": 34,
   "metadata": {},
   "outputs": [
    {
     "name": "stdout",
     "output_type": "stream",
     "text": [
      "Linear layer -> split in two by column -> GELU on the second half -> element-wise multiply of the first and second halves\n",
      "In both pytorch and triton to compare correctness...\n",
      "sizes =  [64, 128, 256, 512, 1024, 2048]\n",
      "Forward (64, 64): ✅ Triton and Torch match\n",
      "Forward (128, 128): ✅ Triton and Torch match\n",
      "Forward (256, 256): ✅ Triton and Torch match\n",
      "Forward (512, 512): ✅ Triton and Torch match\n",
      "Forward (1024, 1024): ✅ Triton and Torch match\n",
      "Forward (2048, 2048): ✅ Triton and Torch match\n"
     ]
    }
   ],
   "source": [
    "check_correctness_splitW()"
   ]
  },
  {
   "cell_type": "code",
   "execution_count": 35,
   "metadata": {},
   "outputs": [],
   "source": [
    "@triton.testing.perf_report(\n",
    "    triton.testing.Benchmark(\n",
    "        x_names=['size'],  # argument names to use as an x-axis for the plot\n",
    "        x_vals = [2**i for i in range(5, 13)],\n",
    "        # x_vals=[\n",
    "            # 128 * i for i in range(2, 33)\n",
    "        # ],  # different possible values for `x_name`\n",
    "        line_arg='provider',  # argument name whose value corresponds to a different line in the plot\n",
    "        # possible values for `line_arg``\n",
    "        line_vals=['pytorch', 'triton', 'triton-split'],\n",
    "        # label name for the lines\n",
    "        line_names=[\"PyTorch\", \"Triton\", \"Triton (split weights)\"],\n",
    "        # line styles\n",
    "        styles=[('green', '-'), ('blue', '-'), ('red', '-')],\n",
    "        ylabel=\"TFLOPS\",  # label name for the y-axis\n",
    "        plot_name=\"partial-gelu-performance\",  # name for the plot. Used also as a file name for saving the plot.\n",
    "        args={\"mode\": \"forward\"},\n",
    "    )\n",
    ")\n",
    "\n",
    "\n",
    "def benchmark(size, provider: str, mode: str):\n",
    "    print(f\"{provider} benchmarking on ({size}, {size})...\")\n",
    "    torch_nn = TorchNN(size)\n",
    "    linear_weights = torch_nn.linear.state_dict()[\"weight\"].T.contiguous()\n",
    "    Wl, Wr = torch.chunk(linear_weights, 2, dim=1)\n",
    "    Wl = Wl.contiguous()\n",
    "    Wr = Wr.contiguous()\n",
    "    x = torch.randn((size, size), device='cuda', dtype=torch.float16)\n",
    "    if provider == 'pytorch':\n",
    "        ms, min_ms, max_ms = triton.testing.do_bench(lambda: torch_nn.forward(x))\n",
    "    if provider == 'triton':\n",
    "        ms, min_ms, max_ms = triton.testing.do_bench(lambda: gelu_partial_layer(x, linear_weights))\n",
    "    if provider == 'triton-split':\n",
    "        ms, min_ms, max_ms = triton.testing.do_bench(lambda: gelu_partial_layer_splitW(x, Wl, Wr))\n",
    "    perf = lambda ms: 2 * size * size * size  * 1e-12 / (ms * 1e-3)\n",
    "    return perf(ms), perf(max_ms), perf(min_ms)\n",
    "\n",
    "def run_benchmarks():\n",
    "    print(\"Running benchmark...\")\n",
    "    benchmark.run(print_data=True, save_path=\"./\")"
   ]
  },
  {
   "cell_type": "code",
   "execution_count": 36,
   "metadata": {},
   "outputs": [
    {
     "name": "stdout",
     "output_type": "stream",
     "text": [
      "Running benchmark...\n",
      "pytorch benchmarking on (32, 32)...\n",
      "triton benchmarking on (32, 32)...\n",
      "triton-split benchmarking on (32, 32)...\n",
      "pytorch benchmarking on (64, 64)...\n",
      "triton benchmarking on (64, 64)...\n",
      "triton-split benchmarking on (64, 64)...\n",
      "pytorch benchmarking on (128, 128)...\n",
      "triton benchmarking on (128, 128)...\n",
      "triton-split benchmarking on (128, 128)...\n",
      "pytorch benchmarking on (256, 256)...\n",
      "triton benchmarking on (256, 256)...\n",
      "triton-split benchmarking on (256, 256)...\n",
      "pytorch benchmarking on (512, 512)...\n",
      "triton benchmarking on (512, 512)...\n",
      "triton-split benchmarking on (512, 512)...\n",
      "pytorch benchmarking on (1024, 1024)...\n",
      "triton benchmarking on (1024, 1024)...\n",
      "triton-split benchmarking on (1024, 1024)...\n",
      "pytorch benchmarking on (2048, 2048)...\n",
      "triton benchmarking on (2048, 2048)...\n",
      "triton-split benchmarking on (2048, 2048)...\n",
      "pytorch benchmarking on (4096, 4096)...\n",
      "triton benchmarking on (4096, 4096)...\n",
      "triton-split benchmarking on (4096, 4096)...\n",
      "partial-gelu-performance:\n",
      "     size    PyTorch    Triton  Triton (split weights)\n",
      "0    32.0   0.003765  0.005818                0.005333\n",
      "1    64.0   0.030118  0.042667                0.039385\n",
      "2   128.0   0.215579  0.292571                0.292571\n",
      "3   256.0   1.489455  1.560381                1.724632\n",
      "4   512.0   7.281778  4.681143                4.946113\n",
      "5  1024.0  17.189771  7.738568                9.619963\n",
      "6  2048.0  24.070611  8.993415               10.979853\n",
      "7  4096.0  28.079022  9.291640               11.463762\n"
     ]
    },
    {
     "data": {
      "image/png": "[encoded data removed]",
      "text/plain": [
       "<Figure size 640x480 with 1 Axes>"
      ]
     },
     "metadata": {},
     "output_type": "display_data"
    }
   ],
   "source": [
    "run_benchmarks()"
   ]
  },
  {
   "cell_type": "code",
   "execution_count": 37,
   "metadata": {},
   "outputs": [],
   "source": [
    "d_model = 64\n",
    "batch_size = 32\n",
    "\n",
    "x = torch.randn((batch_size, d_model), device='cuda', dtype=torch.float16)\n",
    "linear = torch.nn.Linear(d_model, 8 * d_model, device='cuda', dtype=torch.float16, bias=False)\n",
    "linear_weights = linear.state_dict()[\"weight\"].T.contiguous()"
   ]
  },
  {
   "cell_type": "code",
   "execution_count": 38,
   "metadata": {},
   "outputs": [
    {
     "data": {
      "text/plain": [
       "torch.Size([64, 512])"
      ]
     },
     "execution_count": 38,
     "metadata": {},
     "output_type": "execute_result"
    }
   ],
   "source": [
    "linear_weights.shape"
   ]
  },
  {
   "cell_type": "code",
   "execution_count": 39,
   "metadata": {},
   "outputs": [
    {
     "data": {
      "text/plain": [
       "(torch.Size([64, 512]), torch.Size([64, 256]), torch.Size([64, 256]))"
      ]
     },
     "execution_count": 39,
     "metadata": {},
     "output_type": "execute_result"
    }
   ],
   "source": [
    "Wl, Wr = torch.chunk(linear_weights, 2, dim=1)\n",
    "Wl = Wl.contiguous()\n",
    "Wr = Wr.contiguous()\n",
    "linear_weights.shape, Wl.shape, Wr.shape"
   ]
  },
  {
   "cell_type": "code",
   "execution_count": 40,
   "metadata": {},
   "outputs": [
    {
     "data": {
      "text/plain": [
       "torch.Size([32, 64])"
      ]
     },
     "execution_count": 40,
     "metadata": {},
     "output_type": "execute_result"
    }
   ],
   "source": [
    "x.shape"
   ]
  },
  {
   "cell_type": "code",
   "execution_count": 41,
   "metadata": {},
   "outputs": [],
   "source": [
    "Z = linear(x)\n",
    "z1, z2 = torch.chunk(Z, 2, dim=(Z.ndim - 1))"
   ]
  },
  {
   "cell_type": "code",
   "execution_count": 42,
   "metadata": {},
   "outputs": [
    {
     "data": {
      "text/plain": [
       "(torch.Size([32, 512]), torch.Size([32, 256]), torch.Size([32, 256]))"
      ]
     },
     "execution_count": 42,
     "metadata": {},
     "output_type": "execute_result"
    }
   ],
   "source": [
    "Z.shape, z1.shape, z2.shape"
   ]
  },
  {
   "cell_type": "code",
   "execution_count": 43,
   "metadata": {},
   "outputs": [
    {
     "data": {
      "text/plain": [
       "tensor([[ 9.6680e-01, -3.7378e-01,  1.6577e-01,  ...,  4.0894e-01,\n",
       "          3.7036e-01, -4.9438e-01],\n",
       "        [-3.8428e-01, -7.6074e-01,  7.0312e-01,  ..., -2.4426e-01,\n",
       "         -2.4121e-01,  4.2407e-01],\n",
       "        [-7.4072e-01, -1.7810e-01, -2.4487e-01,  ...,  7.5049e-01,\n",
       "          7.0496e-02,  4.6680e-01],\n",
       "        ...,\n",
       "        [-5.4980e-01, -7.3047e-01,  2.4622e-01,  ...,  6.0742e-01,\n",
       "         -1.1597e-01, -2.4854e-01],\n",
       "        [ 5.9717e-01, -2.8809e-01, -5.0098e-01,  ..., -1.0176e-03,\n",
       "         -2.9810e-01,  1.2067e-01],\n",
       "        [-1.1514e+00, -4.2114e-01,  1.3311e+00,  ..., -5.4199e-01,\n",
       "          1.5076e-01, -3.3569e-01]], device='cuda:0', dtype=torch.float16)"
      ]
     },
     "execution_count": 43,
     "metadata": {},
     "output_type": "execute_result"
    }
   ],
   "source": [
    "x @ linear_weights"
   ]
  },
  {
   "cell_type": "code",
   "execution_count": 44,
   "metadata": {},
   "outputs": [
    {
     "data": {
      "text/plain": [
       "tensor([[ 9.6680e-01, -3.7378e-01,  1.6577e-01,  ...,  4.0894e-01,\n",
       "          3.7036e-01, -4.9438e-01],\n",
       "        [-3.8428e-01, -7.6074e-01,  7.0312e-01,  ..., -2.4426e-01,\n",
       "         -2.4121e-01,  4.2407e-01],\n",
       "        [-7.4072e-01, -1.7810e-01, -2.4487e-01,  ...,  7.5049e-01,\n",
       "          7.0496e-02,  4.6680e-01],\n",
       "        ...,\n",
       "        [-5.4980e-01, -7.3047e-01,  2.4622e-01,  ...,  6.0742e-01,\n",
       "         -1.1597e-01, -2.4854e-01],\n",
       "        [ 5.9717e-01, -2.8809e-01, -5.0098e-01,  ..., -1.0176e-03,\n",
       "         -2.9810e-01,  1.2067e-01],\n",
       "        [-1.1514e+00, -4.2114e-01,  1.3311e+00,  ..., -5.4199e-01,\n",
       "          1.5076e-01, -3.3569e-01]], device='cuda:0', dtype=torch.float16,\n",
       "       grad_fn=<MmBackward0>)"
      ]
     },
     "execution_count": 44,
     "metadata": {},
     "output_type": "execute_result"
    }
   ],
   "source": [
    "Z"
   ]
  },
  {
   "cell_type": "code",
   "execution_count": 45,
   "metadata": {},
   "outputs": [
    {
     "data": {
      "text/plain": [
       "tensor([[ 0.9668, -0.3738,  0.1658,  ..., -0.3020, -0.3372,  0.3347],\n",
       "        [-0.3843, -0.7607,  0.7031,  ..., -0.5679, -0.4856, -0.6963],\n",
       "        [-0.7407, -0.1781, -0.2449,  ..., -0.4575, -0.8945, -0.4456],\n",
       "        ...,\n",
       "        [-0.5498, -0.7305,  0.2462,  ...,  0.5728,  0.1236, -0.5962],\n",
       "        [ 0.5972, -0.2881, -0.5010,  ..., -0.3232,  0.2883,  0.1147],\n",
       "        [-1.1514, -0.4211,  1.3311,  ..., -0.8276, -1.5098, -0.3279]],\n",
       "       device='cuda:0', dtype=torch.float16)"
      ]
     },
     "execution_count": 45,
     "metadata": {},
     "output_type": "execute_result"
    }
   ],
   "source": [
    "x @ Wl"
   ]
  },
  {
   "cell_type": "code",
   "execution_count": 46,
   "metadata": {},
   "outputs": [
    {
     "data": {
      "text/plain": [
       "tensor([[ 3.7048e-02,  3.9453e-01,  9.5749e-03,  ...,  4.0894e-01,\n",
       "          3.7036e-01, -4.9438e-01],\n",
       "        [ 1.0566e+00, -8.2886e-02, -4.0674e-01,  ..., -2.4426e-01,\n",
       "         -2.4121e-01,  4.2407e-01],\n",
       "        [ 1.2100e+00, -4.3555e-01, -1.7224e-01,  ...,  7.5049e-01,\n",
       "          7.0496e-02,  4.6680e-01],\n",
       "        ...,\n",
       "        [-2.1881e-02,  3.4497e-01,  2.2766e-01,  ...,  6.0742e-01,\n",
       "         -1.1597e-01, -2.4854e-01],\n",
       "        [ 9.3311e-01,  7.9199e-01, -1.2805e-01,  ..., -1.0176e-03,\n",
       "         -2.9810e-01,  1.2067e-01],\n",
       "        [-3.6548e-01,  7.4036e-02, -5.0586e-01,  ..., -5.4199e-01,\n",
       "          1.5076e-01, -3.3569e-01]], device='cuda:0', dtype=torch.float16)"
      ]
     },
     "execution_count": 46,
     "metadata": {},
     "output_type": "execute_result"
    }
   ],
   "source": [
    "x @ Wr"
   ]
  },
  {
   "cell_type": "code",
   "execution_count": 47,
   "metadata": {},
   "outputs": [],
   "source": [
    "tz = gelu_partial_layer_splitW(x, Wl, Wr)"
   ]
  },
  {
   "cell_type": "code",
   "execution_count": 48,
   "metadata": {},
   "outputs": [
    {
     "data": {
      "text/plain": [
       "torch.Size([32, 256])"
      ]
     },
     "execution_count": 48,
     "metadata": {},
     "output_type": "execute_result"
    }
   ],
   "source": [
    "tz.shape"
   ]
  }
 ],
 "metadata": {
  "kernelspec": {
   "display_name": "base",
   "language": "python",
   "name": "python3"
  },
  "language_info": {
   "codemirror_mode": {
    "name": "ipython",
    "version": 3
   },
   "file_extension": ".py",
   "mimetype": "text/x-python",
   "name": "python",
   "nbconvert_exporter": "python",
   "pygments_lexer": "ipython3",
   "version": "3.10.8"
  },
  "orig_nbformat": 4,
  "vscode": {
   "interpreter": {
    "hash": "d4d1e4263499bec80672ea0156c357c1ee493ec2b1c70f0acce89fc37c4a6abe"
   }
  }
 },
 "nbformat": 4,
 "nbformat_minor": 2
}
